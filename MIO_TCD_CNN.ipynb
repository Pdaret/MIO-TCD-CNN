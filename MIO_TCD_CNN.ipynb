{
  "cells": [
    {
      "cell_type": "markdown",
      "metadata": {
        "id": "view-in-github",
        "colab_type": "text"
      },
      "source": [
        "<a href=\"https://colab.research.google.com/github/Pdaret/MIO-TCD-CNN/blob/main/MIO_TCD_CNN.ipynb\" target=\"_parent\"><img src=\"https://colab.research.google.com/assets/colab-badge.svg\" alt=\"Open In Colab\"/></a>"
      ]
    },
    {
      "cell_type": "markdown",
      "metadata": {
        "id": "eQLpwxROLMjy"
      },
      "source": [
        "# <font color = 'red'># Part 1</font>"
      ]
    },
    {
      "cell_type": "markdown",
      "metadata": {
        "id": "bei6FmA1-80Q"
      },
      "source": [
        "# Under Fitting Model \n",
        "\n",
        "To induce underfitting in our model, we can make it less complex or reduce the capacity of the model. Here are a few modifications we can make to our model to encourage underfitting:\n",
        "\n",
        "1. Decrease the number of filters in the convolutional layers: By reducing the number of filters, the model will extract fewer features, leading to a simpler representation.\n",
        "\n",
        "2. Remove a convolutional layer: Removing a layer reduces the depth of the model and further simplifies it.\n",
        "\n",
        "3. Reduce the number of neurons in the dense layer: By decreasing the number of neurons, you reduce the complexity of the model's fully connected layers."
      ]
    },
    {
      "cell_type": "code",
      "execution_count": null,
      "metadata": {
        "colab": {
          "base_uri": "https://localhost:8080/"
        },
        "id": "vEzou18eC9Nv",
        "outputId": "20aa422a-29c0-43a1-ae82-bdbfe31c4178"
      },
      "outputs": [
        {
          "name": "stdout",
          "output_type": "stream",
          "text": [
            "Found 12566 images belonging to 5 classes.\n",
            "Found 1701 images belonging to 5 classes.\n"
          ]
        }
      ],
      "source": [
        "import tensorflow as tf\n",
        "from tensorflow.keras.preprocessing.image import ImageDataGenerator\n",
        "\n",
        "train_datagen = ImageDataGenerator(rescale=1./255)\n",
        "train_generator = train_datagen.flow_from_directory(\n",
        "    '/content/drive/MyDrive/Colab Notebooks/FCI_HW02/HW02-Practical/Dataset/train',\n",
        "    target_size=(128, 128),\n",
        "    batch_size=32,\n",
        "    class_mode='categorical'\n",
        ")\n",
        "\n",
        "validation_datagen = ImageDataGenerator(rescale=1./255)\n",
        "validation_generator = validation_datagen.flow_from_directory(\n",
        "    '/content/drive/MyDrive/Colab Notebooks/FCI_HW02/HW02-Practical/Dataset/valid',\n",
        "    target_size=(128, 128),\n",
        "    batch_size=32,\n",
        "    class_mode='categorical'\n",
        ")\n"
      ]
    },
    {
      "cell_type": "code",
      "execution_count": null,
      "metadata": {
        "id": "HZjy9Qs8JCPm"
      },
      "outputs": [],
      "source": [
        "import tensorflow as tf\n",
        "from tensorflow.keras.preprocessing.image import ImageDataGenerator\n",
        "from tensorflow.keras.models import Sequential\n",
        "from tensorflow.keras.layers import Conv2D, MaxPooling2D, Flatten, Dense\n",
        "\n",
        "\n",
        "model = Sequential()\n",
        "\n",
        "model.add(Conv2D(32, (3, 3), activation='relu', input_shape=(128, 128, 3)))\n",
        "model.add(MaxPooling2D(pool_size=(2, 2)))\n",
        "\n",
        "model.add(Conv2D(64, (3, 3), activation='relu'))\n",
        "model.add(MaxPooling2D(pool_size=(2, 2)))\n",
        "\n",
        "model.add(Conv2D(128, (3, 3), activation='relu'))\n",
        "model.add(MaxPooling2D(pool_size=(2, 2)))\n",
        "\n",
        "model.add(Flatten())\n",
        "model.add(Dense(256, activation='relu'))\n",
        "model.add(Dense(5, activation='softmax'))\n",
        "\n",
        "\n",
        "model.compile(loss='categorical_crossentropy', optimizer='adam', metrics=['accuracy'])"
      ]
    },
    {
      "cell_type": "code",
      "execution_count": null,
      "metadata": {
        "colab": {
          "base_uri": "https://localhost:8080/"
        },
        "id": "VrnQrR7nm7Xc",
        "outputId": "5152d285-e3c4-4ec3-9630-a2578f07c1db"
      },
      "outputs": [
        {
          "name": "stdout",
          "output_type": "stream",
          "text": [
            "Epoch 1/10\n",
            "100/100 [==============================] - 66s 647ms/step - loss: 1.6657 - accuracy: 0.2138 - val_loss: 1.6083 - val_accuracy: 0.0037\n",
            "Epoch 2/10\n",
            "100/100 [==============================] - 59s 580ms/step - loss: 1.6093 - accuracy: 0.2091 - val_loss: 1.6167 - val_accuracy: 0.0031\n",
            "Epoch 3/10\n",
            "100/100 [==============================] - 55s 547ms/step - loss: 1.6080 - accuracy: 0.2166 - val_loss: 1.6240 - val_accuracy: 0.0037\n",
            "Epoch 4/10\n",
            "100/100 [==============================] - 49s 488ms/step - loss: 1.6085 - accuracy: 0.2060 - val_loss: 1.6281 - val_accuracy: 0.0025\n",
            "Epoch 5/10\n",
            "100/100 [==============================] - 53s 520ms/step - loss: 1.6087 - accuracy: 0.2103 - val_loss: 1.6251 - val_accuracy: 0.0037\n",
            "Epoch 6/10\n",
            "100/100 [==============================] - 50s 496ms/step - loss: 1.6080 - accuracy: 0.2069 - val_loss: 1.6267 - val_accuracy: 0.2463\n",
            "Epoch 7/10\n",
            "100/100 [==============================] - 52s 512ms/step - loss: 1.6065 - accuracy: 0.2266 - val_loss: 1.6372 - val_accuracy: 0.0037\n",
            "Epoch 8/10\n",
            "100/100 [==============================] - 49s 486ms/step - loss: 1.6070 - accuracy: 0.2188 - val_loss: 1.6367 - val_accuracy: 0.0063\n",
            "Epoch 9/10\n",
            "100/100 [==============================] - 49s 487ms/step - loss: 1.6056 - accuracy: 0.2206 - val_loss: 1.6448 - val_accuracy: 0.0037\n",
            "Epoch 10/10\n",
            "100/100 [==============================] - 60s 605ms/step - loss: 1.6064 - accuracy: 0.2172 - val_loss: 1.6469 - val_accuracy: 0.0037\n"
          ]
        }
      ],
      "source": [
        "history = model.fit(\n",
        "    train_generator,\n",
        "    steps_per_epoch=train_generator.n // train_generator.batch_size,\n",
        "    epochs=10,\n",
        "    validation_data=validation_generator,\n",
        "    validation_steps=validation_generator.n // validation_generator.batch_size\n",
        ")"
      ]
    },
    {
      "cell_type": "code",
      "execution_count": null,
      "metadata": {
        "colab": {
          "base_uri": "https://localhost:8080/",
          "height": 472
        },
        "id": "bwzcLLmb-SOO",
        "outputId": "acbfbd22-376e-4961-ab34-297b29205bc7"
      },
      "outputs": [
        {
          "data": {
            "image/png": "[encoded data removed]",
            "text/plain": [
              "<Figure size 640x480 with 1 Axes>"
            ]
          },
          "metadata": {},
          "output_type": "display_data"
        }
      ],
      "source": [
        "import matplotlib.pyplot as plt\n",
        "\n",
        "# Accessing the loss values\n",
        "train_loss = history.history['loss']\n",
        "val_loss = history.history['val_loss']\n",
        "\n",
        "# Plotting the loss values\n",
        "epochs = range(1, len(train_loss) + 1)\n",
        "\n",
        "plt.plot(epochs, train_loss, 'b', label='Training loss')\n",
        "plt.plot(epochs, val_loss, 'r', label='Validation loss')\n",
        "plt.title('Training and Validation Loss')\n",
        "plt.xlabel('Epochs')\n",
        "plt.ylabel('Loss')\n",
        "plt.legend()\n",
        "plt.show()\n"
      ]
    },
    {
      "cell_type": "code",
      "execution_count": null,
      "metadata": {
        "colab": {
          "base_uri": "https://localhost:8080/"
        },
        "id": "M6Sr9EbTnBGM",
        "outputId": "14051c2c-1778-4f7d-ea11-25d6b2a460ff"
      },
      "outputs": [
        {
          "name": "stdout",
          "output_type": "stream",
          "text": [
            "Found 5000 images belonging to 5 classes.\n"
          ]
        },
        {
          "name": "stderr",
          "output_type": "stream",
          "text": [
            "<ipython-input-11-cacc37e2706b>:9: UserWarning: `Model.evaluate_generator` is deprecated and will be removed in a future version. Please use `Model.evaluate`, which supports generators.\n",
            "  score = model.evaluate_generator(test_generator)\n"
          ]
        },
        {
          "name": "stdout",
          "output_type": "stream",
          "text": [
            "Test loss: 1.6117362976074219\n",
            "Test accuracy: 0.20000000298023224\n"
          ]
        }
      ],
      "source": [
        "test_datagen = ImageDataGenerator(rescale=1./255)\n",
        "\n",
        "test_generator = test_datagen.flow_from_directory(\n",
        "        '/content/drive/MyDrive/Colab Notebooks/FCI_HW02/HW02-Practical/Dataset/test',\n",
        "        target_size=(128, 128),\n",
        "        batch_size=32,\n",
        "        class_mode='categorical')\n",
        "\n",
        "score = model.evaluate_generator(test_generator)\n",
        "print('Test loss:', score[0])\n",
        "print('Test accuracy:', score[1])\n"
      ]
    },
    {
      "cell_type": "markdown",
      "metadata": {
        "id": "vZB64EuwEeaH"
      },
      "source": [
        "# Over Fitting Model\n",
        "To induce overfitting in our model, we can increase its capacity or complexity. Here are a few modifications we can make to our model to encourage overfitting:\n",
        "\n",
        "1. Increase the number of filters in the convolutional layers: By increasing the number of filters, the model can learn more complex features from the input data.\n",
        "\n",
        "2. Add more convolutional layers: Increasing the depth of the model allows it to learn more intricate patterns in the data.\n",
        "\n",
        "3. Increase the number of neurons in the dense layer: By adding more neurons, the model can capture more complex relationships in the data."
      ]
    },
    {
      "cell_type": "code",
      "execution_count": null,
      "metadata": {
        "id": "NtTxINwaErcU"
      },
      "outputs": [],
      "source": [
        "from tensorflow.keras.models import Sequential\n",
        "from tensorflow.keras.layers import Conv2D , Dense , Dropout , Flatten , MaxPooling2D, Activation\n",
        "\n",
        "model = Sequential()\n",
        "model.add(Conv2D(64, (3, 3),activation='relu', input_shape=(128, 128, 3)))\n",
        "model.add(MaxPooling2D(pool_size=(2, 2)))\n",
        "\n",
        "model.add(Conv2D(128, (3, 3),activation='relu'))\n",
        "model.add(MaxPooling2D(pool_size=(2, 2)))\n",
        "\n",
        "model.add(Conv2D(256, (3, 3),activation='relu'))\n",
        "model.add(MaxPooling2D(pool_size=(2, 2)))\n",
        "\n",
        "model.add(Flatten())\n",
        "model.add(Dense(512, activation='relu'))\n",
        "model.add(Dropout(0.5))\n",
        "model.add(Dense(256, activation='relu'))\n",
        "model.add(Dropout(0.5))\n",
        "model.add(Dense(5, activation='softmax'))\n",
        "\n",
        "model.compile(loss='categorical_crossentropy', optimizer='adam', metrics=['accuracy'])"
      ]
    },
    {
      "cell_type": "code",
      "execution_count": null,
      "metadata": {
        "colab": {
          "base_uri": "https://localhost:8080/"
        },
        "id": "QP4MOzydE6_A",
        "outputId": "bc63eb85-5d8e-4c64-f2dc-127947e52274"
      },
      "outputs": [
        {
          "name": "stdout",
          "output_type": "stream",
          "text": [
            "Epoch 1/10\n",
            "100/100 [==============================] - 896s 9s/step - loss: 1.4997 - accuracy: 0.3422 - val_loss: 1.1738 - val_accuracy: 0.6525\n",
            "Epoch 2/10\n",
            "100/100 [==============================] - 530s 5s/step - loss: 1.0021 - accuracy: 0.6072 - val_loss: 1.1460 - val_accuracy: 0.5619\n",
            "Epoch 3/10\n",
            "100/100 [==============================] - 485s 5s/step - loss: 0.7711 - accuracy: 0.7209 - val_loss: 1.0196 - val_accuracy: 0.6550\n",
            "Epoch 4/10\n",
            "100/100 [==============================] - 476s 5s/step - loss: 0.7115 - accuracy: 0.7409 - val_loss: 0.8135 - val_accuracy: 0.7250\n",
            "Epoch 5/10\n",
            "100/100 [==============================] - 468s 5s/step - loss: 0.5990 - accuracy: 0.7912 - val_loss: 0.9165 - val_accuracy: 0.6750\n",
            "Epoch 6/10\n",
            "100/100 [==============================] - 472s 5s/step - loss: 0.5738 - accuracy: 0.7941 - val_loss: 0.9323 - val_accuracy: 0.6994\n",
            "Epoch 7/10\n",
            "100/100 [==============================] - 442s 4s/step - loss: 0.5335 - accuracy: 0.8184 - val_loss: 0.7897 - val_accuracy: 0.7250\n",
            "Epoch 8/10\n",
            "100/100 [==============================] - 443s 4s/step - loss: 0.4513 - accuracy: 0.8406 - val_loss: 0.6808 - val_accuracy: 0.7506\n",
            "Epoch 9/10\n",
            "100/100 [==============================] - 465s 5s/step - loss: 0.4343 - accuracy: 0.8524 - val_loss: 0.5961 - val_accuracy: 0.7969\n",
            "Epoch 10/10\n",
            "100/100 [==============================] - 466s 5s/step - loss: 0.3858 - accuracy: 0.8684 - val_loss: 0.7797 - val_accuracy: 0.7425\n"
          ]
        }
      ],
      "source": [
        "history = model.fit(\n",
        "        train_generator,\n",
        "        steps_per_epoch=100,\n",
        "        epochs=10,\n",
        "        validation_data=validation_generator,\n",
        "        validation_steps=50)"
      ]
    },
    {
      "cell_type": "code",
      "execution_count": null,
      "metadata": {
        "colab": {
          "base_uri": "https://localhost:8080/",
          "height": 472
        },
        "id": "D4LI3B4jKwTS",
        "outputId": "8324fd18-ac8c-430a-f202-c1451e19788c"
      },
      "outputs": [
        {
          "data": {
            "image/png": "[encoded data removed]",
            "text/plain": [
              "<Figure size 640x480 with 1 Axes>"
            ]
          },
          "metadata": {},
          "output_type": "display_data"
        }
      ],
      "source": [
        "import matplotlib.pyplot as plt\n",
        "\n",
        "# Accessing the loss values\n",
        "train_loss = history.history['loss']\n",
        "val_loss = history.history['val_loss']\n",
        "\n",
        "# Plotting the loss values\n",
        "epochs = range(1, len(train_loss) + 1)\n",
        "\n",
        "plt.plot(epochs, train_loss, 'b', label='Training loss')\n",
        "plt.plot(epochs, val_loss, 'r', label='Validation loss')\n",
        "plt.title('Training and Validation Loss')\n",
        "plt.xlabel('Epochs')\n",
        "plt.ylabel('Loss')\n",
        "plt.legend()\n",
        "plt.show()"
      ]
    },
    {
      "cell_type": "code",
      "execution_count": null,
      "metadata": {
        "colab": {
          "base_uri": "https://localhost:8080/"
        },
        "id": "CHbxN6KWK1Ay",
        "outputId": "23607fda-4875-415a-af58-4f0860f74080"
      },
      "outputs": [
        {
          "name": "stdout",
          "output_type": "stream",
          "text": [
            "Found 5000 images belonging to 5 classes.\n"
          ]
        },
        {
          "name": "stderr",
          "output_type": "stream",
          "text": [
            "<ipython-input-7-cacc37e2706b>:9: UserWarning: `Model.evaluate_generator` is deprecated and will be removed in a future version. Please use `Model.evaluate`, which supports generators.\n",
            "  score = model.evaluate_generator(test_generator)\n"
          ]
        },
        {
          "name": "stdout",
          "output_type": "stream",
          "text": [
            "Test loss: 0.7172591090202332\n",
            "Test accuracy: 0.7674000263214111\n"
          ]
        }
      ],
      "source": [
        "test_datagen = ImageDataGenerator(rescale=1./255)\n",
        "\n",
        "test_generator = test_datagen.flow_from_directory(\n",
        "        '/content/drive/MyDrive/Colab Notebooks/FCI_HW02/HW02-Practical/Dataset/test',\n",
        "        target_size=(128, 128),\n",
        "        batch_size=32,\n",
        "        class_mode='categorical')\n",
        "\n",
        "score = model.evaluate_generator(test_generator)\n",
        "print('Test loss:', score[0])\n",
        "print('Test accuracy:', score[1])"
      ]
    },
    {
      "cell_type": "markdown",
      "metadata": {
        "id": "iL-Gp126K7_6"
      },
      "source": [
        "# Best Fitting Model\n",
        "To perform hyperparameter tuning for our model using two different methods, specifically setting the learning rate using `grid search` and setting the learning rate using the `wandb` or `comet` libraries, we can follow the code snippets provided below."
      ]
    },
    {
      "cell_type": "markdown",
      "metadata": {
        "id": "kXkhUkzpL3Ho"
      },
      "source": [
        "**First, I'll demonstrate how to set the learning rate using grid search. For this purpose, we'll use the `GridSearchCV` class from the `sklearn` library. Here's an code:**"
      ]
    },
    {
      "cell_type": "code",
      "execution_count": null,
      "metadata": {
        "colab": {
          "base_uri": "https://localhost:8080/"
        },
        "id": "sYogA3VgLzpa",
        "outputId": "a475b59a-16cf-44b3-a0d6-93fb5e15d508"
      },
      "outputs": [
        {
          "name": "stderr",
          "output_type": "stream",
          "text": [
            "<ipython-input-29-e7bbefbef768>:29: DeprecationWarning: KerasClassifier is deprecated, use Sci-Keras (https://github.com/adriangb/scikeras) instead. See https://www.adriangb.com/scikeras/stable/migration.html for help migrating.\n",
            "  model = KerasClassifier(build_fn=create_model, epochs=10, batch_size=32, verbose=0)\n"
          ]
        },
        {
          "name": "stdout",
          "output_type": "stream",
          "text": [
            "Best parameters:  {'learning_rate': 0.001}\n",
            "Best score:  0.5030303200085958\n"
          ]
        }
      ],
      "source": [
        "import numpy as np\n",
        "from sklearn.model_selection import GridSearchCV\n",
        "import tensorflow as tf\n",
        "from tensorflow.keras.wrappers.scikit_learn import KerasClassifier\n",
        "from tensorflow.keras.optimizers import Adam\n",
        "from tensorflow.keras.preprocessing.image import ImageDataGenerator\n",
        "\n",
        "# Define the model architecture\n",
        "def create_model(learning_rate=0.001):\n",
        "    model = Sequential()\n",
        "    model.add(Conv2D(64, (3, 3),activation='relu', input_shape=(128, 128, 3)))\n",
        "    model.add(MaxPooling2D(pool_size=(2, 2)))\n",
        "    model.add(Conv2D(128, (3, 3),activation='relu'))\n",
        "    model.add(MaxPooling2D(pool_size=(2, 2)))\n",
        "    model.add(Conv2D(256, (3, 3),activation='relu'))\n",
        "    model.add(MaxPooling2D(pool_size=(2, 2)))\n",
        "    model.add(Flatten())\n",
        "    model.add(Dense(512, activation='relu'))\n",
        "    model.add(Dropout(0.5))\n",
        "    model.add(Dense(256, activation='relu'))\n",
        "    model.add(Dropout(0.5))\n",
        "    model.add(Dense(5, activation='softmax'))\n",
        "\n",
        "    optimizer = Adam(learning_rate=learning_rate)\n",
        "    model.compile(loss='categorical_crossentropy', optimizer=optimizer, metrics=['accuracy'])\n",
        "    return model\n",
        "\n",
        "# Create the Keras classifier for use in GridSearchCV\n",
        "model = KerasClassifier(build_fn=create_model, epochs=10, batch_size=32, verbose=0)\n",
        "\n",
        "# Define the grid search parameters\n",
        "learning_rate = [0.001, 0.01, 0.1]\n",
        "\n",
        "param_grid = dict(learning_rate=learning_rate)\n",
        "\n",
        "# Load the data from the generator\n",
        "X_train, y_train = next(train_generator)\n",
        "X_val, y_val = next(validation_generator)\n",
        "\n",
        "# Create the grid search\n",
        "grid = GridSearchCV(estimator=model, param_grid=param_grid, cv=3)\n",
        "grid_result = grid.fit(X_train, y_train, validation_data=(X_val, y_val))\n",
        "\n",
        "# Print the best parameters and score\n",
        "print(\"Best parameters: \", grid_result.best_params_)\n",
        "print(\"Best score: \", grid_result.best_score_)"
      ]
    },
    {
      "cell_type": "markdown",
      "metadata": {
        "id": "hINMAL2P28xB"
      },
      "source": [
        "**now we plot the best model loss**"
      ]
    },
    {
      "cell_type": "code",
      "execution_count": null,
      "metadata": {
        "colab": {
          "base_uri": "https://localhost:8080/",
          "height": 472
        },
        "id": "Ezax9lvL28Ou",
        "outputId": "48000935-2d2b-4e44-ba51-3f1a80e4ecc2"
      },
      "outputs": [
        {
          "data": {
            "image/png": "[encoded data removed]",
            "text/plain": [
              "<Figure size 640x480 with 1 Axes>"
            ]
          },
          "metadata": {},
          "output_type": "display_data"
        }
      ],
      "source": [
        "import matplotlib.pyplot as plt\n",
        "\n",
        "# Get the best parameters and corresponding model\n",
        "best_params = grid_result.best_params_\n",
        "best_model = grid_result.best_estimator_.model\n",
        "\n",
        "# Train the model with the best parameters\n",
        "history = best_model.fit(X_train, y_train, validation_data=(X_val, y_val), epochs=10, batch_size=32, verbose=0)\n",
        "\n",
        "# Plot the loss on the training and validation sets\n",
        "plt.plot(history.history['loss'], label='Training Loss')\n",
        "plt.plot(history.history['val_loss'], label='Validation Loss')\n",
        "plt.title('Training and Validation Loss')\n",
        "plt.xlabel('Epoch')\n",
        "plt.ylabel('Loss')\n",
        "plt.legend()\n",
        "plt.show()"
      ]
    },
    {
      "cell_type": "markdown",
      "metadata": {
        "id": "blvgOJcONSfF"
      },
      "source": [
        "**Now, let's move on to setting the learning rate using the `wandb` or `comet` libraries. These libraries allow us to track and log experiments, including hyperparameters. Here's an code snippets using `wandb`:**"
      ]
    },
    {
      "cell_type": "code",
      "execution_count": null,
      "metadata": {
        "colab": {
          "base_uri": "https://localhost:8080/",
          "height": 882
        },
        "id": "u9cD7xUmNqKI",
        "outputId": "fdc3f36e-c714-4a35-ed92-87876ce82067"
      },
      "outputs": [
        {
          "output_type": "error",
          "ename": "AttributeError",
          "evalue": "ignored",
          "traceback": [
            "\u001b[0;31m---------------------------------------------------------------------------\u001b[0m",
            "\u001b[0;31mAttributeError\u001b[0m                            Traceback (most recent call last)",
            "\u001b[0;32m<ipython-input-7-c5bd98b24067>\u001b[0m in \u001b[0;36m<cell line: 1>\u001b[0;34m()\u001b[0m\n\u001b[0;32m----> 1\u001b[0;31m \u001b[0;32mimport\u001b[0m \u001b[0mwandb\u001b[0m\u001b[0;34m\u001b[0m\u001b[0;34m\u001b[0m\u001b[0m\n\u001b[0m\u001b[1;32m      2\u001b[0m \u001b[0;34m\u001b[0m\u001b[0m\n\u001b[1;32m      3\u001b[0m \u001b[0;31m# Initialize wandb\u001b[0m\u001b[0;34m\u001b[0m\u001b[0;34m\u001b[0m\u001b[0m\n\u001b[1;32m      4\u001b[0m \u001b[0mwandb\u001b[0m\u001b[0;34m.\u001b[0m\u001b[0minit\u001b[0m\u001b[0;34m(\u001b[0m\u001b[0mproject\u001b[0m\u001b[0;34m=\u001b[0m\u001b[0;34m'CNN-MIO-TCD'\u001b[0m\u001b[0;34m,\u001b[0m \u001b[0mentity\u001b[0m\u001b[0;34m=\u001b[0m\u001b[0;34m'pdaret'\u001b[0m\u001b[0;34m)\u001b[0m\u001b[0;34m\u001b[0m\u001b[0;34m\u001b[0m\u001b[0m\n\u001b[1;32m      5\u001b[0m \u001b[0;34m\u001b[0m\u001b[0m\n",
            "\u001b[0;32m/usr/local/lib/python3.10/dist-packages/wandb/__init__.py\u001b[0m in \u001b[0;36m<module>\u001b[0;34m\u001b[0m\n\u001b[1;32m     28\u001b[0m \u001b[0;32mimport\u001b[0m \u001b[0mwandb\u001b[0m\u001b[0;34m\u001b[0m\u001b[0;34m\u001b[0m\u001b[0m\n\u001b[1;32m     29\u001b[0m \u001b[0;34m\u001b[0m\u001b[0m\n\u001b[0;32m---> 30\u001b[0;31m \u001b[0mwandb\u001b[0m\u001b[0;34m.\u001b[0m\u001b[0mwandb_lib\u001b[0m \u001b[0;34m=\u001b[0m \u001b[0mwandb_sdk\u001b[0m\u001b[0;34m.\u001b[0m\u001b[0mlib\u001b[0m\u001b[0;34m\u001b[0m\u001b[0;34m\u001b[0m\u001b[0m\n\u001b[0m\u001b[1;32m     31\u001b[0m \u001b[0;34m\u001b[0m\u001b[0m\n\u001b[1;32m     32\u001b[0m \u001b[0minit\u001b[0m \u001b[0;34m=\u001b[0m \u001b[0mwandb_sdk\u001b[0m\u001b[0;34m.\u001b[0m\u001b[0minit\u001b[0m\u001b[0;34m\u001b[0m\u001b[0;34m\u001b[0m\u001b[0m\n",
            "\u001b[0;31mAttributeError\u001b[0m: module 'wandb.sdk' has no attribute 'lib'"
          ]
        }
      ],
      "source": [
        "import wandb\n",
        "\n",
        "# Initialize wandb\n",
        "wandb.init(project='CNN-MIO-TCD', entity='pdaret')\n",
        "\n",
        "# Define the model architecture\n",
        "model = Sequential()\n",
        "model.add(Conv2D(64, (3, 3),activation='relu', input_shape=(128, 128, 3)))\n",
        "model.add(MaxPooling2D(pool_size=(2, 2)))\n",
        "\n",
        "model.add(Conv2D(128, (3, 3),activation='relu'))\n",
        "model.add(MaxPooling2D(pool_size=(2, 2)))\n",
        "\n",
        "model.add(Conv2D(256, (3, 3),activation='relu'))\n",
        "model.add(MaxPooling2D(pool_size=(2, 2)))\n",
        "\n",
        "model.add(Flatten())\n",
        "model.add(Dense(512, activation='relu'))\n",
        "model.add(Dropout(0.5))\n",
        "model.add(Dense(256, activation='relu'))\n",
        "model.add(Dropout(0.5))\n",
        "model.add(Dense(5, activation='softmax'))\n",
        "\n",
        "\n",
        "# Set the learning rate using wandb\n",
        "learning_rate = wandb.config.learning_rate\n",
        "optimizer = Adam(learning_rate=learning_rate)\n",
        "model.compile(loss='categorical_crossentropy', optimizer=optimizer, metrics=['accuracy'])\n",
        "\n",
        "# Train the model and log the metrics\n",
        "model.fit(train_generator, steps_per_epoch=100, epochs=10, validation_data=validation_generator, validation_steps=50)\n",
        "wandb.log({'train_loss': model.history.history['loss'], 'val_loss': model.history.history['val_loss']})"
      ]
    },
    {
      "cell_type": "code",
      "execution_count": null,
      "metadata": {
        "id": "VFBa1a5v91xu"
      },
      "outputs": [],
      "source": [
        "# Retrieve the logged loss values from WandB run\n",
        "train_loss = wandb.history['train_loss']\n",
        "val_loss = wandb.history['val_loss']\n",
        "\n",
        "# Plot the loss on the training and validation sets\n",
        "plt.plot(train_loss, label='Training Loss')\n",
        "plt.plot(val_loss, label='Validation Loss')\n",
        "plt.title('Training and Validation Loss')\n",
        "plt.xlabel('Epoch')\n",
        "plt.ylabel('Loss')\n",
        "plt.legend()\n",
        "plt.show()"
      ]
    },
    {
      "cell_type": "markdown",
      "source": [
        "# <font color='red'># Part 2</font>"
      ],
      "metadata": {
        "id": "oH6PtGBL32He"
      }
    },
    {
      "cell_type": "markdown",
      "source": [
        "in this phase we use `resnet18` to create a <font color = 'blue'>transfer learning</font> model and train it with our `MIO-TCD` dataset.then tune the `learning rate` hyper parameter using `wandb` library by `random search` method."
      ],
      "metadata": {
        "id": "PXtoKlYw4FrS"
      }
    },
    {
      "cell_type": "code",
      "source": [
        "import torch\n",
        "import torch.nn as nn\n",
        "import torch.optim as optim\n",
        "from torch.utils.data import DataLoader\n",
        "from torchvision import datasets, models, transforms\n",
        "import wandb\n",
        "from random import uniform"
      ],
      "metadata": {
        "id": "Ewh0Nwj6360p"
      },
      "execution_count": 2,
      "outputs": []
    },
    {
      "cell_type": "code",
      "source": [
        "# Initialize wandb for experiment tracking\n",
        "wandb.init(project='Transfer-learning')"
      ],
      "metadata": {
        "id": "7IKoZtuVLL3l"
      },
      "execution_count": null,
      "outputs": []
    },
    {
      "cell_type": "code",
      "source": [
        "# Define the data transformations for training and validation sets\n",
        "data_transforms = {\n",
        "    'train': transforms.Compose([\n",
        "        transforms.RandomResizedCrop(128), # Randomly crop the image to size 128x128\n",
        "        transforms.RandomHorizontalFlip(), # Randomly flip the image horizontally\n",
        "        transforms.ToTensor(),  # Convert the image to a tensor\n",
        "        transforms.Normalize([0.485, 0.456, 0.406], [0.229, 0.224, 0.225])\n",
        "    ]),\n",
        "    'val': transforms.Compose([\n",
        "        transforms.Resize((128, 128)),  # Resize the image to 128x128\n",
        "        transforms.ToTensor(), # Convert the image to a tensor\n",
        "        transforms.Normalize([0.485, 0.456, 0.406], [0.229, 0.224, 0.225]) # Normalize the image with mean and standard deviation\n",
        "    ])\n",
        "}"
      ],
      "metadata": {
        "id": "EuEHAYC94rQE"
      },
      "execution_count": 3,
      "outputs": []
    },
    {
      "cell_type": "code",
      "source": [
        "# Set the directory paths for the dataset\n",
        "data_dir = 'path/to/dataset'\n",
        "train_dir = data_dir + '/train'\n",
        "val_dir = data_dir + '/valid'"
      ],
      "metadata": {
        "id": "f6gcpTm_5ADY"
      },
      "execution_count": null,
      "outputs": []
    },
    {
      "cell_type": "code",
      "source": [
        "# Load the training and validation datasets using ImageFolder\n",
        "train_data = datasets.ImageFolder(train_dir, transform=data_transforms['train'])\n",
        "val_data = datasets.ImageFolder(val_dir, transform=data_transforms['valid'])\n",
        "\n",
        "# Create data loaders for training and validation\n",
        "train_loader = DataLoader(train_data, batch_size=32, shuffle=True)\n",
        "val_loader = DataLoader(val_data, batch_size=32)\n",
        "\n",
        "# Define the device for training (GPU if available, otherwise CPU)\n",
        "device = torch.device(\"cuda:0\" if torch.cuda.is_available() else \"cpu\")"
      ],
      "metadata": {
        "id": "Io1B-jQV5FrK"
      },
      "execution_count": null,
      "outputs": []
    },
    {
      "cell_type": "code",
      "source": [
        "# Load the pre-trained ResNet-18 model\n",
        "model = models.resnet18(pretrained=True)\n",
        "\n",
        "# Freeze the parameters of the pre-trained model\n",
        "for param in model.parameters():\n",
        "    param.requires_grad = False\n",
        "\n",
        "# Get the number of input features for the last fully connected layer\n",
        "num_features = model.fc.in_features\n",
        "\n",
        "# Replace the last fully connected layer with a new one (output size 5)\n",
        "model.fc = nn.Linear(num_features, 5)\n",
        "\n",
        "# Transfer the model to the device\n",
        "model = model.to(device)\n",
        "\n",
        "# Define the loss function\n",
        "criterion = nn.CrossEntropyLoss()"
      ],
      "metadata": {
        "id": "63eDxFss5RLh"
      },
      "execution_count": null,
      "outputs": []
    },
    {
      "cell_type": "code",
      "source": [
        "def train_model(learning_rate):\n",
        "    # Update the optimizer with the new learning rate\n",
        "    optimizer = optim.SGD(model.fc.parameters(), lr=learning_rate, momentum=0.9)\n",
        "\n",
        "    # Rest of your training and evaluation code here\n",
        "    num_epochs = 10\n",
        "\n",
        "    for epoch in range(num_epochs):\n",
        "        print(f\"Epoch {epoch+1}/{num_epochs}\")\n",
        "        print('-' * 10)\n",
        "\n",
        "        # Training phase\n",
        "        model.train()\n",
        "        running_loss = 0.0\n",
        "\n",
        "        for inputs, labels in train_loader:\n",
        "            inputs = inputs.to(device)\n",
        "            labels = labels.to(device)\n",
        "\n",
        "            optimizer.zero_grad()\n",
        "\n",
        "            # Forward pass\n",
        "            outputs = model(inputs)\n",
        "            loss = criterion(outputs, labels)\n",
        "\n",
        "            # Backward pass and optimization\n",
        "            loss.backward()\n",
        "            optimizer.step()\n",
        "\n",
        "            running_loss += loss.item()\n",
        "\n",
        "        # Validation phase\n",
        "        model.eval()\n",
        "        val_loss = 0.0\n",
        "        correct_preds = 0\n",
        "\n",
        "        with torch.no_grad():\n",
        "            for inputs, labels in val_loader:\n",
        "                inputs = inputs.to(device)\n",
        "                labels = labels.to(device)\n",
        "\n",
        "                # Forward pass\n",
        "                outputs = model(inputs)\n",
        "                loss = criterion(outputs, labels)\n",
        "                val_loss += loss.item()\n",
        "\n",
        "                # Calculate the number of correct predictions\n",
        "                _, preds = torch.max(outputs, 1)\n",
        "                correct_preds += torch.sum(preds == labels.data)\n",
        "\n",
        "        epoch_loss = running_loss / len(train_loader)\n",
        "        epoch_val_loss = val_loss / len(val_loader)\n",
        "        epoch_acc = correct_preds / len(val_loader.dataset)\n",
        "\n",
        "        # Log the learning rate, accuracy, and loss to wandb\n",
        "        wandb.log({'learning_rate': learning_rate, 'accuracy': epoch_acc, 'loss': epoch_val_loss})\n",
        "\n",
        "    return epoch_acc\n"
      ],
      "metadata": {
        "id": "xYDOYnop5ddI"
      },
      "execution_count": null,
      "outputs": []
    },
    {
      "cell_type": "code",
      "source": [
        "num_searches = 10  # Number of random searches\n",
        "best_accuracy = 0.0\n",
        "best_learning_rate = None\n",
        "\n",
        "for search in range(num_searches):\n",
        "    learning_rate = uniform(0.0001, 0.01)  # Generate a random learning rate\n",
        "\n",
        "    # Train and evaluate the model with the current learning rate\n",
        "    accuracy = train_model(learning_rate)\n",
        "\n",
        "    # Check if the current accuracy is better than the previous best\n",
        "    if accuracy > best_accuracy:\n",
        "        best_accuracy = accuracy\n",
        "        best_learning_rate = learning_rate\n",
        "\n",
        "print(f\"Best Learning Rate: {best_learning_rate}\")"
      ],
      "metadata": {
        "id": "EBcTsIR5LWj8"
      },
      "execution_count": null,
      "outputs": []
    },
    {
      "cell_type": "markdown",
      "source": [
        "**now we want to measure the accuracy of our model in `fine tuning` process.to do this, first we Update the model to allow fine-tuning ,then Adjust the optimizer to include all model parameters and finally Run the training and evaluation loop as before.**"
      ],
      "metadata": {
        "id": "CFfVN5abQDCG"
      }
    },
    {
      "cell_type": "code",
      "source": [
        "# Set requires_grad=True for all parameters\n",
        "for param in model.parameters():\n",
        "    param.requires_grad = True\n",
        "\n",
        "# Adjust the optimizer to include all model parameters\n",
        "optimizer = optim.SGD(model.parameters(), lr=learning_rate, momentum=0.9)\n",
        "\n",
        "num_epochs = 10\n",
        "\n",
        "for epoch in range(num_epochs):\n",
        "    print(f\"Epoch {epoch+1}/{num_epochs}\")\n",
        "    print('-' * 10)\n",
        "\n",
        "    # Training phase\n",
        "    model.train()\n",
        "    running_loss = 0.0\n",
        "\n",
        "    for inputs, labels in train_loader:\n",
        "        inputs = inputs.to(device)\n",
        "        labels = labels.to(device)\n",
        "\n",
        "        optimizer.zero_grad()\n",
        "\n",
        "        outputs = model(inputs)\n",
        "        loss = criterion(outputs, labels)\n",
        "        loss.backward()\n",
        "        optimizer.step()\n",
        "\n",
        "        running_loss += loss.item()\n",
        "\n",
        "    # Validation phase\n",
        "    model.eval()\n",
        "    val_loss = 0.0\n",
        "    correct_preds = 0\n",
        "\n",
        "    with torch.no_grad():\n",
        "        for inputs, labels in val_loader:\n",
        "            inputs = inputs.to(device)\n",
        "            labels = labels.to(device)\n",
        "\n",
        "            outputs = model(inputs)\n",
        "            loss = criterion(outputs, labels)\n",
        "            val_loss += loss.item()\n",
        "\n",
        "            _, preds = torch.max(outputs, 1)\n",
        "            correct_preds += torch.sum(preds == labels.data)\n",
        "\n",
        "    epoch_loss = running_loss / len(train_loader)\n",
        "    epoch_val_loss = val_loss / len(val_loader)\n",
        "    epoch_acc = correct_preds / len(val_loader.dataset)\n",
        "\n",
        "    # Log the learning rate, accuracy, and loss to wandb\n",
        "    wandb.log({'learning_rate': learning_rate, 'accuracy': epoch_acc, 'loss': epoch_val_loss})\n",
        "\n",
        "    print(f\"Train Loss: {epoch_loss:.4f}\")\n",
        "    print(f\"Val Loss: {epoch_val_loss:.4f}\")\n",
        "    print(f\"Val Accuracy: {epoch_acc:.4f}\")\n",
        "    print()"
      ],
      "metadata": {
        "id": "x9QpIz5GQZht"
      },
      "execution_count": null,
      "outputs": []
    },
    {
      "cell_type": "markdown",
      "source": [
        "**now we want to measure the model accuracy in `feature extraction` phase.to do this, we first Keep the model parameters frozen for `feature extraction`,then,Adjust the optimizer to only include the parameters of the classifier and finally Run the training and evaluation loop as before.**"
      ],
      "metadata": {
        "id": "iqZIlL7NRLtC"
      }
    },
    {
      "cell_type": "code",
      "source": [
        "# Set requires_grad=False for all parameters except the classifier\n",
        "for name, param in model.named_parameters():\n",
        "    if \"fc\" not in name:\n",
        "        param.requires_grad = False\n",
        "\n",
        "# Adjust the optimizer to only include the parameters of the classifier\n",
        "optimizer = optim.SGD(model.fc.parameters(), lr=learning_rate, momentum=0.9)\n",
        "\n",
        "num_epochs = 10\n",
        "\n",
        "for epoch in range(num_epochs):\n",
        "    print(f\"Epoch {epoch+1}/{num_epochs}\")\n",
        "    print('-' * 10)\n",
        "\n",
        "    # Training phase\n",
        "    model.train()\n",
        "    running_loss = 0.0\n",
        "\n",
        "    for inputs, labels in train_loader:\n",
        "        inputs = inputs.to(device)\n",
        "        labels = labels.to(device)\n",
        "\n",
        "        optimizer.zero_grad()\n",
        "\n",
        "        outputs = model(inputs)\n",
        "        loss = criterion(outputs, labels)\n",
        "        loss.backward()\n",
        "        optimizer.step()\n",
        "\n",
        "        running_loss += loss.item()\n",
        "\n",
        "    # Validation phase\n",
        "    model.eval()\n",
        "    val_loss = 0.0\n",
        "    correct_preds = 0\n",
        "\n",
        "    with torch.no_grad():\n",
        "        for inputs, labels in val_loader:\n",
        "            inputs = inputs.to(device)\n",
        "            labels = labels.to(device)\n",
        "\n",
        "            outputs = model(inputs)\n",
        "            loss = criterion(outputs, labels)\n",
        "            val_loss += loss.item()\n",
        "\n",
        "            _, preds = torch.max(outputs, 1)\n",
        "            correct_preds += torch.sum(preds == labels.data)\n",
        "\n",
        "    epoch_loss = running_loss / len(train_loader)\n",
        "    epoch_val_loss = val_loss / len(val_loader)\n",
        "    epoch_acc = correct_preds / len(val_loader.dataset)\n",
        "\n",
        "    # Log the learning rate, accuracy, and loss to wandb\n",
        "    wandb.log({'learning_rate': learning_rate, 'accuracy': epoch_acc, 'loss': epoch_val_loss})\n",
        "\n",
        "    print(f\"Train Loss: {epoch_loss:.4f}\")\n",
        "    print(f\"Val Loss: {epoch_val_loss:.4f}\")\n",
        "    print(f\"Val Accuracy: {epoch_acc:.4f}\")\n",
        "    print()"
      ],
      "metadata": {
        "id": "P5pFYXYoRL_k"
      },
      "execution_count": null,
      "outputs": []
    }
  ],
  "metadata": {
    "accelerator": "GPU",
    "colab": {
      "provenance": [],
      "gpuType": "T4",
      "mount_file_id": "1z1rWgTtMLB8Cehbidctgvm6mVSglZ4sy",
      "authorship_tag": "ABX9TyObt1M8zKgrzGiwSHYbW3mg",
      "include_colab_link": true
    },
    "gpuClass": "standard",
    "kernelspec": {
      "display_name": "Python 3",
      "name": "python3"
    },
    "language_info": {
      "name": "python"
    }
  },
  "nbformat": 4,
  "nbformat_minor": 0
}
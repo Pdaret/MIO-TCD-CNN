{
  "cells": [
    {
      "cell_type": "markdown",
      "metadata": {
        "id": "view-in-github",
        "colab_type": "text"
      },
      "source": [
        "<a href=\"https://colab.research.google.com/github/Pdaret/MIO-TCD-CNN/blob/main/MIO_TCD_CNN.ipynb\" target=\"_parent\"><img src=\"https://colab.research.google.com/assets/colab-badge.svg\" alt=\"Open In Colab\"/></a>"
      ]
    },
    {
      "cell_type": "markdown",
      "source": [
        "# Extracting file \n",
        "we use **dataset** rar file an extract it to colab runtime `sample_data` folder"
      ],
      "metadata": {
        "id": "tE7CuOwvpSlr"
      }
    },
    {
      "cell_type": "code",
      "source": [
        "from google.colab import drive\n",
        "drive.mount('/content/drive', force_remount=True)"
      ],
      "metadata": {
        "colab": {
          "base_uri": "https://localhost:8080/"
        },
        "id": "uggr_-uhm0ct",
        "outputId": "acfc88a9-8d77-43d6-bf0b-843de7f1784a"
      },
      "execution_count": null,
      "outputs": [
        {
          "output_type": "stream",
          "name": "stdout",
          "text": [
            "Mounted at /content/drive\n"
          ]
        }
      ]
    },
    {
      "cell_type": "code",
      "source": [
        "!unrar x \"/content/drive/MyDrive/HW02-Practical.rar\" \"/content/sample_data/miotcd\""
      ],
      "metadata": {
        "id": "RqxHbwmInPL_"
      },
      "execution_count": null,
      "outputs": []
    },
    {
      "cell_type": "markdown",
      "source": [
        "optional"
      ],
      "metadata": {
        "id": "NiRGM9zwpegc"
      }
    },
    {
      "cell_type": "code",
      "source": [
        "!apt\n",
        "from pyunpack import Archive\n",
        "Archive('/content/drive/MyDrive/HW02-Practical.rar').extractall('/content/sample_data/miotcd')"
      ],
      "metadata": {
        "id": "4YEDRvz8xbna"
      },
      "execution_count": null,
      "outputs": []
    },
    {
      "cell_type": "markdown",
      "metadata": {
        "id": "eQLpwxROLMjy"
      },
      "source": [
        "# <font color = 'red'># Part 1</font>"
      ]
    },
    {
      "cell_type": "markdown",
      "metadata": {
        "id": "bei6FmA1-80Q"
      },
      "source": [
        "# Under Fitting Model \n",
        "\n",
        "To induce underfitting in our model, we can make it less complex or reduce the capacity of the model. Here are a few modifications we can make to our model to encourage underfitting:\n",
        "\n",
        "1. Decrease the number of filters in the convolutional layers: By reducing the number of filters, the model will extract fewer features, leading to a simpler representation.\n",
        "\n",
        "2. Remove a convolutional layer: Removing a layer reduces the depth of the model and further simplifies it.\n",
        "\n",
        "3. Reduce the number of neurons in the dense layer: By decreasing the number of neurons, you reduce the complexity of the model's fully connected layers."
      ]
    },
    {
      "cell_type": "code",
      "execution_count": null,
      "metadata": {
        "colab": {
          "base_uri": "https://localhost:8080/"
        },
        "id": "vEzou18eC9Nv",
        "outputId": "559afd75-2109-43b4-dfa6-0ce603d02fcf"
      },
      "outputs": [
        {
          "output_type": "stream",
          "name": "stdout",
          "text": [
            "Found 15000 images belonging to 5 classes.\n",
            "Found 5000 images belonging to 5 classes.\n",
            "Found 5000 images belonging to 5 classes.\n"
          ]
        }
      ],
      "source": [
        "import tensorflow as tf\n",
        "from tensorflow.keras.preprocessing.image import ImageDataGenerator\n",
        "\n",
        "train_datagen = ImageDataGenerator(rescale=1./255)\n",
        "train_generator = train_datagen.flow_from_directory(\n",
        "    '/content/sample_data/miotcd/HW02-Practical/Dataset/train',\n",
        "    target_size=(128, 128),\n",
        "    batch_size=128,\n",
        "    class_mode='categorical'\n",
        ")\n",
        "\n",
        "validation_datagen = ImageDataGenerator(rescale=1./255)\n",
        "validation_generator = validation_datagen.flow_from_directory(\n",
        "    '/content/sample_data/miotcd/HW02-Practical/Dataset/valid',\n",
        "    target_size=(128, 128),\n",
        "    batch_size=128,\n",
        "    class_mode='categorical'\n",
        ")\n",
        "\n",
        "test_datagen = ImageDataGenerator(rescale=1./255)\n",
        "test_generator = test_datagen.flow_from_directory(\n",
        "        '/content/sample_data/miotcd/HW02-Practical/Dataset/test',\n",
        "        target_size=(128, 128),\n",
        "        batch_size=512,\n",
        "        class_mode='categorical'\n",
        ")\n",
        "\n"
      ]
    },
    {
      "cell_type": "code",
      "execution_count": null,
      "metadata": {
        "id": "HZjy9Qs8JCPm"
      },
      "outputs": [],
      "source": [
        "import tensorflow as tf\n",
        "from tensorflow.keras.preprocessing.image import ImageDataGenerator\n",
        "from tensorflow.keras.models import Sequential\n",
        "from tensorflow.keras.layers import Conv2D, MaxPooling2D, Flatten, Dense, Dropout\n",
        "\n",
        "\n",
        "model = Sequential()\n",
        "\n",
        "model.add(Conv2D(16, (3, 3), activation='relu', input_shape=(128, 128, 3)))\n",
        "model.add(MaxPooling2D(pool_size=(2, 2)))\n",
        "\n",
        "model.add(Flatten())\n",
        "model.add(Dense(32, activation='relu'))\n",
        "model.add(Dropout(0.5))\n",
        "model.add(Dense(5, activation='softmax'))\n",
        "\n",
        "\n",
        "model.compile(loss='categorical_crossentropy', optimizer='adam', metrics=['accuracy'])"
      ]
    },
    {
      "cell_type": "code",
      "execution_count": null,
      "metadata": {
        "colab": {
          "base_uri": "https://localhost:8080/"
        },
        "id": "VrnQrR7nm7Xc",
        "outputId": "b241c15e-f822-4ece-84ab-4b51c7e1f12b"
      },
      "outputs": [
        {
          "output_type": "stream",
          "name": "stdout",
          "text": [
            "Epoch 1/10\n",
            "117/117 [==============================] - 40s 253ms/step - loss: 1.8079 - accuracy: 0.1963 - val_loss: 1.6094 - val_accuracy: 0.1999\n",
            "Epoch 2/10\n",
            "117/117 [==============================] - 30s 255ms/step - loss: 1.6095 - accuracy: 0.1934 - val_loss: 1.6094 - val_accuracy: 0.1995\n",
            "Epoch 3/10\n",
            "117/117 [==============================] - 31s 262ms/step - loss: 1.6095 - accuracy: 0.1952 - val_loss: 1.6094 - val_accuracy: 0.2001\n",
            "Epoch 4/10\n",
            "117/117 [==============================] - 29s 247ms/step - loss: 1.6095 - accuracy: 0.1898 - val_loss: 1.6094 - val_accuracy: 0.1999\n",
            "Epoch 5/10\n",
            "117/117 [==============================] - 31s 269ms/step - loss: 1.6095 - accuracy: 0.2002 - val_loss: 1.6094 - val_accuracy: 0.1997\n",
            "Epoch 6/10\n",
            "117/117 [==============================] - 29s 247ms/step - loss: 1.6095 - accuracy: 0.1974 - val_loss: 1.6094 - val_accuracy: 0.2001\n",
            "Epoch 7/10\n",
            "117/117 [==============================] - 29s 246ms/step - loss: 1.6095 - accuracy: 0.1958 - val_loss: 1.6094 - val_accuracy: 0.2001\n",
            "Epoch 8/10\n",
            "117/117 [==============================] - 25s 218ms/step - loss: 1.6095 - accuracy: 0.1951 - val_loss: 1.6094 - val_accuracy: 0.1997\n",
            "Epoch 9/10\n",
            "117/117 [==============================] - 30s 255ms/step - loss: 1.6095 - accuracy: 0.1915 - val_loss: 1.6094 - val_accuracy: 0.1999\n",
            "Epoch 10/10\n",
            "117/117 [==============================] - 30s 255ms/step - loss: 1.6095 - accuracy: 0.1969 - val_loss: 1.6094 - val_accuracy: 0.2001\n"
          ]
        }
      ],
      "source": [
        "history = model.fit(\n",
        "    train_generator,\n",
        "    steps_per_epoch=train_generator.n // train_generator.batch_size,\n",
        "    epochs=10,\n",
        "    validation_data=validation_generator,\n",
        "    validation_steps=validation_generator.n // validation_generator.batch_size\n",
        ")"
      ]
    },
    {
      "cell_type": "code",
      "execution_count": null,
      "metadata": {
        "colab": {
          "base_uri": "https://localhost:8080/",
          "height": 472
        },
        "id": "bwzcLLmb-SOO",
        "outputId": "2115a55a-2230-444a-b395-2342526d8dc2"
      },
      "outputs": [
        {
          "output_type": "display_data",
          "data": {
            "text/plain": [
              "<Figure size 640x480 with 1 Axes>"
            ],
            "image/png": "[encoded data removed]"
          },
          "metadata": {}
        }
      ],
      "source": [
        "import matplotlib.pyplot as plt\n",
        "\n",
        "# Accessing the loss values\n",
        "train_loss = history.history['loss']\n",
        "val_loss = history.history['val_loss']\n",
        "\n",
        "# Plotting the loss values\n",
        "epochs = range(1, len(train_loss) + 1)\n",
        "\n",
        "plt.plot(epochs, train_loss, 'b', label='Training loss')\n",
        "plt.plot(epochs, val_loss, 'r', label='Validation loss')\n",
        "plt.title('Training and Validation Loss')\n",
        "plt.xlabel('Epochs')\n",
        "plt.ylabel('Loss')\n",
        "plt.legend()\n",
        "plt.show()\n"
      ]
    },
    {
      "cell_type": "code",
      "execution_count": null,
      "metadata": {
        "colab": {
          "base_uri": "https://localhost:8080/"
        },
        "id": "M6Sr9EbTnBGM",
        "outputId": "abefd599-98cd-4780-94be-c42479d8ce40"
      },
      "outputs": [
        {
          "output_type": "stream",
          "name": "stdout",
          "text": [
            "Found 5000 images belonging to 5 classes.\n",
            "10/10 [==============================] - 7s 602ms/step - loss: 1.6094 - accuracy: 0.2000\n",
            "Test loss: 1.6094413995742798\n",
            "Test accuracy: 0.20000000298023224\n"
          ]
        }
      ],
      "source": [
        "score = model.evaluate(test_generator)\n",
        "print('Test loss:', score[0])\n",
        "print('Test accuracy:', score[1])"
      ]
    },
    {
      "cell_type": "markdown",
      "metadata": {
        "id": "vZB64EuwEeaH"
      },
      "source": [
        "# Over Fitting Model\n",
        "To induce overfitting in our model, we can increase its capacity or complexity. Here are a few modifications we can make to our model to encourage overfitting:\n",
        "\n",
        "1. Increase the number of filters in the convolutional layers: By increasing the number of filters, the model can learn more complex features from the input data.\n",
        "\n",
        "2. Add more convolutional layers: Increasing the depth of the model allows it to learn more intricate patterns in the data.\n",
        "\n",
        "3. Increase the number of neurons in the dense layer: By adding more neurons, the model can capture more complex relationships in the data."
      ]
    },
    {
      "cell_type": "code",
      "source": [
        "import tensorflow as tf\n",
        "from tensorflow.keras.preprocessing.image import ImageDataGenerator\n",
        "train_datagen = ImageDataGenerator(rescale=1./255)\n",
        "train_generator = train_datagen.flow_from_directory(\n",
        "    '/content/sample_data/miotcd/HW02-Practical/Dataset/train',\n",
        "    target_size=(128, 128),\n",
        "    batch_size=128,\n",
        "    class_mode='categorical'\n",
        ")\n",
        "\n",
        "validation_datagen = ImageDataGenerator(rescale=1./255)\n",
        "validation_generator = validation_datagen.flow_from_directory(\n",
        "    '/content/sample_data/miotcd/HW02-Practical/Dataset/valid',\n",
        "    target_size=(128, 128),\n",
        "    batch_size=128,\n",
        "    class_mode='categorical'\n",
        ")"
      ],
      "metadata": {
        "id": "K0NtL3Plu4z7"
      },
      "execution_count": null,
      "outputs": []
    },
    {
      "cell_type": "code",
      "execution_count": null,
      "metadata": {
        "id": "NtTxINwaErcU"
      },
      "outputs": [],
      "source": [
        "import tensorflow as tf\n",
        "from tensorflow.keras.preprocessing.image import ImageDataGenerator\n",
        "from tensorflow.keras.models import Sequential\n",
        "from tensorflow.keras.layers import Conv2D, MaxPooling2D, Flatten, Dense, Dropout\n",
        "\n",
        "model = Sequential()\n",
        "model.add(Conv2D(64, (3, 3),activation='relu', input_shape=(128, 128, 3)))\n",
        "model.add(MaxPooling2D(pool_size=(2, 2)))\n",
        "\n",
        "model.add(Conv2D(128, (3, 3),activation='relu'))\n",
        "model.add(MaxPooling2D(pool_size=(2, 2)))\n",
        "\n",
        "model.add(Conv2D(256, (3, 3),activation='relu'))\n",
        "model.add(MaxPooling2D(pool_size=(2, 2)))\n",
        "\n",
        "model.add(Flatten())\n",
        "model.add(Dense(512, activation='relu'))\n",
        "model.add(Dropout(0.5))\n",
        "model.add(Dense(256, activation='relu'))\n",
        "model.add(Dropout(0.5))\n",
        "model.add(Dense(5, activation='softmax'))\n",
        "\n",
        "model.compile(loss='categorical_crossentropy', optimizer='adam', metrics=['accuracy'])"
      ]
    },
    {
      "cell_type": "code",
      "execution_count": null,
      "metadata": {
        "colab": {
          "base_uri": "https://localhost:8080/"
        },
        "id": "QP4MOzydE6_A",
        "outputId": "af8ce808-2d7d-49b3-a38f-09d206cc791f"
      },
      "outputs": [
        {
          "output_type": "stream",
          "name": "stdout",
          "text": [
            "Epoch 1/10\n",
            "117/117 [==============================] - 71s 467ms/step - loss: 1.1195 - accuracy: 0.5616 - val_loss: 0.8049 - val_accuracy: 0.7262\n",
            "Epoch 2/10\n",
            "117/117 [==============================] - 53s 454ms/step - loss: 0.6125 - accuracy: 0.7805 - val_loss: 0.5589 - val_accuracy: 0.8039\n",
            "Epoch 3/10\n",
            "117/117 [==============================] - 61s 519ms/step - loss: 0.4247 - accuracy: 0.8536 - val_loss: 0.4877 - val_accuracy: 0.8317\n",
            "Epoch 4/10\n",
            "117/117 [==============================] - 53s 450ms/step - loss: 0.3164 - accuracy: 0.8934 - val_loss: 0.4300 - val_accuracy: 0.8558\n",
            "Epoch 5/10\n",
            "117/117 [==============================] - 61s 518ms/step - loss: 0.2245 - accuracy: 0.9248 - val_loss: 0.4789 - val_accuracy: 0.8580\n",
            "Epoch 6/10\n",
            "117/117 [==============================] - 60s 515ms/step - loss: 0.1573 - accuracy: 0.9477 - val_loss: 0.4165 - val_accuracy: 0.8812\n",
            "Epoch 7/10\n",
            "117/117 [==============================] - 53s 453ms/step - loss: 0.1264 - accuracy: 0.9582 - val_loss: 0.4351 - val_accuracy: 0.8766\n",
            "Epoch 8/10\n",
            "117/117 [==============================] - 61s 522ms/step - loss: 0.1148 - accuracy: 0.9631 - val_loss: 0.4935 - val_accuracy: 0.8722\n",
            "Epoch 9/10\n",
            "117/117 [==============================] - 62s 527ms/step - loss: 0.0852 - accuracy: 0.9734 - val_loss: 0.5273 - val_accuracy: 0.8720\n",
            "Epoch 10/10\n",
            "117/117 [==============================] - 61s 523ms/step - loss: 0.0778 - accuracy: 0.9724 - val_loss: 0.5061 - val_accuracy: 0.8720\n"
          ]
        }
      ],
      "source": [
        "history = model.fit(\n",
        "    train_generator,\n",
        "    steps_per_epoch=train_generator.n // train_generator.batch_size,\n",
        "    epochs=10,\n",
        "    validation_data=validation_generator,\n",
        "    validation_steps=validation_generator.n // validation_generator.batch_size\n",
        "    )"
      ]
    },
    {
      "cell_type": "code",
      "execution_count": null,
      "metadata": {
        "colab": {
          "base_uri": "https://localhost:8080/",
          "height": 472
        },
        "id": "D4LI3B4jKwTS",
        "outputId": "3c7c289d-3f8a-4da6-9979-3e6eb4551dac"
      },
      "outputs": [
        {
          "output_type": "display_data",
          "data": {
            "text/plain": [
              "<Figure size 640x480 with 1 Axes>"
            ],
            "image/png": "[encoded data removed]"
          },
          "metadata": {}
        }
      ],
      "source": [
        "import matplotlib.pyplot as plt\n",
        "\n",
        "# Accessing the loss values\n",
        "train_loss = history.history['loss']\n",
        "val_loss = history.history['val_loss']\n",
        "\n",
        "# Plotting the loss values\n",
        "epochs = range(1, len(train_loss) + 1)\n",
        "\n",
        "plt.plot(epochs, train_loss, 'b', label='Training loss')\n",
        "plt.plot(epochs, val_loss, 'r', label='Validation loss')\n",
        "plt.title('Training and Validation Loss')\n",
        "plt.xlabel('Epochs')\n",
        "plt.ylabel('Loss')\n",
        "plt.legend()\n",
        "plt.show()"
      ]
    },
    {
      "cell_type": "code",
      "execution_count": null,
      "metadata": {
        "colab": {
          "base_uri": "https://localhost:8080/"
        },
        "id": "CHbxN6KWK1Ay",
        "outputId": "978a0a56-505c-4987-eb52-8467ebd7dd0c"
      },
      "outputs": [
        {
          "output_type": "stream",
          "name": "stdout",
          "text": [
            "Found 4852 images belonging to 5 classes.\n",
            "10/10 [==============================] - 17s 1s/step - loss: 0.6489 - accuracy: 0.8508\n",
            "Test loss: 0.6489183306694031\n",
            "Test accuracy: 0.8507831692695618\n"
          ]
        }
      ],
      "source": [
        "test_datagen = ImageDataGenerator(rescale=1./255)\n",
        "\n",
        "test_generator = test_datagen.flow_from_directory(\n",
        "        '/content/sample_data/miotcd/HW02-Practical/Dataset/test',\n",
        "        target_size=(128, 128),\n",
        "        batch_size=512,\n",
        "        class_mode='categorical')\n",
        "\n",
        "score = model.evaluate(test_generator)\n",
        "print('Test loss:', score[0])\n",
        "print('Test accuracy:', score[1])"
      ]
    },
    {
      "cell_type": "markdown",
      "metadata": {
        "id": "iL-Gp126K7_6"
      },
      "source": [
        "# Best Fitting Model\n",
        "To perform hyperparameter tuning for our model using two different methods, specifically setting the learning rate using `grid search` and setting the learning rate using the `wandb` or `comet` libraries, we can follow the code snippets provided below."
      ]
    },
    {
      "cell_type": "markdown",
      "metadata": {
        "id": "kXkhUkzpL3Ho"
      },
      "source": [
        "**First, I'll demonstrate how to set the learning rate using grid search. For this purpose, we'll use the `GridSearchCV` class from the `sklearn` library. Here's an code:**"
      ]
    },
    {
      "cell_type": "code",
      "source": [
        "import tensorflow as tf\n",
        "from tensorflow.keras.preprocessing.image import ImageDataGenerator\n",
        "train_datagen = ImageDataGenerator(rescale=1./255)\n",
        "train_generator = train_datagen.flow_from_directory(\n",
        "    '/content/drive/MyDrive/FCI-HW2/HW02-Practical/Dataset/train',\n",
        "    target_size=(128, 128),\n",
        "    batch_size=128,\n",
        "    class_mode='categorical'\n",
        ")\n",
        "\n",
        "validation_datagen = ImageDataGenerator(rescale=1./255)\n",
        "validation_generator = validation_datagen.flow_from_directory(\n",
        "    '/content/drive/MyDrive/FCI-HW2/HW02-Practical/Dataset/valid',\n",
        "    target_size=(128, 128),\n",
        "    batch_size=128,\n",
        "    class_mode='categorical'\n",
        ")"
      ],
      "metadata": {
        "colab": {
          "base_uri": "https://localhost:8080/"
        },
        "id": "b_osm6g11hhA",
        "outputId": "b4821465-3075-453a-940f-779293ac0a68"
      },
      "execution_count": null,
      "outputs": [
        {
          "output_type": "stream",
          "name": "stdout",
          "text": [
            "Found 15000 images belonging to 5 classes.\n",
            "Found 5000 images belonging to 5 classes.\n"
          ]
        }
      ]
    },
    {
      "cell_type": "code",
      "execution_count": null,
      "metadata": {
        "colab": {
          "base_uri": "https://localhost:8080/"
        },
        "id": "sYogA3VgLzpa",
        "outputId": "1c3be73d-7e1e-4a07-f266-e044f2a98645"
      },
      "outputs": [
        {
          "output_type": "stream",
          "name": "stderr",
          "text": [
            "<ipython-input-24-15afdd8771bb>:29: DeprecationWarning: KerasClassifier is deprecated, use Sci-Keras (https://github.com/adriangb/scikeras) instead. See https://www.adriangb.com/scikeras/stable/migration.html for help migrating.\n",
            "  model = KerasClassifier(build_fn=create_model, epochs=10, batch_size=128, verbose=0)\n"
          ]
        },
        {
          "output_type": "stream",
          "name": "stdout",
          "text": [
            "Best parameters:  {'learning_rate': 0.0001}\n",
            "Best score:  0.36674050490061444\n"
          ]
        }
      ],
      "source": [
        "import numpy as np\n",
        "from sklearn.model_selection import GridSearchCV\n",
        "import tensorflow as tf\n",
        "from tensorflow.keras.wrappers.scikit_learn import KerasClassifier\n",
        "from tensorflow.keras.optimizers import Adam\n",
        "from tensorflow.keras.preprocessing.image import ImageDataGenerator\n",
        "\n",
        "# Define the model architecture\n",
        "def create_model(learning_rate):\n",
        "    model = Sequential()\n",
        "    model.add(Conv2D(64, (3, 3),activation='relu', input_shape=(128, 128, 3)))\n",
        "    model.add(MaxPooling2D(pool_size=(2, 2)))\n",
        "    model.add(Conv2D(128, (3, 3),activation='relu'))\n",
        "    model.add(MaxPooling2D(pool_size=(2, 2)))\n",
        "    model.add(Conv2D(256, (3, 3),activation='relu'))\n",
        "    model.add(MaxPooling2D(pool_size=(2, 2)))\n",
        "    model.add(Flatten())\n",
        "    model.add(Dense(512, activation='relu'))\n",
        "    model.add(Dropout(0.5))\n",
        "    model.add(Dense(256, activation='relu'))\n",
        "    model.add(Dropout(0.5))\n",
        "    model.add(Dense(5, activation='softmax'))\n",
        "\n",
        "    optimizer = Adam(learning_rate=learning_rate)\n",
        "    model.compile(loss='categorical_crossentropy', optimizer=optimizer, metrics=['accuracy'])\n",
        "    return model\n",
        "\n",
        "# Create the Keras classifier for use in GridSearchCV\n",
        "model = KerasClassifier(build_fn=create_model, epochs=10, batch_size=128, verbose=0)\n",
        "\n",
        "# Define the grid search parameters\n",
        "learning_rate = [0.0001, 0.001, 0.01, 0.1]\n",
        "\n",
        "param_grid = dict(learning_rate=learning_rate)\n",
        "\n",
        "# Load the data from the generator\n",
        "X_train, y_train = next(train_generator)\n",
        "X_val, y_val = next(validation_generator)\n",
        "\n",
        "# Create the grid search\n",
        "grid = GridSearchCV(estimator=model, param_grid=param_grid, cv=3)\n",
        "grid_result = grid.fit(X_train, y_train, validation_data=(X_val, y_val))\n",
        "\n",
        "# Print the best parameters and score\n",
        "print(\"Best parameters: \", grid_result.best_params_)\n",
        "print(\"Best score: \", grid_result.best_score_)"
      ]
    },
    {
      "cell_type": "markdown",
      "metadata": {
        "id": "hINMAL2P28xB"
      },
      "source": [
        "**now we plot the best model loss**"
      ]
    },
    {
      "cell_type": "code",
      "execution_count": null,
      "metadata": {
        "colab": {
          "base_uri": "https://localhost:8080/",
          "height": 472
        },
        "id": "Ezax9lvL28Ou",
        "outputId": "7d8efa19-ed0d-46f2-cd99-e6ba121600e5"
      },
      "outputs": [
        {
          "output_type": "display_data",
          "data": {
            "text/plain": [
              "<Figure size 640x480 with 1 Axes>"
            ],
            "image/png": "[encoded data removed]"
          },
          "metadata": {}
        }
      ],
      "source": [
        "import matplotlib.pyplot as plt\n",
        "\n",
        "# Get the best parameters and corresponding model\n",
        "best_params = grid_result.best_params_\n",
        "best_model = grid_result.best_estimator_.model\n",
        "\n",
        "# Train the model with the best parameters\n",
        "history = best_model.fit(X_train, y_train, validation_data=(X_val, y_val), epochs=10, batch_size=128, verbose=0)\n",
        "\n",
        "# Plot the loss on the training and validation sets\n",
        "plt.plot(history.history['loss'], label='Training Loss')\n",
        "plt.plot(history.history['val_loss'], label='Validation Loss')\n",
        "plt.title('Training and Validation Loss')\n",
        "plt.xlabel('Epoch')\n",
        "plt.ylabel('Loss')\n",
        "plt.legend()\n",
        "plt.show()"
      ]
    },
    {
      "cell_type": "markdown",
      "metadata": {
        "id": "blvgOJcONSfF"
      },
      "source": [
        "**Now, let's move on to setting the learning rate using the `wandb` or `comet` libraries. These libraries allow us to track and log experiments, including hyperparameters. Here's an code snippets using `wandb`:**"
      ]
    },
    {
      "cell_type": "code",
      "source": [
        "import wandb\n",
        "\n",
        "wandb.login()\n",
        "\n",
        "\n",
        "# Define sweep config\n",
        "sweep_configuration = {\n",
        "    'method': 'grid',\n",
        "    'name': 'sweep_grid',\n",
        "    'metric': {'goal': 'maximize', 'name': 'val_accuracy'},\n",
        "    'parameters': {\n",
        "        'learning_rate': {'values': [1e-3, 1e-4, 1e-5]}\n",
        "    }\n",
        "}\n",
        "\n",
        "# Default values for hyper-parameters we're going to sweep over\n",
        "configs = {\n",
        "       'learning_rate' : 0.001\n",
        "   }\n"
      ],
      "metadata": {
        "colab": {
          "base_uri": "https://localhost:8080/"
        },
        "id": "RZPZmJvb4b-q",
        "outputId": "e2c17948-1c68-4838-be04-4d3fc0c259c6"
      },
      "execution_count": null,
      "outputs": [
        {
          "output_type": "stream",
          "name": "stderr",
          "text": [
            "\u001b[34m\u001b[1mwandb\u001b[0m: Currently logged in as: \u001b[33mmr-srezaei\u001b[0m. Use \u001b[1m`wandb login --relogin`\u001b[0m to force relogin\n"
          ]
        }
      ]
    },
    {
      "cell_type": "code",
      "source": [
        "# Initialize sweep by passing in the config\n",
        "sweep_id = wandb.sweep(sweep_configuration, project=\"miotcd\")"
      ],
      "metadata": {
        "colab": {
          "base_uri": "https://localhost:8080/"
        },
        "id": "R7GW_utdBLhy",
        "outputId": "8a25660a-b4f3-4971-ac31-f9a874da7522"
      },
      "execution_count": null,
      "outputs": [
        {
          "output_type": "stream",
          "name": "stderr",
          "text": [
            "\u001b[34m\u001b[1mwandb\u001b[0m: Network error (ReadTimeout), entering retry loop.\n"
          ]
        },
        {
          "output_type": "stream",
          "name": "stdout",
          "text": [
            "Create sweep with ID: 7zgqhsyq\n",
            "Sweep URL: https://wandb.ai/mr-srezaei/miotcd/sweeps/7zgqhsyq\n"
          ]
        }
      ]
    },
    {
      "cell_type": "code",
      "execution_count": null,
      "metadata": {
        "id": "u9cD7xUmNqKI"
      },
      "outputs": [],
      "source": [
        "import tensorflow as tf\n",
        "from tensorflow.keras.wrappers.scikit_learn import KerasClassifier\n",
        "from tensorflow.keras.optimizers import Adam\n",
        "from tensorflow.keras.preprocessing.image import ImageDataGenerator\n",
        "from wandb.keras import WandbCallback\n",
        "\n",
        "\n",
        "def train(config = None):\n",
        "    with wandb.init(config=config):\n",
        "        config = wandb.config\n",
        "\n",
        "        model = Sequential()\n",
        "        model.add(Conv2D(64, (3, 3),activation='relu', input_shape=(128, 128, 3)))\n",
        "        model.add(MaxPooling2D(pool_size=(2, 2)))\n",
        "\n",
        "        model.add(Conv2D(128, (3, 3),activation='relu'))\n",
        "        model.add(MaxPooling2D(pool_size=(2, 2)))\n",
        "\n",
        "        model.add(Conv2D(256, (3, 3),activation='relu'))\n",
        "        model.add(MaxPooling2D(pool_size=(2, 2)))\n",
        "\n",
        "        model.add(Flatten())\n",
        "        model.add(Dense(512, activation='relu'))\n",
        "        model.add(Dropout(0.5))\n",
        "        model.add(Dense(256, activation='relu'))\n",
        "        model.add(Dropout(0.5))\n",
        "        model.add(Dense(5, activation='softmax'))\n",
        "\n",
        "\n",
        "        # Set the learning rate using wandb\n",
        "        optimizer = Adam(learning_rate=config.learning_rate)\n",
        "        model.compile(loss='categorical_crossentropy', optimizer=optimizer, metrics=['accuracy'])\n",
        "\n",
        "        # Train the model and log the metrics\n",
        "        model.fit(train_generator,\n",
        "              steps_per_epoch=train_generator.n // train_generator.batch_size,\n",
        "              epochs=10,\n",
        "              validation_data=validation_generator,\n",
        "              validation_steps=validation_generator.n // validation_generator.batch_size,\n",
        "              callbacks=[WandbCallback()])\n",
        "        wandb.log({'train_loss': model.history.history['loss'], 'val_loss': model.history.history['val_loss']})"
      ]
    },
    {
      "cell_type": "code",
      "source": [
        "wandb.agent(sweep_id, train, count=5)"
      ],
      "metadata": {
        "colab": {
          "base_uri": "https://localhost:8080/",
          "height": 1000,
          "referenced_widgets": [
            "16e7eaf142c24de298ef72bb74da9521",
            "ca6439a995574a83bd4131583127f6e8",
            "d8a64efba9694880b23931ea7ac3dd7b",
            "3af53fc5aa4a470abe230aef46cdf584",
            "1adcce1812a84dffa6e510f1d556644d",
            "ce71f5b3dd164f6683cc62cc6931688b",
            "69604f7275b34bdca459ccf439217697",
            "ff576fc9199443f491b3b9f3e20ec943"
          ]
        },
        "id": "MQqCDYdmCqtD",
        "outputId": "89a0991f-e0ae-4882-8292-39b8d3b65d6f"
      },
      "execution_count": null,
      "outputs": [
        {
          "output_type": "stream",
          "name": "stderr",
          "text": [
            "\u001b[34m\u001b[1mwandb\u001b[0m: Agent Starting Run: jbhenuzr with config:\n",
            "\u001b[34m\u001b[1mwandb\u001b[0m: \tlearning_rate: 0.001\n"
          ]
        },
        {
          "output_type": "display_data",
          "data": {
            "text/plain": [
              "<IPython.core.display.HTML object>"
            ],
            "text/html": [
              "Tracking run with wandb version 0.15.3"
            ]
          },
          "metadata": {}
        },
        {
          "output_type": "display_data",
          "data": {
            "text/plain": [
              "<IPython.core.display.HTML object>"
            ],
            "text/html": [
              "Run data is saved locally in <code>/content/wandb/run-20230521_204112-jbhenuzr</code>"
            ]
          },
          "metadata": {}
        },
        {
          "output_type": "display_data",
          "data": {
            "text/plain": [
              "<IPython.core.display.HTML object>"
            ],
            "text/html": [
              "Syncing run <strong><a href='https://wandb.ai/mr-srezaei/miotcd/runs/jbhenuzr' target=\"_blank\">zesty-sweep-1</a></strong> to <a href='https://wandb.ai/mr-srezaei/miotcd' target=\"_blank\">Weights & Biases</a> (<a href='https://wandb.me/run' target=\"_blank\">docs</a>)<br/>Sweep page: <a href='https://wandb.ai/mr-srezaei/miotcd/sweeps/7zgqhsyq' target=\"_blank\">https://wandb.ai/mr-srezaei/miotcd/sweeps/7zgqhsyq</a>"
            ]
          },
          "metadata": {}
        },
        {
          "output_type": "display_data",
          "data": {
            "text/plain": [
              "<IPython.core.display.HTML object>"
            ],
            "text/html": [
              " View project at <a href='https://wandb.ai/mr-srezaei/miotcd' target=\"_blank\">https://wandb.ai/mr-srezaei/miotcd</a>"
            ]
          },
          "metadata": {}
        },
        {
          "output_type": "display_data",
          "data": {
            "text/plain": [
              "<IPython.core.display.HTML object>"
            ],
            "text/html": [
              " View sweep at <a href='https://wandb.ai/mr-srezaei/miotcd/sweeps/7zgqhsyq' target=\"_blank\">https://wandb.ai/mr-srezaei/miotcd/sweeps/7zgqhsyq</a>"
            ]
          },
          "metadata": {}
        },
        {
          "output_type": "display_data",
          "data": {
            "text/plain": [
              "<IPython.core.display.HTML object>"
            ],
            "text/html": [
              " View run at <a href='https://wandb.ai/mr-srezaei/miotcd/runs/jbhenuzr' target=\"_blank\">https://wandb.ai/mr-srezaei/miotcd/runs/jbhenuzr</a>"
            ]
          },
          "metadata": {}
        },
        {
          "output_type": "stream",
          "name": "stderr",
          "text": [
            "\u001b[34m\u001b[1mwandb\u001b[0m: \u001b[33mWARNING\u001b[0m The save_model argument by default saves the model in the HDF5 format that cannot save custom objects like subclassed models and custom layers. This behavior will be deprecated in a future release in favor of the SavedModel format. Meanwhile, the HDF5 model is saved as W&B files and the SavedModel as W&B Artifacts.\n"
          ]
        },
        {
          "output_type": "stream",
          "name": "stdout",
          "text": [
            "Epoch 1/10\n",
            "117/117 [==============================] - ETA: 0s - loss: 1.1485 - accuracy: 0.5381"
          ]
        },
        {
          "output_type": "stream",
          "name": "stderr",
          "text": [
            "WARNING:absl:Found untraced functions such as _jit_compiled_convolution_op, _jit_compiled_convolution_op, _jit_compiled_convolution_op while saving (showing 3 of 3). These functions will not be directly callable after loading.\n",
            "\u001b[34m\u001b[1mwandb\u001b[0m: Adding directory to artifact (/content/wandb/run-20230521_204112-jbhenuzr/files/model-best)... Done. 1.4s\n"
          ]
        },
        {
          "output_type": "stream",
          "name": "stdout",
          "text": [
            "\b\b\b\b\b\b\b\b\b\b\b\b\b\b\b\b\b\b\b\b\b\b\b\b\b\b\b\b\b\b\b\b\b\b\b\b\b\b\b\b\b\b\b\b\b\b\b\b\b\b\b\b\b\b\b\b\b\b\b\b\b\b\b\b\b\b\b\b\b\b\b\b\b\b\b\b\b\b\b\b\b\b\b\b\r117/117 [==============================] - 79s 610ms/step - loss: 1.1485 - accuracy: 0.5381 - val_loss: 0.7554 - val_accuracy: 0.7183\n",
            "Epoch 2/10\n",
            "117/117 [==============================] - ETA: 0s - loss: 0.6320 - accuracy: 0.7715"
          ]
        },
        {
          "output_type": "stream",
          "name": "stderr",
          "text": [
            "WARNING:absl:Found untraced functions such as _jit_compiled_convolution_op, _jit_compiled_convolution_op, _jit_compiled_convolution_op while saving (showing 3 of 3). These functions will not be directly callable after loading.\n",
            "\u001b[34m\u001b[1mwandb\u001b[0m: Adding directory to artifact (/content/wandb/run-20230521_204112-jbhenuzr/files/model-best)... Done. 1.4s\n"
          ]
        },
        {
          "output_type": "stream",
          "name": "stdout",
          "text": [
            "\b\b\b\b\b\b\b\b\b\b\b\b\b\b\b\b\b\b\b\b\b\b\b\b\b\b\b\b\b\b\b\b\b\b\b\b\b\b\b\b\b\b\b\b\b\b\b\b\b\b\b\b\b\b\b\b\b\b\b\b\b\b\b\b\b\b\b\b\b\b\b\b\b\b\b\b\b\b\b\b\b\b\b\b\r117/117 [==============================] - 71s 605ms/step - loss: 0.6320 - accuracy: 0.7715 - val_loss: 0.6022 - val_accuracy: 0.7881\n",
            "Epoch 3/10\n",
            "117/117 [==============================] - ETA: 0s - loss: 0.4469 - accuracy: 0.8448"
          ]
        },
        {
          "output_type": "stream",
          "name": "stderr",
          "text": [
            "WARNING:absl:Found untraced functions such as _jit_compiled_convolution_op, _jit_compiled_convolution_op, _jit_compiled_convolution_op while saving (showing 3 of 3). These functions will not be directly callable after loading.\n",
            "\u001b[34m\u001b[1mwandb\u001b[0m: Adding directory to artifact (/content/wandb/run-20230521_204112-jbhenuzr/files/model-best)... Done. 1.8s\n"
          ]
        },
        {
          "output_type": "stream",
          "name": "stdout",
          "text": [
            "\b\b\b\b\b\b\b\b\b\b\b\b\b\b\b\b\b\b\b\b\b\b\b\b\b\b\b\b\b\b\b\b\b\b\b\b\b\b\b\b\b\b\b\b\b\b\b\b\b\b\b\b\b\b\b\b\b\b\b\b\b\b\b\b\b\b\b\b\b\b\b\b\b\b\b\b\b\b\b\b\b\b\b\b\r117/117 [==============================] - 60s 516ms/step - loss: 0.4469 - accuracy: 0.8448 - val_loss: 0.5489 - val_accuracy: 0.8259\n",
            "Epoch 4/10\n",
            "117/117 [==============================] - ETA: 0s - loss: 0.3106 - accuracy: 0.8959"
          ]
        },
        {
          "output_type": "stream",
          "name": "stderr",
          "text": [
            "WARNING:absl:Found untraced functions such as _jit_compiled_convolution_op, _jit_compiled_convolution_op, _jit_compiled_convolution_op while saving (showing 3 of 3). These functions will not be directly callable after loading.\n",
            "\u001b[34m\u001b[1mwandb\u001b[0m: Adding directory to artifact (/content/wandb/run-20230521_204112-jbhenuzr/files/model-best)... Done. 1.5s\n"
          ]
        },
        {
          "output_type": "stream",
          "name": "stdout",
          "text": [
            "\b\b\b\b\b\b\b\b\b\b\b\b\b\b\b\b\b\b\b\b\b\b\b\b\b\b\b\b\b\b\b\b\b\b\b\b\b\b\b\b\b\b\b\b\b\b\b\b\b\b\b\b\b\b\b\b\b\b\b\b\b\b\b\b\b\b\b\b\b\b\b\b\b\b\b\b\b\b\b\b\b\b\b\b\r117/117 [==============================] - 68s 585ms/step - loss: 0.3106 - accuracy: 0.8959 - val_loss: 0.4516 - val_accuracy: 0.8534\n",
            "Epoch 5/10\n",
            "117/117 [==============================] - ETA: 0s - loss: 0.2243 - accuracy: 0.9225"
          ]
        },
        {
          "output_type": "stream",
          "name": "stderr",
          "text": [
            "WARNING:absl:Found untraced functions such as _jit_compiled_convolution_op, _jit_compiled_convolution_op, _jit_compiled_convolution_op while saving (showing 3 of 3). These functions will not be directly callable after loading.\n",
            "\u001b[34m\u001b[1mwandb\u001b[0m: Adding directory to artifact (/content/wandb/run-20230521_204112-jbhenuzr/files/model-best)... Done. 1.5s\n"
          ]
        },
        {
          "output_type": "stream",
          "name": "stdout",
          "text": [
            "\b\b\b\b\b\b\b\b\b\b\b\b\b\b\b\b\b\b\b\b\b\b\b\b\b\b\b\b\b\b\b\b\b\b\b\b\b\b\b\b\b\b\b\b\b\b\b\b\b\b\b\b\b\b\b\b\b\b\b\b\b\b\b\b\b\b\b\b\b\b\b\b\b\b\b\b\b\b\b\b\b\b\b\b\r117/117 [==============================] - 69s 587ms/step - loss: 0.2243 - accuracy: 0.9225 - val_loss: 0.4276 - val_accuracy: 0.8744\n",
            "Epoch 6/10\n",
            "117/117 [==============================] - 55s 467ms/step - loss: 0.1726 - accuracy: 0.9406 - val_loss: 0.4545 - val_accuracy: 0.8592\n",
            "Epoch 7/10\n",
            "117/117 [==============================] - 62s 532ms/step - loss: 0.1297 - accuracy: 0.9584 - val_loss: 0.4372 - val_accuracy: 0.8780\n",
            "Epoch 8/10\n",
            "117/117 [==============================] - 53s 450ms/step - loss: 0.1056 - accuracy: 0.9664 - val_loss: 0.4651 - val_accuracy: 0.8722\n",
            "Epoch 9/10\n",
            "117/117 [==============================] - 61s 522ms/step - loss: 0.0834 - accuracy: 0.9727 - val_loss: 0.5455 - val_accuracy: 0.8776\n",
            "Epoch 10/10\n",
            "117/117 [==============================] - 52s 446ms/step - loss: 0.0667 - accuracy: 0.9788 - val_loss: 0.5951 - val_accuracy: 0.8710\n"
          ]
        },
        {
          "output_type": "display_data",
          "data": {
            "text/plain": [
              "<IPython.core.display.HTML object>"
            ],
            "text/html": [
              "Waiting for W&B process to finish... <strong style=\"color:green\">(success).</strong>"
            ]
          },
          "metadata": {}
        },
        {
          "output_type": "display_data",
          "data": {
            "text/plain": [
              "<IPython.core.display.HTML object>"
            ],
            "text/html": [
              "<style>\n",
              "    table.wandb td:nth-child(1) { padding: 0 10px; text-align: left ; width: auto;} td:nth-child(2) {text-align: left ; width: 100%}\n",
              "    .wandb-row { display: flex; flex-direction: row; flex-wrap: wrap; justify-content: flex-start; width: 100% }\n",
              "    .wandb-col { display: flex; flex-direction: column; flex-basis: 100%; flex: 1; padding: 10px; }\n",
              "    </style>\n",
              "<div class=\"wandb-row\"><div class=\"wandb-col\"><h3>Run history:</h3><br/><table class=\"wandb\"><tr><td>accuracy</td><td>▁▅▆▇▇▇████</td></tr><tr><td>epoch</td><td>▁▂▃▃▄▅▆▆▇█</td></tr><tr><td>loss</td><td>█▅▃▃▂▂▁▁▁▁</td></tr><tr><td>val_accuracy</td><td>▁▄▆▇█▇████</td></tr><tr><td>val_loss</td><td>█▅▄▂▁▂▁▂▄▅</td></tr></table><br/></div><div class=\"wandb-col\"><h3>Run summary:</h3><br/><table class=\"wandb\"><tr><td>accuracy</td><td>0.97878</td></tr><tr><td>best_epoch</td><td>4</td></tr><tr><td>best_val_loss</td><td>0.42758</td></tr><tr><td>epoch</td><td>9</td></tr><tr><td>loss</td><td>0.06673</td></tr><tr><td>val_accuracy</td><td>0.87099</td></tr></table><br/></div></div>"
            ]
          },
          "metadata": {}
        },
        {
          "output_type": "display_data",
          "data": {
            "text/plain": [
              "<IPython.core.display.HTML object>"
            ],
            "text/html": [
              " View run <strong style=\"color:#cdcd00\">zesty-sweep-1</strong> at: <a href='https://wandb.ai/mr-srezaei/miotcd/runs/jbhenuzr' target=\"_blank\">https://wandb.ai/mr-srezaei/miotcd/runs/jbhenuzr</a><br/>Synced 5 W&B file(s), 1 media file(s), 25 artifact file(s) and 1 other file(s)"
            ]
          },
          "metadata": {}
        },
        {
          "output_type": "display_data",
          "data": {
            "text/plain": [
              "<IPython.core.display.HTML object>"
            ],
            "text/html": [
              "Find logs at: <code>./wandb/run-20230521_204112-jbhenuzr/logs</code>"
            ]
          },
          "metadata": {}
        },
        {
          "output_type": "stream",
          "name": "stderr",
          "text": [
            "\u001b[34m\u001b[1mwandb\u001b[0m: Agent Starting Run: l7jfdutt with config:\n",
            "\u001b[34m\u001b[1mwandb\u001b[0m: \tlearning_rate: 0.0001\n"
          ]
        },
        {
          "output_type": "display_data",
          "data": {
            "text/plain": [
              "<IPython.core.display.HTML object>"
            ],
            "text/html": [
              "Tracking run with wandb version 0.15.3"
            ]
          },
          "metadata": {}
        },
        {
          "output_type": "display_data",
          "data": {
            "text/plain": [
              "<IPython.core.display.HTML object>"
            ],
            "text/html": [
              "Run data is saved locally in <code>/content/wandb/run-20230521_205318-l7jfdutt</code>"
            ]
          },
          "metadata": {}
        },
        {
          "output_type": "display_data",
          "data": {
            "text/plain": [
              "<IPython.core.display.HTML object>"
            ],
            "text/html": [
              "Syncing run <strong><a href='https://wandb.ai/mr-srezaei/miotcd/runs/l7jfdutt' target=\"_blank\">pretty-sweep-2</a></strong> to <a href='https://wandb.ai/mr-srezaei/miotcd' target=\"_blank\">Weights & Biases</a> (<a href='https://wandb.me/run' target=\"_blank\">docs</a>)<br/>Sweep page: <a href='https://wandb.ai/mr-srezaei/miotcd/sweeps/7zgqhsyq' target=\"_blank\">https://wandb.ai/mr-srezaei/miotcd/sweeps/7zgqhsyq</a>"
            ]
          },
          "metadata": {}
        },
        {
          "output_type": "display_data",
          "data": {
            "text/plain": [
              "<IPython.core.display.HTML object>"
            ],
            "text/html": [
              " View project at <a href='https://wandb.ai/mr-srezaei/miotcd' target=\"_blank\">https://wandb.ai/mr-srezaei/miotcd</a>"
            ]
          },
          "metadata": {}
        },
        {
          "output_type": "display_data",
          "data": {
            "text/plain": [
              "<IPython.core.display.HTML object>"
            ],
            "text/html": [
              " View sweep at <a href='https://wandb.ai/mr-srezaei/miotcd/sweeps/7zgqhsyq' target=\"_blank\">https://wandb.ai/mr-srezaei/miotcd/sweeps/7zgqhsyq</a>"
            ]
          },
          "metadata": {}
        },
        {
          "output_type": "display_data",
          "data": {
            "text/plain": [
              "<IPython.core.display.HTML object>"
            ],
            "text/html": [
              " View run at <a href='https://wandb.ai/mr-srezaei/miotcd/runs/l7jfdutt' target=\"_blank\">https://wandb.ai/mr-srezaei/miotcd/runs/l7jfdutt</a>"
            ]
          },
          "metadata": {}
        },
        {
          "output_type": "stream",
          "name": "stdout",
          "text": [
            "Epoch 1/10\n",
            "117/117 [==============================] - ETA: 0s - loss: 1.2488 - accuracy: 0.4884"
          ]
        },
        {
          "output_type": "stream",
          "name": "stderr",
          "text": [
            "WARNING:absl:Found untraced functions such as _jit_compiled_convolution_op, _jit_compiled_convolution_op, _jit_compiled_convolution_op while saving (showing 3 of 3). These functions will not be directly callable after loading.\n",
            "\u001b[34m\u001b[1mwandb\u001b[0m: Adding directory to artifact (/content/wandb/run-20230521_205318-l7jfdutt/files/model-best)... Done. 1.7s\n"
          ]
        },
        {
          "output_type": "stream",
          "name": "stdout",
          "text": [
            "\b\b\b\b\b\b\b\b\b\b\b\b\b\b\b\b\b\b\b\b\b\b\b\b\b\b\b\b\b\b\b\b\b\b\b\b\b\b\b\b\b\b\b\b\b\b\b\b\b\b\b\b\b\b\b\b\b\b\b\b\b\b\b\b\b\b\b\b\b\b\b\b\b\b\b\b\b\b\b\b\b\b\b\b\r117/117 [==============================] - 77s 645ms/step - loss: 1.2488 - accuracy: 0.4884 - val_loss: 0.8769 - val_accuracy: 0.6937\n",
            "Epoch 2/10\n",
            "117/117 [==============================] - ETA: 0s - loss: 0.8659 - accuracy: 0.6816"
          ]
        },
        {
          "output_type": "stream",
          "name": "stderr",
          "text": [
            "WARNING:absl:Found untraced functions such as _jit_compiled_convolution_op, _jit_compiled_convolution_op, _jit_compiled_convolution_op while saving (showing 3 of 3). These functions will not be directly callable after loading.\n",
            "\u001b[34m\u001b[1mwandb\u001b[0m: Adding directory to artifact (/content/wandb/run-20230521_205318-l7jfdutt/files/model-best)... Done. 6.9s\n"
          ]
        },
        {
          "output_type": "stream",
          "name": "stdout",
          "text": [
            "\b\b\b\b\b\b\b\b\b\b\b\b\b\b\b\b\b\b\b\b\b\b\b\b\b\b\b\b\b\b\b\b\b\b\b\b\b\b\b\b\b\b\b\b\b\b\b\b\b\b\b\b\b\b\b\b\b\b\b\b\b\b\b\b\b\b\b\b\b\b\b\b\b\b\b\b\b\b\b\b\b\b\b\b\r117/117 [==============================] - 73s 627ms/step - loss: 0.8659 - accuracy: 0.6816 - val_loss: 0.7876 - val_accuracy: 0.7165\n",
            "Epoch 3/10\n",
            "117/117 [==============================] - ETA: 0s - loss: 0.6937 - accuracy: 0.7523"
          ]
        },
        {
          "output_type": "stream",
          "name": "stderr",
          "text": [
            "WARNING:absl:Found untraced functions such as _jit_compiled_convolution_op, _jit_compiled_convolution_op, _jit_compiled_convolution_op while saving (showing 3 of 3). These functions will not be directly callable after loading.\n",
            "\u001b[34m\u001b[1mwandb\u001b[0m: Adding directory to artifact (/content/wandb/run-20230521_205318-l7jfdutt/files/model-best)... Done. 2.1s\n"
          ]
        },
        {
          "output_type": "stream",
          "name": "stdout",
          "text": [
            "\b\b\b\b\b\b\b\b\b\b\b\b\b\b\b\b\b\b\b\b\b\b\b\b\b\b\b\b\b\b\b\b\b\b\b\b\b\b\b\b\b\b\b\b\b\b\b\b\b\b\b\b\b\b\b\b\b\b\b\b\b\b\b\b\b\b\b\b\b\b\b\b\b\b\b\b\b\b\b\b\b\b\b\b\r117/117 [==============================] - 61s 518ms/step - loss: 0.6937 - accuracy: 0.7523 - val_loss: 0.6992 - val_accuracy: 0.7610\n",
            "Epoch 4/10\n",
            "117/117 [==============================] - ETA: 0s - loss: 0.5837 - accuracy: 0.7915"
          ]
        },
        {
          "output_type": "stream",
          "name": "stderr",
          "text": [
            "WARNING:absl:Found untraced functions such as _jit_compiled_convolution_op, _jit_compiled_convolution_op, _jit_compiled_convolution_op while saving (showing 3 of 3). These functions will not be directly callable after loading.\n",
            "\u001b[34m\u001b[1mwandb\u001b[0m: Adding directory to artifact (/content/wandb/run-20230521_205318-l7jfdutt/files/model-best)... Done. 1.8s\n"
          ]
        },
        {
          "output_type": "stream",
          "name": "stdout",
          "text": [
            "\b\b\b\b\b\b\b\b\b\b\b\b\b\b\b\b\b\b\b\b\b\b\b\b\b\b\b\b\b\b\b\b\b\b\b\b\b\b\b\b\b\b\b\b\b\b\b\b\b\b\b\b\b\b\b\b\b\b\b\b\b\b\b\b\b\b\b\b\b\b\b\b\b\b\b\b\b\b\b\b\b\b\b\b\r117/117 [==============================] - 67s 572ms/step - loss: 0.5837 - accuracy: 0.7915 - val_loss: 0.6243 - val_accuracy: 0.7780\n",
            "Epoch 5/10\n",
            "117/117 [==============================] - ETA: 0s - loss: 0.5034 - accuracy: 0.8243"
          ]
        },
        {
          "output_type": "stream",
          "name": "stderr",
          "text": [
            "WARNING:absl:Found untraced functions such as _jit_compiled_convolution_op, _jit_compiled_convolution_op, _jit_compiled_convolution_op while saving (showing 3 of 3). These functions will not be directly callable after loading.\n",
            "\u001b[34m\u001b[1mwandb\u001b[0m: Adding directory to artifact (/content/wandb/run-20230521_205318-l7jfdutt/files/model-best)... Done. 1.7s\n"
          ]
        },
        {
          "output_type": "stream",
          "name": "stdout",
          "text": [
            "\b\b\b\b\b\b\b\b\b\b\b\b\b\b\b\b\b\b\b\b\b\b\b\b\b\b\b\b\b\b\b\b\b\b\b\b\b\b\b\b\b\b\b\b\b\b\b\b\b\b\b\b\b\b\b\b\b\b\b\b\b\b\b\b\b\b\b\b\b\b\b\b\b\b\b\b\b\b\b\b\b\b\b\b\r117/117 [==============================] - 67s 575ms/step - loss: 0.5034 - accuracy: 0.8243 - val_loss: 0.5487 - val_accuracy: 0.8151\n",
            "Epoch 6/10\n",
            "117/117 [==============================] - ETA: 0s - loss: 0.4339 - accuracy: 0.8542"
          ]
        },
        {
          "output_type": "stream",
          "name": "stderr",
          "text": [
            "WARNING:absl:Found untraced functions such as _jit_compiled_convolution_op, _jit_compiled_convolution_op, _jit_compiled_convolution_op while saving (showing 3 of 3). These functions will not be directly callable after loading.\n",
            "\u001b[34m\u001b[1mwandb\u001b[0m: Adding directory to artifact (/content/wandb/run-20230521_205318-l7jfdutt/files/model-best)... Done. 3.0s\n"
          ]
        },
        {
          "output_type": "stream",
          "name": "stdout",
          "text": [
            "\b\b\b\b\b\b\b\b\b\b\b\b\b\b\b\b\b\b\b\b\b\b\b\b\b\b\b\b\b\b\b\b\b\b\b\b\b\b\b\b\b\b\b\b\b\b\b\b\b\b\b\b\b\b\b\b\b\b\b\b\b\b\b\b\b\b\b\b\b\b\b\b\b\b\b\b\b\b\b\b\b\b\b\b\r117/117 [==============================] - 72s 617ms/step - loss: 0.4339 - accuracy: 0.8542 - val_loss: 0.5038 - val_accuracy: 0.8323\n",
            "Epoch 7/10\n",
            "117/117 [==============================] - 52s 447ms/step - loss: 0.3767 - accuracy: 0.8730 - val_loss: 0.5365 - val_accuracy: 0.8285\n",
            "Epoch 8/10\n",
            "117/117 [==============================] - ETA: 0s - loss: 0.3216 - accuracy: 0.8912"
          ]
        },
        {
          "output_type": "stream",
          "name": "stderr",
          "text": [
            "WARNING:absl:Found untraced functions such as _jit_compiled_convolution_op, _jit_compiled_convolution_op, _jit_compiled_convolution_op while saving (showing 3 of 3). These functions will not be directly callable after loading.\n",
            "\u001b[34m\u001b[1mwandb\u001b[0m: Adding directory to artifact (/content/wandb/run-20230521_205318-l7jfdutt/files/model-best)... Done. 1.8s\n"
          ]
        },
        {
          "output_type": "stream",
          "name": "stdout",
          "text": [
            "\b\b\b\b\b\b\b\b\b\b\b\b\b\b\b\b\b\b\b\b\b\b\b\b\b\b\b\b\b\b\b\b\b\b\b\b\b\b\b\b\b\b\b\b\b\b\b\b\b\b\b\b\b\b\b\b\b\b\b\b\b\b\b\b\b\b\b\b\b\b\b\b\b\b\b\b\b\b\b\b\b\b\b\b\r117/117 [==============================] - 68s 588ms/step - loss: 0.3216 - accuracy: 0.8912 - val_loss: 0.4634 - val_accuracy: 0.8476\n",
            "Epoch 9/10\n",
            "117/117 [==============================] - 63s 538ms/step - loss: 0.2861 - accuracy: 0.9063 - val_loss: 0.4753 - val_accuracy: 0.8385\n",
            "Epoch 10/10\n",
            "117/117 [==============================] - ETA: 0s - loss: 0.2563 - accuracy: 0.9160"
          ]
        },
        {
          "output_type": "stream",
          "name": "stderr",
          "text": [
            "WARNING:absl:Found untraced functions such as _jit_compiled_convolution_op, _jit_compiled_convolution_op, _jit_compiled_convolution_op while saving (showing 3 of 3). These functions will not be directly callable after loading.\n",
            "\u001b[34m\u001b[1mwandb\u001b[0m: Adding directory to artifact (/content/wandb/run-20230521_205318-l7jfdutt/files/model-best)... Done. 4.6s\n"
          ]
        },
        {
          "output_type": "stream",
          "name": "stdout",
          "text": [
            "\b\b\b\b\b\b\b\b\b\b\b\b\b\b\b\b\b\b\b\b\b\b\b\b\b\b\b\b\b\b\b\b\b\b\b\b\b\b\b\b\b\b\b\b\b\b\b\b\b\b\b\b\b\b\b\b\b\b\b\b\b\b\b\b\b\b\b\b\b\b\b\b\b\b\b\b\b\b\b\b\b\b\b\b\r117/117 [==============================] - 72s 617ms/step - loss: 0.2563 - accuracy: 0.9160 - val_loss: 0.4443 - val_accuracy: 0.8564\n"
          ]
        },
        {
          "output_type": "display_data",
          "data": {
            "text/plain": [
              "<IPython.core.display.HTML object>"
            ],
            "text/html": [
              "Waiting for W&B process to finish... <strong style=\"color:green\">(success).</strong>"
            ]
          },
          "metadata": {}
        },
        {
          "output_type": "display_data",
          "data": {
            "text/plain": [
              "<IPython.core.display.HTML object>"
            ],
            "text/html": [
              "<style>\n",
              "    table.wandb td:nth-child(1) { padding: 0 10px; text-align: left ; width: auto;} td:nth-child(2) {text-align: left ; width: 100%}\n",
              "    .wandb-row { display: flex; flex-direction: row; flex-wrap: wrap; justify-content: flex-start; width: 100% }\n",
              "    .wandb-col { display: flex; flex-direction: column; flex-basis: 100%; flex: 1; padding: 10px; }\n",
              "    </style>\n",
              "<div class=\"wandb-row\"><div class=\"wandb-col\"><h3>Run history:</h3><br/><table class=\"wandb\"><tr><td>accuracy</td><td>▁▄▅▆▆▇▇███</td></tr><tr><td>epoch</td><td>▁▂▃▃▄▅▆▆▇█</td></tr><tr><td>loss</td><td>█▅▄▃▃▂▂▁▁▁</td></tr><tr><td>val_accuracy</td><td>▁▂▄▅▆▇▇█▇█</td></tr><tr><td>val_loss</td><td>█▇▅▄▃▂▂▁▂▁</td></tr></table><br/></div><div class=\"wandb-col\"><h3>Run summary:</h3><br/><table class=\"wandb\"><tr><td>accuracy</td><td>0.91601</td></tr><tr><td>best_epoch</td><td>9</td></tr><tr><td>best_val_loss</td><td>0.44431</td></tr><tr><td>epoch</td><td>9</td></tr><tr><td>loss</td><td>0.25628</td></tr><tr><td>val_accuracy</td><td>0.85637</td></tr></table><br/></div></div>"
            ]
          },
          "metadata": {}
        },
        {
          "output_type": "display_data",
          "data": {
            "text/plain": [
              "<IPython.core.display.HTML object>"
            ],
            "text/html": [
              " View run <strong style=\"color:#cdcd00\">pretty-sweep-2</strong> at: <a href='https://wandb.ai/mr-srezaei/miotcd/runs/l7jfdutt' target=\"_blank\">https://wandb.ai/mr-srezaei/miotcd/runs/l7jfdutt</a><br/>Synced 5 W&B file(s), 1 media file(s), 40 artifact file(s) and 1 other file(s)"
            ]
          },
          "metadata": {}
        },
        {
          "output_type": "display_data",
          "data": {
            "text/plain": [
              "<IPython.core.display.HTML object>"
            ],
            "text/html": [
              "Find logs at: <code>./wandb/run-20230521_205318-l7jfdutt/logs</code>"
            ]
          },
          "metadata": {}
        },
        {
          "output_type": "stream",
          "name": "stderr",
          "text": [
            "\u001b[34m\u001b[1mwandb\u001b[0m: Agent Starting Run: 6qpf5tq9 with config:\n",
            "\u001b[34m\u001b[1mwandb\u001b[0m: \tlearning_rate: 1e-05\n"
          ]
        },
        {
          "output_type": "display_data",
          "data": {
            "text/plain": [
              "<IPython.core.display.HTML object>"
            ],
            "text/html": [
              "Tracking run with wandb version 0.15.3"
            ]
          },
          "metadata": {}
        },
        {
          "output_type": "display_data",
          "data": {
            "text/plain": [
              "<IPython.core.display.HTML object>"
            ],
            "text/html": [
              "Run data is saved locally in <code>/content/wandb/run-20230521_210558-6qpf5tq9</code>"
            ]
          },
          "metadata": {}
        },
        {
          "output_type": "display_data",
          "data": {
            "text/plain": [
              "<IPython.core.display.HTML object>"
            ],
            "text/html": [
              "Syncing run <strong><a href='https://wandb.ai/mr-srezaei/miotcd/runs/6qpf5tq9' target=\"_blank\">swift-sweep-3</a></strong> to <a href='https://wandb.ai/mr-srezaei/miotcd' target=\"_blank\">Weights & Biases</a> (<a href='https://wandb.me/run' target=\"_blank\">docs</a>)<br/>Sweep page: <a href='https://wandb.ai/mr-srezaei/miotcd/sweeps/7zgqhsyq' target=\"_blank\">https://wandb.ai/mr-srezaei/miotcd/sweeps/7zgqhsyq</a>"
            ]
          },
          "metadata": {}
        },
        {
          "output_type": "display_data",
          "data": {
            "text/plain": [
              "<IPython.core.display.HTML object>"
            ],
            "text/html": [
              " View project at <a href='https://wandb.ai/mr-srezaei/miotcd' target=\"_blank\">https://wandb.ai/mr-srezaei/miotcd</a>"
            ]
          },
          "metadata": {}
        },
        {
          "output_type": "display_data",
          "data": {
            "text/plain": [
              "<IPython.core.display.HTML object>"
            ],
            "text/html": [
              " View sweep at <a href='https://wandb.ai/mr-srezaei/miotcd/sweeps/7zgqhsyq' target=\"_blank\">https://wandb.ai/mr-srezaei/miotcd/sweeps/7zgqhsyq</a>"
            ]
          },
          "metadata": {}
        },
        {
          "output_type": "display_data",
          "data": {
            "text/plain": [
              "<IPython.core.display.HTML object>"
            ],
            "text/html": [
              " View run at <a href='https://wandb.ai/mr-srezaei/miotcd/runs/6qpf5tq9' target=\"_blank\">https://wandb.ai/mr-srezaei/miotcd/runs/6qpf5tq9</a>"
            ]
          },
          "metadata": {}
        },
        {
          "output_type": "stream",
          "name": "stdout",
          "text": [
            "Epoch 1/10\n",
            "117/117 [==============================] - ETA: 0s - loss: 1.5452 - accuracy: 0.3141"
          ]
        },
        {
          "output_type": "stream",
          "name": "stderr",
          "text": [
            "WARNING:absl:Found untraced functions such as _jit_compiled_convolution_op, _jit_compiled_convolution_op, _jit_compiled_convolution_op while saving (showing 3 of 3). These functions will not be directly callable after loading.\n",
            "\u001b[34m\u001b[1mwandb\u001b[0m: Adding directory to artifact (/content/wandb/run-20230521_210558-6qpf5tq9/files/model-best)... Done. 3.7s\n"
          ]
        },
        {
          "output_type": "stream",
          "name": "stdout",
          "text": [
            "\b\b\b\b\b\b\b\b\b\b\b\b\b\b\b\b\b\b\b\b\b\b\b\b\b\b\b\b\b\b\b\b\b\b\b\b\b\b\b\b\b\b\b\b\b\b\b\b\b\b\b\b\b\b\b\b\b\b\b\b\b\b\b\b\b\b\b\b\b\b\b\b\b\b\b\b\b\b\b\b\b\b\b\b\r117/117 [==============================] - 72s 588ms/step - loss: 1.5452 - accuracy: 0.3141 - val_loss: 1.3889 - val_accuracy: 0.5853\n",
            "Epoch 2/10\n",
            "117/117 [==============================] - ETA: 0s - loss: 1.2785 - accuracy: 0.5172"
          ]
        },
        {
          "output_type": "stream",
          "name": "stderr",
          "text": [
            "WARNING:absl:Found untraced functions such as _jit_compiled_convolution_op, _jit_compiled_convolution_op, _jit_compiled_convolution_op while saving (showing 3 of 3). These functions will not be directly callable after loading.\n",
            "\u001b[34m\u001b[1mwandb\u001b[0m: Adding directory to artifact (/content/wandb/run-20230521_210558-6qpf5tq9/files/model-best)... Done. 1.7s\n"
          ]
        },
        {
          "output_type": "stream",
          "name": "stdout",
          "text": [
            "\b\b\b\b\b\b\b\b\b\b\b\b\b\b\b\b\b\b\b\b\b\b\b\b\b\b\b\b\b\b\b\b\b\b\b\b\b\b\b\b\b\b\b\b\b\b\b\b\b\b\b\b\b\b\b\b\b\b\b\b\b\b\b\b\b\b\b\b\b\b\b\b\b\b\b\b\b\b\b\b\b\b\b\b\r117/117 [==============================] - 74s 630ms/step - loss: 1.2785 - accuracy: 0.5172 - val_loss: 1.0914 - val_accuracy: 0.6102\n",
            "Epoch 3/10\n",
            "117/117 [==============================] - ETA: 0s - loss: 1.0983 - accuracy: 0.5887"
          ]
        },
        {
          "output_type": "stream",
          "name": "stderr",
          "text": [
            "WARNING:absl:Found untraced functions such as _jit_compiled_convolution_op, _jit_compiled_convolution_op, _jit_compiled_convolution_op while saving (showing 3 of 3). These functions will not be directly callable after loading.\n",
            "\u001b[34m\u001b[1mwandb\u001b[0m: Adding directory to artifact (/content/wandb/run-20230521_210558-6qpf5tq9/files/model-best)... Done. 1.9s\n"
          ]
        },
        {
          "output_type": "stream",
          "name": "stdout",
          "text": [
            "\b\b\b\b\b\b\b\b\b\b\b\b\b\b\b\b\b\b\b\b\b\b\b\b\b\b\b\b\b\b\b\b\b\b\b\b\b\b\b\b\b\b\b\b\b\b\b\b\b\b\b\b\b\b\b\b\b\b\b\b\b\b\b\b\b\b\b\b\b\b\b\b\b\b\b\b\b\b\b\b\b\b\b\b\r117/117 [==============================] - 61s 520ms/step - loss: 1.0983 - accuracy: 0.5887 - val_loss: 0.9626 - val_accuracy: 0.6675\n",
            "Epoch 4/10\n",
            "117/117 [==============================] - ETA: 0s - loss: 1.0072 - accuracy: 0.6296"
          ]
        },
        {
          "output_type": "stream",
          "name": "stderr",
          "text": [
            "WARNING:absl:Found untraced functions such as _jit_compiled_convolution_op, _jit_compiled_convolution_op, _jit_compiled_convolution_op while saving (showing 3 of 3). These functions will not be directly callable after loading.\n",
            "\u001b[34m\u001b[1mwandb\u001b[0m: Adding directory to artifact (/content/wandb/run-20230521_210558-6qpf5tq9/files/model-best)... Done. 2.3s\n"
          ]
        },
        {
          "output_type": "stream",
          "name": "stdout",
          "text": [
            "\b\b\b\b\b\b\b\b\b\b\b\b\b\b\b\b\b\b\b\b\b\b\b\b\b\b\b\b\b\b\b\b\b\b\b\b\b\b\b\b\b\b\b\b\b\b\b\b\b\b\b\b\b\b\b\b\b\b\b\b\b\b\b\b\b\b\b\b\b\b\b\b\b\b\b\b\b\b\b\b\b\b\b\b\r117/117 [==============================] - 63s 541ms/step - loss: 1.0072 - accuracy: 0.6296 - val_loss: 0.9125 - val_accuracy: 0.6707\n",
            "Epoch 5/10\n",
            "117/117 [==============================] - ETA: 0s - loss: 0.9463 - accuracy: 0.6497"
          ]
        },
        {
          "output_type": "stream",
          "name": "stderr",
          "text": [
            "WARNING:absl:Found untraced functions such as _jit_compiled_convolution_op, _jit_compiled_convolution_op, _jit_compiled_convolution_op while saving (showing 3 of 3). These functions will not be directly callable after loading.\n",
            "\u001b[34m\u001b[1mwandb\u001b[0m: Adding directory to artifact (/content/wandb/run-20230521_210558-6qpf5tq9/files/model-best)... Done. 4.4s\n"
          ]
        },
        {
          "output_type": "stream",
          "name": "stdout",
          "text": [
            "\b\b\b\b\b\b\b\b\b\b\b\b\b\b\b\b\b\b\b\b\b\b\b\b\b\b\b\b\b\b\b\b\b\b\b\b\b\b\b\b\b\b\b\b\b\b\b\b\b\b\b\b\b\b\b\b\b\b\b\b\b\b\b\b\b\b\b\b\b\b\b\b\b\b\b\b\b\b\b\b\b\b\b\b\r117/117 [==============================] - 79s 679ms/step - loss: 0.9463 - accuracy: 0.6497 - val_loss: 0.8700 - val_accuracy: 0.6921\n",
            "Epoch 6/10\n",
            "117/117 [==============================] - ETA: 0s - loss: 0.8953 - accuracy: 0.6733"
          ]
        },
        {
          "output_type": "stream",
          "name": "stderr",
          "text": [
            "WARNING:absl:Found untraced functions such as _jit_compiled_convolution_op, _jit_compiled_convolution_op, _jit_compiled_convolution_op while saving (showing 3 of 3). These functions will not be directly callable after loading.\n",
            "\u001b[34m\u001b[1mwandb\u001b[0m: Adding directory to artifact (/content/wandb/run-20230521_210558-6qpf5tq9/files/model-best)... Done. 2.0s\n"
          ]
        },
        {
          "output_type": "stream",
          "name": "stdout",
          "text": [
            "\b\b\b\b\b\b\b\b\b\b\b\b\b\b\b\b\b\b\b\b\b\b\b\b\b\b\b\b\b\b\b\b\b\b\b\b\b\b\b\b\b\b\b\b\b\b\b\b\b\b\b\b\b\b\b\b\b\b\b\b\b\b\b\b\b\b\b\b\b\b\b\b\b\b\b\b\b\b\b\b\b\b\b\b\r117/117 [==============================] - 73s 625ms/step - loss: 0.8953 - accuracy: 0.6733 - val_loss: 0.8355 - val_accuracy: 0.6969\n",
            "Epoch 7/10\n",
            "117/117 [==============================] - ETA: 0s - loss: 0.8615 - accuracy: 0.6823"
          ]
        },
        {
          "output_type": "stream",
          "name": "stderr",
          "text": [
            "WARNING:absl:Found untraced functions such as _jit_compiled_convolution_op, _jit_compiled_convolution_op, _jit_compiled_convolution_op while saving (showing 3 of 3). These functions will not be directly callable after loading.\n",
            "\u001b[34m\u001b[1mwandb\u001b[0m: Adding directory to artifact (/content/wandb/run-20230521_210558-6qpf5tq9/files/model-best)... Done. 1.7s\n"
          ]
        },
        {
          "output_type": "stream",
          "name": "stdout",
          "text": [
            "\b\b\b\b\b\b\b\b\b\b\b\b\b\b\b\b\b\b\b\b\b\b\b\b\b\b\b\b\b\b\b\b\b\b\b\b\b\b\b\b\b\b\b\b\b\b\b\b\b\b\b\b\b\b\b\b\b\b\b\b\b\b\b\b\b\b\b\b\b\b\b\b\b\b\b\b\b\b\b\b\b\b\b\b\r117/117 [==============================] - 68s 582ms/step - loss: 0.8615 - accuracy: 0.6823 - val_loss: 0.8085 - val_accuracy: 0.7131\n",
            "Epoch 8/10\n",
            "117/117 [==============================] - ETA: 0s - loss: 0.8312 - accuracy: 0.6972"
          ]
        },
        {
          "output_type": "stream",
          "name": "stderr",
          "text": [
            "WARNING:absl:Found untraced functions such as _jit_compiled_convolution_op, _jit_compiled_convolution_op, _jit_compiled_convolution_op while saving (showing 3 of 3). These functions will not be directly callable after loading.\n",
            "\u001b[34m\u001b[1mwandb\u001b[0m: Adding directory to artifact (/content/wandb/run-20230521_210558-6qpf5tq9/files/model-best)... Done. 5.7s\n"
          ]
        },
        {
          "output_type": "stream",
          "name": "stdout",
          "text": [
            "\b\b\b\b\b\b\b\b\b\b\b\b\b\b\b\b\b\b\b\b\b\b\b\b\b\b\b\b\b\b\b\b\b\b\b\b\b\b\b\b\b\b\b\b\b\b\b\b\b\b\b\b\b\b\b\b\b\b\b\b\b\b\b\b\b\b\b\b\b\b\b\b\b\b\b\b\b\b\b\b\b\b\b\b\r117/117 [==============================] - 76s 650ms/step - loss: 0.8312 - accuracy: 0.6972 - val_loss: 0.7864 - val_accuracy: 0.7196\n",
            "Epoch 9/10\n",
            "117/117 [==============================] - ETA: 0s - loss: 0.8053 - accuracy: 0.7096"
          ]
        },
        {
          "output_type": "stream",
          "name": "stderr",
          "text": [
            "WARNING:absl:Found untraced functions such as _jit_compiled_convolution_op, _jit_compiled_convolution_op, _jit_compiled_convolution_op while saving (showing 3 of 3). These functions will not be directly callable after loading.\n",
            "\u001b[34m\u001b[1mwandb\u001b[0m: Adding directory to artifact (/content/wandb/run-20230521_210558-6qpf5tq9/files/model-best)... Done. 6.8s\n"
          ]
        },
        {
          "output_type": "stream",
          "name": "stdout",
          "text": [
            "\b\b\b\b\b\b\b\b\b\b\b\b\b\b\b\b\b\b\b\b\b\b\b\b\b\b\b\b\b\b\b\b\b\b\b\b\b\b\b\b\b\b\b\b\b\b\b\b\b\b\b\b\b\b\b\b\b\b\b\b\b\b\b\b\b\b\b\b\b\b\b\b\b\b\b\b\b\b\b\b\b\b\b\b\r117/117 [==============================] - 78s 667ms/step - loss: 0.8053 - accuracy: 0.7096 - val_loss: 0.7709 - val_accuracy: 0.7306\n",
            "Epoch 10/10\n",
            "117/117 [==============================] - ETA: 0s - loss: 0.7830 - accuracy: 0.7137"
          ]
        },
        {
          "output_type": "stream",
          "name": "stderr",
          "text": [
            "WARNING:absl:Found untraced functions such as _jit_compiled_convolution_op, _jit_compiled_convolution_op, _jit_compiled_convolution_op while saving (showing 3 of 3). These functions will not be directly callable after loading.\n",
            "\u001b[34m\u001b[1mwandb\u001b[0m: Adding directory to artifact (/content/wandb/run-20230521_210558-6qpf5tq9/files/model-best)... Done. 1.7s\n"
          ]
        },
        {
          "output_type": "stream",
          "name": "stdout",
          "text": [
            "\b\b\b\b\b\b\b\b\b\b\b\b\b\b\b\b\b\b\b\b\b\b\b\b\b\b\b\b\b\b\b\b\b\b\b\b\b\b\b\b\b\b\b\b\b\b\b\b\b\b\b\b\b\b\b\b\b\b\b\b\b\b\b\b\b\b\b\b\b\b\b\b\b\b\b\b\b\b\b\b\b\b\b\b\r117/117 [==============================] - 62s 530ms/step - loss: 0.7830 - accuracy: 0.7137 - val_loss: 0.7590 - val_accuracy: 0.7344\n"
          ]
        },
        {
          "output_type": "display_data",
          "data": {
            "text/plain": [
              "<IPython.core.display.HTML object>"
            ],
            "text/html": [
              "Waiting for W&B process to finish... <strong style=\"color:green\">(success).</strong>"
            ]
          },
          "metadata": {}
        },
        {
          "output_type": "display_data",
          "data": {
            "text/plain": [
              "VBox(children=(Label(value='3300.153 MB of 3300.167 MB uploaded (0.205 MB deduped)\\r'), FloatProgress(value=0.…"
            ],
            "application/vnd.jupyter.widget-view+json": {
              "version_major": 2,
              "version_minor": 0,
              "model_id": "16e7eaf142c24de298ef72bb74da9521"
            }
          },
          "metadata": {}
        },
        {
          "output_type": "display_data",
          "data": {
            "text/plain": [
              "<IPython.core.display.HTML object>"
            ],
            "text/html": [
              "<style>\n",
              "    table.wandb td:nth-child(1) { padding: 0 10px; text-align: left ; width: auto;} td:nth-child(2) {text-align: left ; width: 100%}\n",
              "    .wandb-row { display: flex; flex-direction: row; flex-wrap: wrap; justify-content: flex-start; width: 100% }\n",
              "    .wandb-col { display: flex; flex-direction: column; flex-basis: 100%; flex: 1; padding: 10px; }\n",
              "    </style>\n",
              "<div class=\"wandb-row\"><div class=\"wandb-col\"><h3>Run history:</h3><br/><table class=\"wandb\"><tr><td>accuracy</td><td>▁▅▆▇▇▇▇███</td></tr><tr><td>epoch</td><td>▁▂▃▃▄▅▆▆▇█</td></tr><tr><td>loss</td><td>█▆▄▃▂▂▂▁▁▁</td></tr><tr><td>val_accuracy</td><td>▁▂▅▅▆▆▇▇██</td></tr><tr><td>val_loss</td><td>█▅▃▃▂▂▂▁▁▁</td></tr></table><br/></div><div class=\"wandb-col\"><h3>Run summary:</h3><br/><table class=\"wandb\"><tr><td>accuracy</td><td>0.71366</td></tr><tr><td>best_epoch</td><td>9</td></tr><tr><td>best_val_loss</td><td>0.75898</td></tr><tr><td>epoch</td><td>9</td></tr><tr><td>loss</td><td>0.78304</td></tr><tr><td>val_accuracy</td><td>0.73438</td></tr></table><br/></div></div>"
            ]
          },
          "metadata": {}
        },
        {
          "output_type": "display_data",
          "data": {
            "text/plain": [
              "<IPython.core.display.HTML object>"
            ],
            "text/html": [
              " View run <strong style=\"color:#cdcd00\">swift-sweep-3</strong> at: <a href='https://wandb.ai/mr-srezaei/miotcd/runs/6qpf5tq9' target=\"_blank\">https://wandb.ai/mr-srezaei/miotcd/runs/6qpf5tq9</a><br/>Synced 5 W&B file(s), 1 media file(s), 50 artifact file(s) and 1 other file(s)"
            ]
          },
          "metadata": {}
        },
        {
          "output_type": "display_data",
          "data": {
            "text/plain": [
              "<IPython.core.display.HTML object>"
            ],
            "text/html": [
              "Find logs at: <code>./wandb/run-20230521_210558-6qpf5tq9/logs</code>"
            ]
          },
          "metadata": {}
        },
        {
          "output_type": "stream",
          "name": "stderr",
          "text": [
            "\u001b[34m\u001b[1mwandb\u001b[0m: Sweep Agent: Waiting for job.\n",
            "\u001b[34m\u001b[1mwandb\u001b[0m: Sweep Agent: Exiting.\n"
          ]
        }
      ]
    },
    {
      "cell_type": "markdown",
      "source": [
        "# Evaluating Files\n",
        "in the code snippets below we save our evaluating scores into csv file"
      ],
      "metadata": {
        "id": "A2TkENIEpvmF"
      }
    },
    {
      "cell_type": "code",
      "source": [
        "!pip install wandb"
      ],
      "metadata": {
        "id": "ZRXxqU-rp-Aq"
      },
      "execution_count": null,
      "outputs": []
    },
    {
      "cell_type": "code",
      "source": [
        "import wandb\n",
        "import tensorflow as tf\n",
        "wandb.login()\n",
        "\n",
        "run = wandb.init()\n",
        "artifact = run.use_artifact('mr-srezaei/miotcd/model-zesty-sweep-1:v4', type='model')\n",
        "artifact_dir = artifact.download()\n",
        "\n",
        "best_model = tf.keras.models.load_model(artifact_dir)"
      ],
      "metadata": {
        "colab": {
          "base_uri": "https://localhost:8080/",
          "height": 281
        },
        "id": "ZMUPIfjx8nvc",
        "outputId": "b4b589f2-6e94-4fa7-cbfa-b70293323125"
      },
      "execution_count": null,
      "outputs": [
        {
          "output_type": "stream",
          "name": "stderr",
          "text": [
            "\u001b[34m\u001b[1mwandb\u001b[0m: \u001b[33mWARNING\u001b[0m Calling wandb.login() after wandb.init() has no effect.\n"
          ]
        },
        {
          "output_type": "display_data",
          "data": {
            "text/plain": [
              "<IPython.core.display.HTML object>"
            ],
            "text/html": [
              "Finishing last run (ID:y0kkc9qc) before initializing another..."
            ]
          },
          "metadata": {}
        },
        {
          "output_type": "display_data",
          "data": {
            "text/plain": [
              "<IPython.core.display.HTML object>"
            ],
            "text/html": [
              "Waiting for W&B process to finish... <strong style=\"color:green\">(success).</strong>"
            ]
          },
          "metadata": {}
        },
        {
          "output_type": "display_data",
          "data": {
            "text/plain": [
              "<IPython.core.display.HTML object>"
            ],
            "text/html": [
              " View run <strong style=\"color:#cdcd00\">visionary-glade-2</strong> at: <a href='https://wandb.ai/mr-srezaei/uncategorized/runs/y0kkc9qc' target=\"_blank\">https://wandb.ai/mr-srezaei/uncategorized/runs/y0kkc9qc</a><br/>Synced 5 W&B file(s), 0 media file(s), 0 artifact file(s) and 0 other file(s)"
            ]
          },
          "metadata": {}
        },
        {
          "output_type": "display_data",
          "data": {
            "text/plain": [
              "<IPython.core.display.HTML object>"
            ],
            "text/html": [
              "Find logs at: <code>./wandb/run-20230523_172915-y0kkc9qc/logs</code>"
            ]
          },
          "metadata": {}
        },
        {
          "output_type": "display_data",
          "data": {
            "text/plain": [
              "<IPython.core.display.HTML object>"
            ],
            "text/html": [
              "Successfully finished last run (ID:y0kkc9qc). Initializing new run:<br/>"
            ]
          },
          "metadata": {}
        },
        {
          "output_type": "display_data",
          "data": {
            "text/plain": [
              "<IPython.core.display.HTML object>"
            ],
            "text/html": [
              "Tracking run with wandb version 0.15.3"
            ]
          },
          "metadata": {}
        },
        {
          "output_type": "display_data",
          "data": {
            "text/plain": [
              "<IPython.core.display.HTML object>"
            ],
            "text/html": [
              "Run data is saved locally in <code>/content/wandb/run-20230523_184413-lesfzdnf</code>"
            ]
          },
          "metadata": {}
        },
        {
          "output_type": "display_data",
          "data": {
            "text/plain": [
              "<IPython.core.display.HTML object>"
            ],
            "text/html": [
              "Syncing run <strong><a href='https://wandb.ai/mr-srezaei/uncategorized/runs/lesfzdnf' target=\"_blank\">vital-plasma-2</a></strong> to <a href='https://wandb.ai/mr-srezaei/uncategorized' target=\"_blank\">Weights & Biases</a> (<a href='https://wandb.me/run' target=\"_blank\">docs</a>)<br/>"
            ]
          },
          "metadata": {}
        },
        {
          "output_type": "display_data",
          "data": {
            "text/plain": [
              "<IPython.core.display.HTML object>"
            ],
            "text/html": [
              " View project at <a href='https://wandb.ai/mr-srezaei/uncategorized' target=\"_blank\">https://wandb.ai/mr-srezaei/uncategorized</a>"
            ]
          },
          "metadata": {}
        },
        {
          "output_type": "display_data",
          "data": {
            "text/plain": [
              "<IPython.core.display.HTML object>"
            ],
            "text/html": [
              " View run at <a href='https://wandb.ai/mr-srezaei/uncategorized/runs/lesfzdnf' target=\"_blank\">https://wandb.ai/mr-srezaei/uncategorized/runs/lesfzdnf</a>"
            ]
          },
          "metadata": {}
        },
        {
          "output_type": "stream",
          "name": "stderr",
          "text": [
            "\u001b[34m\u001b[1mwandb\u001b[0m: Downloading large artifact model-zesty-sweep-1:v4, 300.03MB. 5 files... \n",
            "\u001b[34m\u001b[1mwandb\u001b[0m:   5 of 5 files downloaded.  \n",
            "Done. 0:0:1.8\n"
          ]
        }
      ]
    },
    {
      "cell_type": "code",
      "source": [
        "from os import listdir\n",
        "from os.path import isfile, join, splitext\n",
        "from tqdm import tqdm\n",
        "import numpy as np\n",
        "import csv\n",
        "import pandas as pd\n",
        "\n",
        "# Define your classes\n",
        "classes = ['articulated_truck', 'bus', 'car', 'work_van', 'background']\n",
        "\n",
        "def load_and_preprocess_image(image_path):\n",
        "    # Read image from file\n",
        "    image = tf.io.read_file(image_path)\n",
        "    \n",
        "    # Decode image and convert to desired format\n",
        "    image = tf.image.decode_image(image, channels=3)\n",
        "    \n",
        "    # Resize the image to (128, 128)\n",
        "    image = tf.image.resize(image, [128, 128])\n",
        "    \n",
        "    # Rescale the pixel values to the range [0, 1]\n",
        "    image = image / 255.0\n",
        "    \n",
        "    return image\n",
        "\n",
        "def classify_image(path_to_image):\n",
        "\n",
        "    # Load the image and preprocess it if needed\n",
        "    image = load_and_preprocess_image(path_to_image)\n",
        "\n",
        "    # Make predictions using your trained model\n",
        "    predictions = best_model.predict(np.array([image]))  # Assuming 'model' is your trained model\n",
        "\n",
        "    # Get the predicted label\n",
        "    label_index = np.argmax(predictions[0])\n",
        "    label = classes[label_index]\n",
        "\n",
        "    return label\n",
        "\n",
        "def parse_dataset(path_to_dataset):\n",
        "    '''\n",
        "    Parse every image contained in 'path_to_dataset' (a path to the training\n",
        "    or testing set), classify each image and save in a csv file the resulting\n",
        "    assignment\n",
        "\n",
        "    dataset_result: dict structure returned by the function.  It contains the\n",
        "            label of each image\n",
        "    '''\n",
        "    llist = listdir(path_to_dataset)\n",
        "    dataset_result = {}\n",
        "\n",
        "    for name in tqdm(llist):\n",
        "        dn = join(path_to_dataset, name)\n",
        "        if isfile(dn):\n",
        "            label = classify_image(dn)\n",
        "            file_nb, file_ext = splitext(name)\n",
        "            dataset_result[file_nb] = label\n",
        "\n",
        "        else:\n",
        "            file_list = listdir(dn)\n",
        "            for file_name in file_list:\n",
        "                file_name_with_path = join(dn, file_name)\n",
        "                label = classify_image(file_name_with_path)\n",
        "                file_nb, file_ext = splitext(file_name)\n",
        "                if file_nb in dataset_result.keys():\n",
        "                    print('error! ', file_nb, dataset_result[file_nb], ' vs ', file_name_with_path)\n",
        "                dataset_result[file_nb] = label\n",
        "\n",
        "    return dataset_result\n",
        "\n",
        "def save_classification_result(dataset_result, output_csv_file_name):\n",
        "    '''\n",
        "    save the dataset_result (a dict structure containing the class of every image)\n",
        "    into a valid csv file.\n",
        "    '''\n",
        "\n",
        "    with open(output_csv_file_name, 'w', newline='') as csvfile:\n",
        "        fieldnames = ['file_name', 'class_label']\n",
        "        writer = csv.DictWriter(csvfile, fieldnames=fieldnames)\n",
        "        writer.writeheader()\n",
        "\n",
        "        for file_name, class_label in dataset_result.items():\n",
        "            file_name_without_zeros = file_name.lstrip('0')\n",
        "            writer.writerow({'file_name': file_name_without_zeros, 'class_label': class_label})\n",
        "\n",
        "    csvfile.close()\n",
        "\n",
        "if __name__ == '__main__':\n",
        "    # Specify the path to the test dataset and the output CSV file name\n",
        "    path_to_test_dataset = '/content/sample_data/miotcd/HW02-Practical/Dataset/test'  # Replace with your actual path\n",
        "    output_csv_file_name = 'your_results_test.csv'  # Replace with your desired output file name\n",
        "\n",
        "    dataset_result = parse_dataset(path_to_test_dataset)\n",
        "    save_classification_result(dataset_result, output_csv_file_name)"
      ],
      "metadata": {
        "id": "sokt7-DTF4XU"
      },
      "execution_count": null,
      "outputs": []
    },
    {
      "cell_type": "code",
      "source": [
        "import csv\n",
        "from sklearn.metrics import confusion_matrix, cohen_kappa_score, precision_score, recall_score, f1_score\n",
        "import numpy as np\n",
        "\n",
        "def compute_metric(result, gt, classes):\n",
        "    y_true = []\n",
        "    y_pred = []\n",
        "\n",
        "\n",
        "    for img in gt.keys():\n",
        "        if img not in result:\n",
        "            raise ValueError(f\"Image '{img}' missing in the result data.\")\n",
        "        \n",
        "        y_true.append(gt[img])\n",
        "        y_pred.append(result[img])\n",
        "\n",
        "    cm = confusion_matrix(y_true, y_pred, labels=classes)\n",
        "    cks = cohen_kappa_score(y_true, y_pred, labels=classes)\n",
        "    ps = precision_score(y_true, y_pred, average=None)\n",
        "    rs = recall_score(y_true, y_pred, average=None)\n",
        "    fs = f1_score(y_true, y_pred, average=None)\n",
        "\n",
        "    metrics = {}\n",
        "    metrics['confusion matrix'] = cm\n",
        "    metrics['cohen kappa score'] = cks\n",
        "    metrics['precision score'] = ps\n",
        "    metrics['recall score'] = rs\n",
        "    metrics['f1 score'] = fs\n",
        "    metrics['mean recall'] = np.mean(rs)\n",
        "    metrics['mean precision'] = np.mean(ps)\n",
        "    metrics['accuracy'] = np.diagonal(cm).sum() / float(len(y_true))\n",
        "    return metrics\n",
        "\n",
        "def csv_evaluation(gt_file, res_file, classes):\n",
        "    gt = {}\n",
        "    with open(gt_file, 'r') as csv_file:\n",
        "        reader = csv.reader(csv_file, delimiter=',')\n",
        "        for row in reader:\n",
        "            gt[row[0]] = row[1]\n",
        "\n",
        "\n",
        "    results = {}\n",
        "    with open(res_file, 'r') as csv_file:\n",
        "        reader = csv.reader(csv_file, delimiter=',')\n",
        "        for row in reader:\n",
        "            results[row[0]] = row[1]\n",
        "\n",
        "\n",
        "    metrics = compute_metric(results, gt, classes)\n",
        "    return metrics\n",
        "\n",
        "if __name__ == '__main__':\n",
        "    gt_file = '/content/drive/MyDrive/Colab Notebooks/HW-2/gt_test.csv'\n",
        "    res_file = '/content/drive/MyDrive/Colab Notebooks/HW-2/your_results_test.csv'\n",
        "    classes = ['articulated_truck', 'bus', 'car', 'work_van', 'background']  # Provide the list of classes\n",
        "\n",
        "    print('Computing score between', gt_file, 'and', res_file, '\\n')\n",
        "    metrics = csv_evaluation(gt_file, res_file, classes)\n",
        "\n",
        "    for key in metrics.keys():\n",
        "        print(key + ':')\n",
        "        print(metrics[key])\n",
        "        print('\\n')\n"
      ],
      "metadata": {
        "id": "D7F-lmnYF4JB",
        "colab": {
          "base_uri": "https://localhost:8080/"
        },
        "outputId": "6f55b5da-24d9-4f2c-c3a3-530bb57413c0"
      },
      "execution_count": null,
      "outputs": [
        {
          "output_type": "stream",
          "name": "stdout",
          "text": [
            "Computing score between /content/drive/MyDrive/Colab Notebooks/HW-2/gt_test.csv and /content/drive/MyDrive/Colab Notebooks/HW-2/your_results_test.csv \n",
            "\n",
            "confusion matrix:\n",
            "[[875  46  28  18  33]\n",
            " [ 40   9 913   9  29]\n",
            " [ 53  20  33 738 156]\n",
            " [ 51  61  36  63 789]\n",
            " [ 10 977   2   7   4]]\n",
            "\n",
            "\n",
            "cohen kappa score:\n",
            "-0.0040000000000000036\n",
            "\n",
            "\n",
            "precision score:\n",
            "[0.85034014 0.00395648 0.00808625 0.0326087  0.0754491 ]\n",
            "\n",
            "\n",
            "recall score:\n",
            "[0.875 0.004 0.009 0.033 0.063]\n",
            "\n",
            "\n",
            "f1 score:\n",
            "[0.86249384 0.00397812 0.00851869 0.03280318 0.06866485]\n",
            "\n",
            "\n",
            "mean recall:\n",
            "0.1968\n",
            "\n",
            "\n",
            "mean precision:\n",
            "0.19408813312124037\n",
            "\n",
            "\n",
            "accuracy:\n",
            "0.1968\n",
            "\n",
            "\n"
          ]
        }
      ]
    },
    {
      "cell_type": "markdown",
      "source": [
        "# <font color='red'># Part 2</font>"
      ],
      "metadata": {
        "id": "oH6PtGBL32He"
      }
    },
    {
      "cell_type": "markdown",
      "source": [
        "# Tranfer learning Optimize using Bayesian"
      ],
      "metadata": {
        "id": "A4WLFMQb-nO1"
      }
    },
    {
      "cell_type": "markdown",
      "source": [
        "in this phase we use `resnet18` to create a <font color = 'blue'>transfer learning</font> model and train it with our `MIO-TCD` dataset.then tune the `learning rate` hyper parameter using `wandb` library by `random search` method."
      ],
      "metadata": {
        "id": "PXtoKlYw4FrS"
      }
    },
    {
      "cell_type": "code",
      "source": [
        "import torch\n",
        "import torch.nn as nn\n",
        "import torch.optim as optim\n",
        "from torch.utils.data import DataLoader\n",
        "from torchvision import datasets, models, transforms\n",
        "import time"
      ],
      "metadata": {
        "id": "Ewh0Nwj6360p"
      },
      "execution_count": null,
      "outputs": []
    },
    {
      "cell_type": "code",
      "source": [
        "import wandb\n",
        "\n",
        "wandb.login()"
      ],
      "metadata": {
        "colab": {
          "base_uri": "https://localhost:8080/",
          "height": 121
        },
        "id": "OEQKmiEqyyEs",
        "outputId": "308d26d5-26b7-48a9-d3f9-d7536e04622b"
      },
      "execution_count": null,
      "outputs": [
        {
          "output_type": "display_data",
          "data": {
            "text/plain": [
              "<IPython.core.display.Javascript object>"
            ],
            "application/javascript": [
              "\n",
              "        window._wandbApiKey = new Promise((resolve, reject) => {\n",
              "            function loadScript(url) {\n",
              "            return new Promise(function(resolve, reject) {\n",
              "                let newScript = document.createElement(\"script\");\n",
              "                newScript.onerror = reject;\n",
              "                newScript.onload = resolve;\n",
              "                document.body.appendChild(newScript);\n",
              "                newScript.src = url;\n",
              "            });\n",
              "            }\n",
              "            loadScript(\"https://cdn.jsdelivr.net/npm/postmate/build/postmate.min.js\").then(() => {\n",
              "            const iframe = document.createElement('iframe')\n",
              "            iframe.style.cssText = \"width:0;height:0;border:none\"\n",
              "            document.body.appendChild(iframe)\n",
              "            const handshake = new Postmate({\n",
              "                container: iframe,\n",
              "                url: 'https://wandb.ai/authorize'\n",
              "            });\n",
              "            const timeout = setTimeout(() => reject(\"Couldn't auto authenticate\"), 5000)\n",
              "            handshake.then(function(child) {\n",
              "                child.on('authorize', data => {\n",
              "                    clearTimeout(timeout)\n",
              "                    resolve(data)\n",
              "                });\n",
              "            });\n",
              "            })\n",
              "        });\n",
              "    "
            ]
          },
          "metadata": {}
        },
        {
          "output_type": "stream",
          "name": "stderr",
          "text": [
            "\u001b[34m\u001b[1mwandb\u001b[0m: Logging into wandb.ai. (Learn how to deploy a W&B server locally: https://wandb.me/wandb-server)\n",
            "\u001b[34m\u001b[1mwandb\u001b[0m: You can find your API key in your browser here: https://wandb.ai/authorize\n",
            "wandb: Paste an API key from your profile and hit enter, or press ctrl+c to quit:"
          ]
        },
        {
          "name": "stdout",
          "output_type": "stream",
          "text": [
            " ··········\n"
          ]
        },
        {
          "output_type": "stream",
          "name": "stderr",
          "text": [
            "\u001b[34m\u001b[1mwandb\u001b[0m: Appending key for api.wandb.ai to your netrc file: /root/.netrc\n"
          ]
        },
        {
          "output_type": "execute_result",
          "data": {
            "text/plain": [
              "True"
            ]
          },
          "metadata": {},
          "execution_count": 5
        }
      ]
    },
    {
      "cell_type": "code",
      "source": [
        "sweep_configuration = {\n",
        "    'method': 'bayes',\n",
        "    'name': 'sweep',\n",
        "    'metric': {\n",
        "        'goal': 'minimize', \n",
        "        'name': 'validation_loss'\n",
        "        },\n",
        "    'parameters': {\n",
        "        'lr': {'values': [1e-3, 1e-4, 1e-5]}\n",
        "     }\n",
        "}\n",
        "\n",
        "sweep_id = wandb.sweep(sweep_configuration, project='transfer')"
      ],
      "metadata": {
        "colab": {
          "base_uri": "https://localhost:8080/"
        },
        "id": "QTcdhR2sy1lz",
        "outputId": "28aec0cd-a551-43d5-b758-c95584b90f92"
      },
      "execution_count": null,
      "outputs": [
        {
          "output_type": "stream",
          "name": "stdout",
          "text": [
            "Create sweep with ID: yoabtqx9\n",
            "Sweep URL: https://wandb.ai/mr-srezaei/transfer/sweeps/yoabtqx9\n"
          ]
        }
      ]
    },
    {
      "cell_type": "code",
      "source": [
        "# Define the data transformations for training and validation sets\n",
        "data_transforms = {\n",
        "    'train': transforms.Compose([\n",
        "        transforms.RandomResizedCrop(128), # Randomly crop the image to size 128x128\n",
        "        transforms.RandomHorizontalFlip(), # Randomly flip the image horizontally\n",
        "        transforms.ToTensor(),  # Convert the image to a tensor\n",
        "        transforms.Normalize([0.485, 0.456, 0.406], [0.229, 0.224, 0.225])\n",
        "    ]),\n",
        "    'val': transforms.Compose([\n",
        "        transforms.Resize((128, 128)),  # Resize the image to 128x128\n",
        "        transforms.ToTensor(), # Convert the image to a tensor\n",
        "        transforms.Normalize([0.485, 0.456, 0.406], [0.229, 0.224, 0.225]) # Normalize the image with mean and standard deviation\n",
        "    ]),\n",
        "    'test': transforms.Compose([\n",
        "        transforms.Resize((128, 128)),  # Resize the image to 128x128\n",
        "        transforms.ToTensor(), # Convert the image to a tensor\n",
        "        transforms.Normalize([0.485, 0.456, 0.406], [0.229, 0.224, 0.225]) # Normalize the image with mean and standard deviation\n",
        "    ]),\n",
        "}"
      ],
      "metadata": {
        "id": "EuEHAYC94rQE"
      },
      "execution_count": null,
      "outputs": []
    },
    {
      "cell_type": "code",
      "source": [
        "# Set the directory paths for the dataset\n",
        "data_dir = '/content/sample_data/miotcd/HW02-Practical/Dataset'\n",
        "train_dir = data_dir + '/train'\n",
        "val_dir = data_dir + '/valid'\n",
        "test_dir = data_dir + '/test'"
      ],
      "metadata": {
        "id": "f6gcpTm_5ADY"
      },
      "execution_count": null,
      "outputs": []
    },
    {
      "cell_type": "code",
      "source": [
        "# Load the training and validation datasets using ImageFolder\n",
        "train_data = datasets.ImageFolder(train_dir, transform=data_transforms['train'])\n",
        "val_data = datasets.ImageFolder(val_dir, transform=data_transforms['val'])\n",
        "test_data= datasets.ImageFolder(test_dir, transform=data_transforms['test'])\n",
        "\n",
        "# Create data loaders for training and validation\n",
        "train_loader = DataLoader(train_data, batch_size=256, shuffle=True, num_workers=2)\n",
        "val_loader = DataLoader(val_data, batch_size=128, num_workers=2)\n",
        "test_loader = DataLoader(test_data, batch_size=128, num_workers=2)\n",
        "\n",
        "# Define the device for training (GPU if available, otherwise CPU)\n",
        "device = torch.device(\"cuda:0\" if torch.cuda.is_available() else \"cpu\")"
      ],
      "metadata": {
        "id": "Io1B-jQV5FrK"
      },
      "execution_count": null,
      "outputs": []
    },
    {
      "cell_type": "code",
      "source": [
        "print('Train dataset size:', len(train_data))\n",
        "print('valid dataset size:', len(val_data))\n",
        "print('test dataset size:', len(test_data))\n",
        "class_names = train_data.classes\n",
        "print('Class names:', class_names)"
      ],
      "metadata": {
        "colab": {
          "base_uri": "https://localhost:8080/"
        },
        "id": "oRv23tzv-e1n",
        "outputId": "c1a3cfea-fde4-43a6-a13e-f7780c531d2f"
      },
      "execution_count": null,
      "outputs": [
        {
          "output_type": "stream",
          "name": "stdout",
          "text": [
            "Train dataset size: 15000\n",
            "valid dataset size: 5000\n",
            "test dataset size: 5000\n",
            "Class names: ['articulated_truck', 'background', 'bus', 'car', 'work_van']\n"
          ]
        }
      ]
    },
    {
      "cell_type": "code",
      "source": [
        "# Load the pre-trained ResNet-18 model\n",
        "model = models.resnet18(pretrained=True)\n",
        "\n",
        "# Freeze the parameters of the pre-trained model\n",
        "for param in model.parameters():\n",
        "    param.requires_grad = False\n",
        "\n",
        "# Get the number of input features for the last fully connected layer\n",
        "num_features = model.fc.in_features\n",
        "\n",
        "# Replace the last fully connected layer with a new one (output size 5)\n",
        "model.fc = nn.Linear(num_features, 5)\n",
        "\n",
        "# Transfer the model to the device\n",
        "model = model.to(device)\n",
        "\n",
        "# Define the loss function\n",
        "criterion = nn.CrossEntropyLoss()"
      ],
      "metadata": {
        "id": "63eDxFss5RLh",
        "colab": {
          "base_uri": "https://localhost:8080/"
        },
        "outputId": "029b974a-2f69-43e9-edff-009b95c26115"
      },
      "execution_count": null,
      "outputs": [
        {
          "output_type": "stream",
          "name": "stderr",
          "text": [
            "/usr/local/lib/python3.10/dist-packages/torchvision/models/_utils.py:208: UserWarning: The parameter 'pretrained' is deprecated since 0.13 and may be removed in the future, please use 'weights' instead.\n",
            "  warnings.warn(\n",
            "/usr/local/lib/python3.10/dist-packages/torchvision/models/_utils.py:223: UserWarning: Arguments other than a weight enum or `None` for 'weights' are deprecated since 0.13 and may be removed in the future. The current behavior is equivalent to passing `weights=ResNet18_Weights.IMAGENET1K_V1`. You can also use `weights=ResNet18_Weights.DEFAULT` to get the most up-to-date weights.\n",
            "  warnings.warn(msg)\n",
            "Downloading: \"https://download.pytorch.org/models/resnet18-f37072fd.pth\" to /root/.cache/torch/hub/checkpoints/resnet18-f37072fd.pth\n",
            "100%|██████████| 44.7M/44.7M [00:00<00:00, 379MB/s]\n"
          ]
        }
      ]
    },
    {
      "cell_type": "code",
      "source": [
        "def train_model(config=None):\n",
        "    with wandb.init(config=config):\n",
        "        # Update the optimizer with the new learning rate\n",
        "        optimizer = optim.SGD(model.fc.parameters(), lr=wandb.config.lr, momentum=0.9)\n",
        "\n",
        "        # Rest of your training and evaluation code here\n",
        "        num_epochs = 10\n",
        "        start_time = time.time()\n",
        "        for epoch in range(num_epochs):\n",
        "            print(f\"Epoch {epoch+1}/{num_epochs}\")\n",
        "            print('-' * 10)\n",
        "\n",
        "            # Training phase\n",
        "            model.train()\n",
        "            running_loss = 0.0\n",
        "\n",
        "            for inputs, labels in train_loader:\n",
        "                inputs = inputs.to(device)\n",
        "                labels = labels.to(device)\n",
        "\n",
        "                optimizer.zero_grad()\n",
        "\n",
        "                # Forward pass\n",
        "                outputs = model(inputs)\n",
        "                loss = criterion(outputs, labels)\n",
        "\n",
        "                # Backward pass and optimization\n",
        "                loss.backward()\n",
        "                optimizer.step()\n",
        "\n",
        "                running_loss += loss.item()\n",
        "\n",
        "            # Validation phase\n",
        "            model.eval()\n",
        "            val_loss = 0.0\n",
        "            correct_preds = 0\n",
        "\n",
        "            with torch.no_grad():\n",
        "                for inputs, labels in val_loader:\n",
        "                    inputs = inputs.to(device)\n",
        "                    labels = labels.to(device)\n",
        "\n",
        "                    # Forward pass\n",
        "                    outputs = model(inputs)\n",
        "                    loss = criterion(outputs, labels)\n",
        "                    val_loss += loss.item()\n",
        "\n",
        "                    # Calculate the number of correct predictions\n",
        "                    _, preds = torch.max(outputs, 1)\n",
        "                    correct_preds += torch.sum(preds == labels.data)\n",
        "\n",
        "            epoch_loss = running_loss / len(train_loader)\n",
        "            epoch_val_loss = val_loss / len(val_loader)\n",
        "            epoch_acc = correct_preds / len(val_loader.dataset)\n",
        "\n",
        "            print('[Test #{}] Loss: {:.4f} Acc: {:.4f}% Time: {:.4f}s'.\n",
        "            format(epoch, epoch_loss, epoch_acc, time.time() - start_time))\n",
        "            # Log the learning rate, accuracy, and loss to wandb\n",
        "            wandb.log({'learning_rate': wandb.config.lr, 'accuracy': epoch_acc, 'loss': epoch_val_loss})\n",
        "\n",
        "    return epoch_acc\n"
      ],
      "metadata": {
        "id": "xYDOYnop5ddI"
      },
      "execution_count": null,
      "outputs": []
    },
    {
      "cell_type": "code",
      "source": [
        "wandb.agent(sweep_id, train_model, count=5)"
      ],
      "metadata": {
        "colab": {
          "base_uri": "https://localhost:8080/",
          "height": 1000,
          "referenced_widgets": [
            "f6d8c04db4804fb3a9c8cfe0c7a42fb5",
            "06637f43f8d644a59357c3003893ccca",
            "17c9816ee1c0484a8370cbb12e341479",
            "b3dadb2d66b649dcb087dabaa5852b1a",
            "87f45cb23d5a4108944731a102b06c5e",
            "355b80d8e783431fa641c91538825646",
            "c660a6f72b0b4b15aa65a2a13da078a1",
            "6faed737e52d49f7b86c99d4a769d32d",
            "302e935261f5437fbc40b5ce8c78087c",
            "fe3da5e5149c462a99fc531f1640288c",
            "86faad36536743028244debad6438975",
            "6303f379d9f943218da97417430ad13e",
            "b83860649e354f7eac782ee94f23ae88",
            "9872f69a144c481c8e2ed659b1691b58",
            "f6588ccdc1bf46359e16a9b2bbe302ac",
            "a9d7bc2cf3a44e93a328899988cc7281",
            "94b737a9ced84a2581e0ef718175ec35",
            "859ef28efe9f4c8b80c595d2cef02aab",
            "4865f61492c9441696b2ee89d44731e6",
            "6d8f95fcb3904dcdad6944fc10f3781e",
            "36a052297ca44de68977b3ce98e28f24",
            "f4a6630e6a7d47ea91365f76a24ae5b6",
            "02df1027693d49d0b2e07ca236331ff6",
            "b88d9060967a4ffd97a137067398c690"
          ]
        },
        "id": "GmySFSVv1KC1",
        "outputId": "1156ac45-5db6-48e2-81c5-6e804c09c3d0"
      },
      "execution_count": null,
      "outputs": [
        {
          "output_type": "stream",
          "name": "stderr",
          "text": [
            "\u001b[34m\u001b[1mwandb\u001b[0m: Agent Starting Run: jwgxacad with config:\n",
            "\u001b[34m\u001b[1mwandb\u001b[0m: \tlr: 0.001\n",
            "\u001b[34m\u001b[1mwandb\u001b[0m: Currently logged in as: \u001b[33mmr-srezaei\u001b[0m. Use \u001b[1m`wandb login --relogin`\u001b[0m to force relogin\n"
          ]
        },
        {
          "output_type": "display_data",
          "data": {
            "text/plain": [
              "VBox(children=(Label(value='Waiting for wandb.init()...\\r'), FloatProgress(value=0.016668456916666703, max=1.0…"
            ],
            "application/vnd.jupyter.widget-view+json": {
              "version_major": 2,
              "version_minor": 0,
              "model_id": "f6d8c04db4804fb3a9c8cfe0c7a42fb5"
            }
          },
          "metadata": {}
        },
        {
          "output_type": "display_data",
          "data": {
            "text/plain": [
              "<IPython.core.display.HTML object>"
            ],
            "text/html": [
              "Tracking run with wandb version 0.15.3"
            ]
          },
          "metadata": {}
        },
        {
          "output_type": "display_data",
          "data": {
            "text/plain": [
              "<IPython.core.display.HTML object>"
            ],
            "text/html": [
              "Run data is saved locally in <code>/content/wandb/run-20230522_173630-jwgxacad</code>"
            ]
          },
          "metadata": {}
        },
        {
          "output_type": "display_data",
          "data": {
            "text/plain": [
              "<IPython.core.display.HTML object>"
            ],
            "text/html": [
              "Syncing run <strong><a href='https://wandb.ai/mr-srezaei/transfer/runs/jwgxacad' target=\"_blank\">northern-sweep-1</a></strong> to <a href='https://wandb.ai/mr-srezaei/transfer' target=\"_blank\">Weights & Biases</a> (<a href='https://wandb.me/run' target=\"_blank\">docs</a>)<br/>Sweep page: <a href='https://wandb.ai/mr-srezaei/transfer/sweeps/yoabtqx9' target=\"_blank\">https://wandb.ai/mr-srezaei/transfer/sweeps/yoabtqx9</a>"
            ]
          },
          "metadata": {}
        },
        {
          "output_type": "display_data",
          "data": {
            "text/plain": [
              "<IPython.core.display.HTML object>"
            ],
            "text/html": [
              " View project at <a href='https://wandb.ai/mr-srezaei/transfer' target=\"_blank\">https://wandb.ai/mr-srezaei/transfer</a>"
            ]
          },
          "metadata": {}
        },
        {
          "output_type": "display_data",
          "data": {
            "text/plain": [
              "<IPython.core.display.HTML object>"
            ],
            "text/html": [
              " View sweep at <a href='https://wandb.ai/mr-srezaei/transfer/sweeps/yoabtqx9' target=\"_blank\">https://wandb.ai/mr-srezaei/transfer/sweeps/yoabtqx9</a>"
            ]
          },
          "metadata": {}
        },
        {
          "output_type": "display_data",
          "data": {
            "text/plain": [
              "<IPython.core.display.HTML object>"
            ],
            "text/html": [
              " View run at <a href='https://wandb.ai/mr-srezaei/transfer/runs/jwgxacad' target=\"_blank\">https://wandb.ai/mr-srezaei/transfer/runs/jwgxacad</a>"
            ]
          },
          "metadata": {}
        },
        {
          "output_type": "stream",
          "name": "stdout",
          "text": [
            "Epoch 1/10\n",
            "----------\n",
            "[Test #0] Loss: 1.3640 Acc: 0.5420% Time: 40.7712s\n",
            "Epoch 2/10\n",
            "----------\n",
            "[Test #1] Loss: 1.0427 Acc: 0.5964% Time: 75.4045s\n",
            "Epoch 3/10\n",
            "----------\n",
            "[Test #2] Loss: 0.9500 Acc: 0.6150% Time: 111.1750s\n",
            "Epoch 4/10\n",
            "----------\n",
            "[Test #3] Loss: 0.9167 Acc: 0.6322% Time: 144.9554s\n",
            "Epoch 5/10\n",
            "----------\n",
            "[Test #4] Loss: 0.8841 Acc: 0.6402% Time: 178.5167s\n",
            "Epoch 6/10\n",
            "----------\n",
            "[Test #5] Loss: 0.8696 Acc: 0.6514% Time: 212.3480s\n",
            "Epoch 7/10\n",
            "----------\n",
            "[Test #6] Loss: 0.8503 Acc: 0.6552% Time: 248.2128s\n",
            "Epoch 8/10\n",
            "----------\n",
            "[Test #7] Loss: 0.8344 Acc: 0.6572% Time: 284.1937s\n",
            "Epoch 9/10\n",
            "----------\n",
            "[Test #8] Loss: 0.8209 Acc: 0.6520% Time: 318.1512s\n",
            "Epoch 10/10\n",
            "----------\n",
            "[Test #9] Loss: 0.8171 Acc: 0.6606% Time: 354.7124s\n"
          ]
        },
        {
          "output_type": "display_data",
          "data": {
            "text/plain": [
              "<IPython.core.display.HTML object>"
            ],
            "text/html": [
              "Waiting for W&B process to finish... <strong style=\"color:green\">(success).</strong>"
            ]
          },
          "metadata": {}
        },
        {
          "output_type": "display_data",
          "data": {
            "text/plain": [
              "<IPython.core.display.HTML object>"
            ],
            "text/html": [
              "<style>\n",
              "    table.wandb td:nth-child(1) { padding: 0 10px; text-align: left ; width: auto;} td:nth-child(2) {text-align: left ; width: 100%}\n",
              "    .wandb-row { display: flex; flex-direction: row; flex-wrap: wrap; justify-content: flex-start; width: 100% }\n",
              "    .wandb-col { display: flex; flex-direction: column; flex-basis: 100%; flex: 1; padding: 10px; }\n",
              "    </style>\n",
              "<div class=\"wandb-row\"><div class=\"wandb-col\"><h3>Run history:</h3><br/><table class=\"wandb\"><tr><td>accuracy</td><td>▁▄▅▆▇▇██▇█</td></tr><tr><td>learning_rate</td><td>▁▁▁▁▁▁▁▁▁▁</td></tr><tr><td>loss</td><td>█▅▃▃▂▂▂▁▁▁</td></tr></table><br/></div><div class=\"wandb-col\"><h3>Run summary:</h3><br/><table class=\"wandb\"><tr><td>accuracy</td><td>0.6606</td></tr><tr><td>learning_rate</td><td>0.001</td></tr><tr><td>loss</td><td>0.88675</td></tr></table><br/></div></div>"
            ]
          },
          "metadata": {}
        },
        {
          "output_type": "display_data",
          "data": {
            "text/plain": [
              "<IPython.core.display.HTML object>"
            ],
            "text/html": [
              " View run <strong style=\"color:#cdcd00\">northern-sweep-1</strong> at: <a href='https://wandb.ai/mr-srezaei/transfer/runs/jwgxacad' target=\"_blank\">https://wandb.ai/mr-srezaei/transfer/runs/jwgxacad</a><br/>Synced 5 W&B file(s), 0 media file(s), 0 artifact file(s) and 0 other file(s)"
            ]
          },
          "metadata": {}
        },
        {
          "output_type": "display_data",
          "data": {
            "text/plain": [
              "<IPython.core.display.HTML object>"
            ],
            "text/html": [
              "Find logs at: <code>./wandb/run-20230522_173630-jwgxacad/logs</code>"
            ]
          },
          "metadata": {}
        },
        {
          "output_type": "stream",
          "name": "stderr",
          "text": [
            "\u001b[34m\u001b[1mwandb\u001b[0m: Sweep Agent: Waiting for job.\n",
            "\u001b[34m\u001b[1mwandb\u001b[0m: Job received.\n",
            "\u001b[34m\u001b[1mwandb\u001b[0m: Agent Starting Run: 2gq95nov with config:\n",
            "\u001b[34m\u001b[1mwandb\u001b[0m: \tlr: 0.0001\n"
          ]
        },
        {
          "output_type": "display_data",
          "data": {
            "text/plain": [
              "<IPython.core.display.HTML object>"
            ],
            "text/html": [
              "Tracking run with wandb version 0.15.3"
            ]
          },
          "metadata": {}
        },
        {
          "output_type": "display_data",
          "data": {
            "text/plain": [
              "<IPython.core.display.HTML object>"
            ],
            "text/html": [
              "Run data is saved locally in <code>/content/wandb/run-20230522_174302-2gq95nov</code>"
            ]
          },
          "metadata": {}
        },
        {
          "output_type": "display_data",
          "data": {
            "text/plain": [
              "<IPython.core.display.HTML object>"
            ],
            "text/html": [
              "Syncing run <strong><a href='https://wandb.ai/mr-srezaei/transfer/runs/2gq95nov' target=\"_blank\">bumbling-sweep-2</a></strong> to <a href='https://wandb.ai/mr-srezaei/transfer' target=\"_blank\">Weights & Biases</a> (<a href='https://wandb.me/run' target=\"_blank\">docs</a>)<br/>Sweep page: <a href='https://wandb.ai/mr-srezaei/transfer/sweeps/yoabtqx9' target=\"_blank\">https://wandb.ai/mr-srezaei/transfer/sweeps/yoabtqx9</a>"
            ]
          },
          "metadata": {}
        },
        {
          "output_type": "display_data",
          "data": {
            "text/plain": [
              "<IPython.core.display.HTML object>"
            ],
            "text/html": [
              " View project at <a href='https://wandb.ai/mr-srezaei/transfer' target=\"_blank\">https://wandb.ai/mr-srezaei/transfer</a>"
            ]
          },
          "metadata": {}
        },
        {
          "output_type": "display_data",
          "data": {
            "text/plain": [
              "<IPython.core.display.HTML object>"
            ],
            "text/html": [
              " View sweep at <a href='https://wandb.ai/mr-srezaei/transfer/sweeps/yoabtqx9' target=\"_blank\">https://wandb.ai/mr-srezaei/transfer/sweeps/yoabtqx9</a>"
            ]
          },
          "metadata": {}
        },
        {
          "output_type": "display_data",
          "data": {
            "text/plain": [
              "<IPython.core.display.HTML object>"
            ],
            "text/html": [
              " View run at <a href='https://wandb.ai/mr-srezaei/transfer/runs/2gq95nov' target=\"_blank\">https://wandb.ai/mr-srezaei/transfer/runs/2gq95nov</a>"
            ]
          },
          "metadata": {}
        },
        {
          "output_type": "stream",
          "name": "stdout",
          "text": [
            "Epoch 1/10\n",
            "----------\n",
            "[Test #0] Loss: 0.8132 Acc: 0.6634% Time: 36.2410s\n",
            "Epoch 2/10\n",
            "----------\n",
            "[Test #1] Loss: 0.8195 Acc: 0.6618% Time: 69.8526s\n",
            "Epoch 3/10\n",
            "----------\n",
            "[Test #2] Loss: 0.8184 Acc: 0.6650% Time: 103.8597s\n",
            "Epoch 4/10\n",
            "----------\n",
            "[Test #3] Loss: 0.8086 Acc: 0.6654% Time: 142.2045s\n",
            "Epoch 5/10\n",
            "----------\n",
            "[Test #4] Loss: 0.8040 Acc: 0.6652% Time: 176.1389s\n",
            "Epoch 6/10\n",
            "----------\n",
            "[Test #5] Loss: 0.8187 Acc: 0.6652% Time: 210.3880s\n",
            "Epoch 7/10\n",
            "----------\n",
            "[Test #6] Loss: 0.7999 Acc: 0.6624% Time: 245.3717s\n",
            "Epoch 8/10\n",
            "----------\n",
            "[Test #7] Loss: 0.8130 Acc: 0.6652% Time: 280.1540s\n",
            "Epoch 9/10\n",
            "----------\n",
            "[Test #8] Loss: 0.8018 Acc: 0.6664% Time: 314.4616s\n",
            "Epoch 10/10\n",
            "----------\n",
            "[Test #9] Loss: 0.8070 Acc: 0.6660% Time: 349.0051s\n"
          ]
        },
        {
          "output_type": "display_data",
          "data": {
            "text/plain": [
              "<IPython.core.display.HTML object>"
            ],
            "text/html": [
              "Waiting for W&B process to finish... <strong style=\"color:green\">(success).</strong>"
            ]
          },
          "metadata": {}
        },
        {
          "output_type": "display_data",
          "data": {
            "text/plain": [
              "VBox(children=(Label(value='0.001 MB of 0.001 MB uploaded (0.000 MB deduped)\\r'), FloatProgress(value=1.0, max…"
            ],
            "application/vnd.jupyter.widget-view+json": {
              "version_major": 2,
              "version_minor": 0,
              "model_id": "302e935261f5437fbc40b5ce8c78087c"
            }
          },
          "metadata": {}
        },
        {
          "output_type": "display_data",
          "data": {
            "text/plain": [
              "<IPython.core.display.HTML object>"
            ],
            "text/html": [
              "<style>\n",
              "    table.wandb td:nth-child(1) { padding: 0 10px; text-align: left ; width: auto;} td:nth-child(2) {text-align: left ; width: 100%}\n",
              "    .wandb-row { display: flex; flex-direction: row; flex-wrap: wrap; justify-content: flex-start; width: 100% }\n",
              "    .wandb-col { display: flex; flex-direction: column; flex-basis: 100%; flex: 1; padding: 10px; }\n",
              "    </style>\n",
              "<div class=\"wandb-row\"><div class=\"wandb-col\"><h3>Run history:</h3><br/><table class=\"wandb\"><tr><td>accuracy</td><td>▃▁▆▆▆▆▂▆█▇</td></tr><tr><td>learning_rate</td><td>▁▁▁▁▁▁▁▁▁▁</td></tr><tr><td>loss</td><td>▆▅▂▃▂▃█▃▁▂</td></tr></table><br/></div><div class=\"wandb-col\"><h3>Run summary:</h3><br/><table class=\"wandb\"><tr><td>accuracy</td><td>0.666</td></tr><tr><td>learning_rate</td><td>0.0001</td></tr><tr><td>loss</td><td>0.87568</td></tr></table><br/></div></div>"
            ]
          },
          "metadata": {}
        },
        {
          "output_type": "display_data",
          "data": {
            "text/plain": [
              "<IPython.core.display.HTML object>"
            ],
            "text/html": [
              " View run <strong style=\"color:#cdcd00\">bumbling-sweep-2</strong> at: <a href='https://wandb.ai/mr-srezaei/transfer/runs/2gq95nov' target=\"_blank\">https://wandb.ai/mr-srezaei/transfer/runs/2gq95nov</a><br/>Synced 5 W&B file(s), 0 media file(s), 0 artifact file(s) and 0 other file(s)"
            ]
          },
          "metadata": {}
        },
        {
          "output_type": "display_data",
          "data": {
            "text/plain": [
              "<IPython.core.display.HTML object>"
            ],
            "text/html": [
              "Find logs at: <code>./wandb/run-20230522_174302-2gq95nov/logs</code>"
            ]
          },
          "metadata": {}
        },
        {
          "output_type": "stream",
          "name": "stderr",
          "text": [
            "\u001b[34m\u001b[1mwandb\u001b[0m: Agent Starting Run: 3ark5nrs with config:\n",
            "\u001b[34m\u001b[1mwandb\u001b[0m: \tlr: 0.0001\n"
          ]
        },
        {
          "output_type": "display_data",
          "data": {
            "text/plain": [
              "<IPython.core.display.HTML object>"
            ],
            "text/html": [
              "Tracking run with wandb version 0.15.3"
            ]
          },
          "metadata": {}
        },
        {
          "output_type": "display_data",
          "data": {
            "text/plain": [
              "<IPython.core.display.HTML object>"
            ],
            "text/html": [
              "Run data is saved locally in <code>/content/wandb/run-20230522_174911-3ark5nrs</code>"
            ]
          },
          "metadata": {}
        },
        {
          "output_type": "display_data",
          "data": {
            "text/plain": [
              "<IPython.core.display.HTML object>"
            ],
            "text/html": [
              "Syncing run <strong><a href='https://wandb.ai/mr-srezaei/transfer/runs/3ark5nrs' target=\"_blank\">ruby-sweep-3</a></strong> to <a href='https://wandb.ai/mr-srezaei/transfer' target=\"_blank\">Weights & Biases</a> (<a href='https://wandb.me/run' target=\"_blank\">docs</a>)<br/>Sweep page: <a href='https://wandb.ai/mr-srezaei/transfer/sweeps/yoabtqx9' target=\"_blank\">https://wandb.ai/mr-srezaei/transfer/sweeps/yoabtqx9</a>"
            ]
          },
          "metadata": {}
        },
        {
          "output_type": "display_data",
          "data": {
            "text/plain": [
              "<IPython.core.display.HTML object>"
            ],
            "text/html": [
              " View project at <a href='https://wandb.ai/mr-srezaei/transfer' target=\"_blank\">https://wandb.ai/mr-srezaei/transfer</a>"
            ]
          },
          "metadata": {}
        },
        {
          "output_type": "display_data",
          "data": {
            "text/plain": [
              "<IPython.core.display.HTML object>"
            ],
            "text/html": [
              " View sweep at <a href='https://wandb.ai/mr-srezaei/transfer/sweeps/yoabtqx9' target=\"_blank\">https://wandb.ai/mr-srezaei/transfer/sweeps/yoabtqx9</a>"
            ]
          },
          "metadata": {}
        },
        {
          "output_type": "display_data",
          "data": {
            "text/plain": [
              "<IPython.core.display.HTML object>"
            ],
            "text/html": [
              " View run at <a href='https://wandb.ai/mr-srezaei/transfer/runs/3ark5nrs' target=\"_blank\">https://wandb.ai/mr-srezaei/transfer/runs/3ark5nrs</a>"
            ]
          },
          "metadata": {}
        },
        {
          "output_type": "stream",
          "name": "stdout",
          "text": [
            "Epoch 1/10\n",
            "----------\n",
            "[Test #0] Loss: 0.8052 Acc: 0.6662% Time: 36.3905s\n",
            "Epoch 2/10\n",
            "----------\n",
            "[Test #1] Loss: 0.7974 Acc: 0.6656% Time: 72.1323s\n",
            "Epoch 3/10\n",
            "----------\n",
            "[Test #2] Loss: 0.8051 Acc: 0.6650% Time: 107.2112s\n",
            "Epoch 4/10\n",
            "----------\n",
            "[Test #3] Loss: 0.8118 Acc: 0.6638% Time: 141.5506s\n",
            "Epoch 5/10\n",
            "----------\n",
            "[Test #4] Loss: 0.8039 Acc: 0.6684% Time: 177.1074s\n",
            "Epoch 6/10\n",
            "----------\n",
            "[Test #5] Loss: 0.8016 Acc: 0.6674% Time: 212.2513s\n",
            "Epoch 7/10\n",
            "----------\n",
            "[Test #6] Loss: 0.8017 Acc: 0.6660% Time: 246.3060s\n",
            "Epoch 8/10\n",
            "----------\n",
            "[Test #7] Loss: 0.8075 Acc: 0.6662% Time: 280.3745s\n",
            "Epoch 9/10\n",
            "----------\n",
            "[Test #8] Loss: 0.7983 Acc: 0.6678% Time: 318.5867s\n",
            "Epoch 10/10\n",
            "----------\n",
            "[Test #9] Loss: 0.7897 Acc: 0.6684% Time: 352.7271s\n"
          ]
        },
        {
          "output_type": "display_data",
          "data": {
            "text/plain": [
              "<IPython.core.display.HTML object>"
            ],
            "text/html": [
              "Waiting for W&B process to finish... <strong style=\"color:green\">(success).</strong>"
            ]
          },
          "metadata": {}
        },
        {
          "output_type": "display_data",
          "data": {
            "text/plain": [
              "VBox(children=(Label(value='0.001 MB of 0.001 MB uploaded (0.000 MB deduped)\\r'), FloatProgress(value=1.0, max…"
            ],
            "application/vnd.jupyter.widget-view+json": {
              "version_major": 2,
              "version_minor": 0,
              "model_id": "94b737a9ced84a2581e0ef718175ec35"
            }
          },
          "metadata": {}
        },
        {
          "output_type": "display_data",
          "data": {
            "text/plain": [
              "<IPython.core.display.HTML object>"
            ],
            "text/html": [
              "<style>\n",
              "    table.wandb td:nth-child(1) { padding: 0 10px; text-align: left ; width: auto;} td:nth-child(2) {text-align: left ; width: 100%}\n",
              "    .wandb-row { display: flex; flex-direction: row; flex-wrap: wrap; justify-content: flex-start; width: 100% }\n",
              "    .wandb-col { display: flex; flex-direction: column; flex-basis: 100%; flex: 1; padding: 10px; }\n",
              "    </style>\n",
              "<div class=\"wandb-row\"><div class=\"wandb-col\"><h3>Run history:</h3><br/><table class=\"wandb\"><tr><td>accuracy</td><td>▅▄▃▁█▆▄▅▇█</td></tr><tr><td>learning_rate</td><td>▁▁▁▁▁▁▁▁▁▁</td></tr><tr><td>loss</td><td>▄▅▅█▁▁▆█▁▂</td></tr></table><br/></div><div class=\"wandb-col\"><h3>Run summary:</h3><br/><table class=\"wandb\"><tr><td>accuracy</td><td>0.6684</td></tr><tr><td>learning_rate</td><td>0.0001</td></tr><tr><td>loss</td><td>0.87142</td></tr></table><br/></div></div>"
            ]
          },
          "metadata": {}
        },
        {
          "output_type": "display_data",
          "data": {
            "text/plain": [
              "<IPython.core.display.HTML object>"
            ],
            "text/html": [
              " View run <strong style=\"color:#cdcd00\">ruby-sweep-3</strong> at: <a href='https://wandb.ai/mr-srezaei/transfer/runs/3ark5nrs' target=\"_blank\">https://wandb.ai/mr-srezaei/transfer/runs/3ark5nrs</a><br/>Synced 5 W&B file(s), 0 media file(s), 0 artifact file(s) and 0 other file(s)"
            ]
          },
          "metadata": {}
        },
        {
          "output_type": "display_data",
          "data": {
            "text/plain": [
              "<IPython.core.display.HTML object>"
            ],
            "text/html": [
              "Find logs at: <code>./wandb/run-20230522_174911-3ark5nrs/logs</code>"
            ]
          },
          "metadata": {}
        },
        {
          "output_type": "stream",
          "name": "stderr",
          "text": [
            "\u001b[34m\u001b[1mwandb\u001b[0m: Agent Starting Run: 7gleed1k with config:\n",
            "\u001b[34m\u001b[1mwandb\u001b[0m: \tlr: 1e-05\n"
          ]
        },
        {
          "output_type": "display_data",
          "data": {
            "text/plain": [
              "<IPython.core.display.HTML object>"
            ],
            "text/html": [
              "Tracking run with wandb version 0.15.3"
            ]
          },
          "metadata": {}
        },
        {
          "output_type": "display_data",
          "data": {
            "text/plain": [
              "<IPython.core.display.HTML object>"
            ],
            "text/html": [
              "Run data is saved locally in <code>/content/wandb/run-20230522_175522-7gleed1k</code>"
            ]
          },
          "metadata": {}
        },
        {
          "output_type": "display_data",
          "data": {
            "text/plain": [
              "<IPython.core.display.HTML object>"
            ],
            "text/html": [
              "Syncing run <strong><a href='https://wandb.ai/mr-srezaei/transfer/runs/7gleed1k' target=\"_blank\">golden-sweep-4</a></strong> to <a href='https://wandb.ai/mr-srezaei/transfer' target=\"_blank\">Weights & Biases</a> (<a href='https://wandb.me/run' target=\"_blank\">docs</a>)<br/>Sweep page: <a href='https://wandb.ai/mr-srezaei/transfer/sweeps/yoabtqx9' target=\"_blank\">https://wandb.ai/mr-srezaei/transfer/sweeps/yoabtqx9</a>"
            ]
          },
          "metadata": {}
        },
        {
          "output_type": "display_data",
          "data": {
            "text/plain": [
              "<IPython.core.display.HTML object>"
            ],
            "text/html": [
              " View project at <a href='https://wandb.ai/mr-srezaei/transfer' target=\"_blank\">https://wandb.ai/mr-srezaei/transfer</a>"
            ]
          },
          "metadata": {}
        },
        {
          "output_type": "display_data",
          "data": {
            "text/plain": [
              "<IPython.core.display.HTML object>"
            ],
            "text/html": [
              " View sweep at <a href='https://wandb.ai/mr-srezaei/transfer/sweeps/yoabtqx9' target=\"_blank\">https://wandb.ai/mr-srezaei/transfer/sweeps/yoabtqx9</a>"
            ]
          },
          "metadata": {}
        },
        {
          "output_type": "display_data",
          "data": {
            "text/plain": [
              "<IPython.core.display.HTML object>"
            ],
            "text/html": [
              " View run at <a href='https://wandb.ai/mr-srezaei/transfer/runs/7gleed1k' target=\"_blank\">https://wandb.ai/mr-srezaei/transfer/runs/7gleed1k</a>"
            ]
          },
          "metadata": {}
        },
        {
          "output_type": "stream",
          "name": "stdout",
          "text": [
            "Epoch 1/10\n",
            "----------\n",
            "[Test #0] Loss: 0.7994 Acc: 0.6648% Time: 34.4647s\n",
            "Epoch 2/10\n",
            "----------\n",
            "[Test #1] Loss: 0.8096 Acc: 0.6678% Time: 68.1198s\n",
            "Epoch 3/10\n",
            "----------\n",
            "[Test #2] Loss: 0.7983 Acc: 0.6670% Time: 102.5780s\n",
            "Epoch 4/10\n",
            "----------\n",
            "[Test #3] Loss: 0.8072 Acc: 0.6686% Time: 138.5713s\n",
            "Epoch 5/10\n",
            "----------\n",
            "[Test #4] Loss: 0.7968 Acc: 0.6666% Time: 174.2570s\n",
            "Epoch 6/10\n",
            "----------\n",
            "[Test #5] Loss: 0.8036 Acc: 0.6688% Time: 210.0101s\n",
            "Epoch 7/10\n",
            "----------\n",
            "[Test #6] Loss: 0.8032 Acc: 0.6672% Time: 244.6618s\n",
            "Epoch 8/10\n",
            "----------\n",
            "[Test #7] Loss: 0.8000 Acc: 0.6680% Time: 278.1309s\n",
            "Epoch 9/10\n",
            "----------\n",
            "[Test #8] Loss: 0.7974 Acc: 0.6664% Time: 312.0390s\n",
            "Epoch 10/10\n",
            "----------\n",
            "[Test #9] Loss: 0.7999 Acc: 0.6676% Time: 348.6500s\n"
          ]
        },
        {
          "output_type": "display_data",
          "data": {
            "text/plain": [
              "<IPython.core.display.HTML object>"
            ],
            "text/html": [
              "Waiting for W&B process to finish... <strong style=\"color:green\">(success).</strong>"
            ]
          },
          "metadata": {}
        },
        {
          "output_type": "display_data",
          "data": {
            "text/plain": [
              "<IPython.core.display.HTML object>"
            ],
            "text/html": [
              "<style>\n",
              "    table.wandb td:nth-child(1) { padding: 0 10px; text-align: left ; width: auto;} td:nth-child(2) {text-align: left ; width: 100%}\n",
              "    .wandb-row { display: flex; flex-direction: row; flex-wrap: wrap; justify-content: flex-start; width: 100% }\n",
              "    .wandb-col { display: flex; flex-direction: column; flex-basis: 100%; flex: 1; padding: 10px; }\n",
              "    </style>\n",
              "<div class=\"wandb-row\"><div class=\"wandb-col\"><h3>Run history:</h3><br/><table class=\"wandb\"><tr><td>accuracy</td><td>▁▆▅█▄█▅▇▄▆</td></tr><tr><td>learning_rate</td><td>▁▁▁▁▁▁▁▁▁▁</td></tr><tr><td>loss</td><td>█▇▃▂▅▄▅▅▃▁</td></tr></table><br/></div><div class=\"wandb-col\"><h3>Run summary:</h3><br/><table class=\"wandb\"><tr><td>accuracy</td><td>0.6676</td></tr><tr><td>learning_rate</td><td>1e-05</td></tr><tr><td>loss</td><td>0.86823</td></tr></table><br/></div></div>"
            ]
          },
          "metadata": {}
        },
        {
          "output_type": "display_data",
          "data": {
            "text/plain": [
              "<IPython.core.display.HTML object>"
            ],
            "text/html": [
              " View run <strong style=\"color:#cdcd00\">golden-sweep-4</strong> at: <a href='https://wandb.ai/mr-srezaei/transfer/runs/7gleed1k' target=\"_blank\">https://wandb.ai/mr-srezaei/transfer/runs/7gleed1k</a><br/>Synced 5 W&B file(s), 0 media file(s), 0 artifact file(s) and 0 other file(s)"
            ]
          },
          "metadata": {}
        },
        {
          "output_type": "display_data",
          "data": {
            "text/plain": [
              "<IPython.core.display.HTML object>"
            ],
            "text/html": [
              "Find logs at: <code>./wandb/run-20230522_175522-7gleed1k/logs</code>"
            ]
          },
          "metadata": {}
        },
        {
          "output_type": "stream",
          "name": "stderr",
          "text": [
            "\u001b[34m\u001b[1mwandb\u001b[0m: Sweep Agent: Waiting for job.\n",
            "\u001b[34m\u001b[1mwandb\u001b[0m: Job received.\n",
            "\u001b[34m\u001b[1mwandb\u001b[0m: Agent Starting Run: wm9b88cp with config:\n",
            "\u001b[34m\u001b[1mwandb\u001b[0m: \tlr: 0.0001\n"
          ]
        },
        {
          "output_type": "display_data",
          "data": {
            "text/plain": [
              "<IPython.core.display.HTML object>"
            ],
            "text/html": [
              "Tracking run with wandb version 0.15.3"
            ]
          },
          "metadata": {}
        },
        {
          "output_type": "display_data",
          "data": {
            "text/plain": [
              "<IPython.core.display.HTML object>"
            ],
            "text/html": [
              "Run data is saved locally in <code>/content/wandb/run-20230522_180136-wm9b88cp</code>"
            ]
          },
          "metadata": {}
        },
        {
          "output_type": "display_data",
          "data": {
            "text/plain": [
              "<IPython.core.display.HTML object>"
            ],
            "text/html": [
              "Syncing run <strong><a href='https://wandb.ai/mr-srezaei/transfer/runs/wm9b88cp' target=\"_blank\">different-sweep-5</a></strong> to <a href='https://wandb.ai/mr-srezaei/transfer' target=\"_blank\">Weights & Biases</a> (<a href='https://wandb.me/run' target=\"_blank\">docs</a>)<br/>Sweep page: <a href='https://wandb.ai/mr-srezaei/transfer/sweeps/yoabtqx9' target=\"_blank\">https://wandb.ai/mr-srezaei/transfer/sweeps/yoabtqx9</a>"
            ]
          },
          "metadata": {}
        },
        {
          "output_type": "display_data",
          "data": {
            "text/plain": [
              "<IPython.core.display.HTML object>"
            ],
            "text/html": [
              " View project at <a href='https://wandb.ai/mr-srezaei/transfer' target=\"_blank\">https://wandb.ai/mr-srezaei/transfer</a>"
            ]
          },
          "metadata": {}
        },
        {
          "output_type": "display_data",
          "data": {
            "text/plain": [
              "<IPython.core.display.HTML object>"
            ],
            "text/html": [
              " View sweep at <a href='https://wandb.ai/mr-srezaei/transfer/sweeps/yoabtqx9' target=\"_blank\">https://wandb.ai/mr-srezaei/transfer/sweeps/yoabtqx9</a>"
            ]
          },
          "metadata": {}
        },
        {
          "output_type": "display_data",
          "data": {
            "text/plain": [
              "<IPython.core.display.HTML object>"
            ],
            "text/html": [
              " View run at <a href='https://wandb.ai/mr-srezaei/transfer/runs/wm9b88cp' target=\"_blank\">https://wandb.ai/mr-srezaei/transfer/runs/wm9b88cp</a>"
            ]
          },
          "metadata": {}
        },
        {
          "output_type": "stream",
          "name": "stdout",
          "text": [
            "Epoch 1/10\n",
            "----------\n",
            "[Test #0] Loss: 0.7996 Acc: 0.6706% Time: 33.8878s\n",
            "Epoch 2/10\n",
            "----------\n",
            "[Test #1] Loss: 0.7959 Acc: 0.6672% Time: 69.8209s\n",
            "Epoch 3/10\n",
            "----------\n",
            "[Test #2] Loss: 0.8047 Acc: 0.6678% Time: 103.4074s\n",
            "Epoch 4/10\n",
            "----------\n",
            "[Test #3] Loss: 0.7888 Acc: 0.6688% Time: 139.4800s\n",
            "Epoch 5/10\n",
            "----------\n",
            "[Test #4] Loss: 0.7953 Acc: 0.6666% Time: 173.3399s\n",
            "Epoch 6/10\n",
            "----------\n",
            "[Test #5] Loss: 0.8018 Acc: 0.6698% Time: 207.4189s\n",
            "Epoch 7/10\n",
            "----------\n",
            "[Test #6] Loss: 0.8011 Acc: 0.6680% Time: 242.3962s\n",
            "Epoch 8/10\n",
            "----------\n",
            "[Test #7] Loss: 0.7978 Acc: 0.6704% Time: 277.3398s\n",
            "Epoch 9/10\n",
            "----------\n",
            "[Test #8] Loss: 0.7978 Acc: 0.6676% Time: 311.9802s\n",
            "Epoch 10/10\n",
            "----------\n",
            "[Test #9] Loss: 0.7886 Acc: 0.6688% Time: 348.3799s\n"
          ]
        },
        {
          "output_type": "display_data",
          "data": {
            "text/plain": [
              "<IPython.core.display.HTML object>"
            ],
            "text/html": [
              "Waiting for W&B process to finish... <strong style=\"color:green\">(success).</strong>"
            ]
          },
          "metadata": {}
        },
        {
          "output_type": "display_data",
          "data": {
            "text/plain": [
              "<IPython.core.display.HTML object>"
            ],
            "text/html": [
              "<style>\n",
              "    table.wandb td:nth-child(1) { padding: 0 10px; text-align: left ; width: auto;} td:nth-child(2) {text-align: left ; width: 100%}\n",
              "    .wandb-row { display: flex; flex-direction: row; flex-wrap: wrap; justify-content: flex-start; width: 100% }\n",
              "    .wandb-col { display: flex; flex-direction: column; flex-basis: 100%; flex: 1; padding: 10px; }\n",
              "    </style>\n",
              "<div class=\"wandb-row\"><div class=\"wandb-col\"><h3>Run history:</h3><br/><table class=\"wandb\"><tr><td>accuracy</td><td>█▂▃▅▁▇▃█▃▅</td></tr><tr><td>learning_rate</td><td>▁▁▁▁▁▁▁▁▁▁</td></tr><tr><td>loss</td><td>▁█▇▃▆▄▅▃▄▅</td></tr></table><br/></div><div class=\"wandb-col\"><h3>Run summary:</h3><br/><table class=\"wandb\"><tr><td>accuracy</td><td>0.6688</td></tr><tr><td>learning_rate</td><td>0.0001</td></tr><tr><td>loss</td><td>0.86873</td></tr></table><br/></div></div>"
            ]
          },
          "metadata": {}
        },
        {
          "output_type": "display_data",
          "data": {
            "text/plain": [
              "<IPython.core.display.HTML object>"
            ],
            "text/html": [
              " View run <strong style=\"color:#cdcd00\">different-sweep-5</strong> at: <a href='https://wandb.ai/mr-srezaei/transfer/runs/wm9b88cp' target=\"_blank\">https://wandb.ai/mr-srezaei/transfer/runs/wm9b88cp</a><br/>Synced 5 W&B file(s), 0 media file(s), 0 artifact file(s) and 0 other file(s)"
            ]
          },
          "metadata": {}
        },
        {
          "output_type": "display_data",
          "data": {
            "text/plain": [
              "<IPython.core.display.HTML object>"
            ],
            "text/html": [
              "Find logs at: <code>./wandb/run-20230522_180136-wm9b88cp/logs</code>"
            ]
          },
          "metadata": {}
        }
      ]
    },
    {
      "cell_type": "markdown",
      "source": [
        "# Fine Tuning and feature extraction"
      ],
      "metadata": {
        "id": "QpKdws56-xSz"
      }
    },
    {
      "cell_type": "markdown",
      "source": [
        "**now we want to measure the accuracy of our model in `fine tuning` process.to do this, first we Update the model to allow fine-tuning ,then Adjust the optimizer to include all model parameters and finally Run the training and evaluation loop as before.**"
      ],
      "metadata": {
        "id": "CFfVN5abQDCG"
      }
    },
    {
      "cell_type": "code",
      "source": [
        "# Step 1: Retrieve logged data\n",
        "api = wandb.Api()\n",
        "runs = api.run(\"mr-srezaei/transfer/wm9b88cp\")\n",
        "\n",
        "if not runs:\n",
        "    print(\"No runs found for the specified project and sweep ID.\")\n",
        "    # Handle this case accordingly\n",
        "\n",
        "\n",
        "# Step 3: Find the best run based on validation loss\n",
        "best_val_loss = float('inf')\n",
        "best_run = None\n",
        "\n",
        "run_data = run.history()\n",
        "Learning_rate = run_data.get('learning_rate')\n",
        "print(run_data)"
      ],
      "metadata": {
        "colab": {
          "base_uri": "https://localhost:8080/"
        },
        "id": "xIXgLnr1rIdR",
        "outputId": "7f196d03-90a0-4288-bc9a-e48729232ff5"
      },
      "execution_count": null,
      "outputs": [
        {
          "output_type": "stream",
          "name": "stdout",
          "text": [
            "   learning_rate      loss  _step    _runtime  accuracy    _timestamp\n",
            "0         0.0001  0.864110      0   37.230424    0.6706  1.684779e+09\n",
            "1         0.0001  0.871815      1   73.163257    0.6672  1.684779e+09\n",
            "2         0.0001  0.870255      2  106.749423    0.6678  1.684779e+09\n",
            "3         0.0001  0.865855      3  142.822438    0.6688  1.684779e+09\n",
            "4         0.0001  0.870150      4  176.681074    0.6666  1.684779e+09\n",
            "5         0.0001  0.867737      5  210.760478    0.6698  1.684779e+09\n",
            "6         0.0001  0.868457      6  245.738348    0.6680  1.684779e+09\n",
            "7         0.0001  0.866489      7  280.682201    0.6704  1.684779e+09\n",
            "8         0.0001  0.867560      8  315.321597    0.6676  1.684779e+09\n",
            "9         0.0001  0.868729      9  351.721238    0.6688  1.684779e+09\n"
          ]
        }
      ]
    },
    {
      "cell_type": "code",
      "source": [
        "# Set requires_grad=True for all parameters\n",
        "for param in model.parameters():\n",
        "    param.requires_grad = True\n",
        "\n",
        "# Adjust the optimizer to include all model parameters\n",
        "optimizer = optim.SGD(model.parameters(), lr=Learning_rate[0], momentum=0.9)\n",
        "\n",
        "num_epochs = 10\n",
        "\n",
        "for epoch in range(num_epochs):\n",
        "    print(f\"Epoch {epoch+1}/{num_epochs}\")\n",
        "    print('-' * 10)\n",
        "\n",
        "    # Training phase\n",
        "    model.train()\n",
        "    running_loss = 0.0\n",
        "\n",
        "    for inputs, labels in train_loader:\n",
        "        inputs = inputs.to(device)\n",
        "        labels = labels.to(device)\n",
        "\n",
        "        optimizer.zero_grad()\n",
        "\n",
        "        outputs = model(inputs)\n",
        "        loss = criterion(outputs, labels)\n",
        "        loss.backward()\n",
        "        optimizer.step()\n",
        "\n",
        "        running_loss += loss.item()\n",
        "\n",
        "    # Validation phase\n",
        "    model.eval()\n",
        "    val_loss = 0.0\n",
        "    correct_preds = 0\n",
        "\n",
        "    with torch.no_grad():\n",
        "        for inputs, labels in val_loader:\n",
        "            inputs = inputs.to(device)\n",
        "            labels = labels.to(device)\n",
        "\n",
        "            outputs = model(inputs)\n",
        "            loss = criterion(outputs, labels)\n",
        "            val_loss += loss.item()\n",
        "\n",
        "            _, preds = torch.max(outputs, 1)\n",
        "            correct_preds += torch.sum(preds == labels.data)\n",
        "\n",
        "    epoch_loss = running_loss / len(train_loader)\n",
        "    epoch_val_loss = val_loss / len(val_loader)\n",
        "    epoch_acc = correct_preds / len(val_loader.dataset)\n",
        "\n",
        "    # Log the learning rate, accuracy, and loss to wandb\n",
        "    # wandb.log({'learning_rate': Learning_rate[0], 'accuracy': epoch_acc, 'loss': epoch_val_loss})\n",
        "\n",
        "    print(f\"Train Loss: {epoch_loss:.4f}\")\n",
        "    print(f\"Val Loss: {epoch_val_loss:.4f}\")\n",
        "    print(f\"Val Accuracy: {epoch_acc:.4f}\")\n",
        "    print()"
      ],
      "metadata": {
        "id": "x9QpIz5GQZht",
        "colab": {
          "base_uri": "https://localhost:8080/"
        },
        "outputId": "ad48e132-cba6-4a36-bc99-1d19bd8e7a8a"
      },
      "execution_count": null,
      "outputs": [
        {
          "output_type": "stream",
          "name": "stdout",
          "text": [
            "Epoch 1/10\n",
            "----------\n",
            "Train Loss: 0.5966\n",
            "Val Loss: 0.6698\n",
            "Val Accuracy: 0.7610\n",
            "\n",
            "Epoch 2/10\n",
            "----------\n",
            "Train Loss: 0.5871\n",
            "Val Loss: 0.6689\n",
            "Val Accuracy: 0.7592\n",
            "\n",
            "Epoch 3/10\n",
            "----------\n",
            "Train Loss: 0.5789\n",
            "Val Loss: 0.6560\n",
            "Val Accuracy: 0.7656\n",
            "\n",
            "Epoch 4/10\n",
            "----------\n",
            "Train Loss: 0.5673\n",
            "Val Loss: 0.6533\n",
            "Val Accuracy: 0.7648\n",
            "\n",
            "Epoch 5/10\n",
            "----------\n",
            "Train Loss: 0.5692\n",
            "Val Loss: 0.6507\n",
            "Val Accuracy: 0.7690\n",
            "\n",
            "Epoch 6/10\n",
            "----------\n",
            "Train Loss: 0.5603\n",
            "Val Loss: 0.6412\n",
            "Val Accuracy: 0.7724\n",
            "\n",
            "Epoch 7/10\n",
            "----------\n",
            "Train Loss: 0.5547\n",
            "Val Loss: 0.6295\n",
            "Val Accuracy: 0.7760\n",
            "\n",
            "Epoch 8/10\n",
            "----------\n",
            "Train Loss: 0.5465\n",
            "Val Loss: 0.6208\n",
            "Val Accuracy: 0.7788\n",
            "\n",
            "Epoch 9/10\n",
            "----------\n",
            "Train Loss: 0.5266\n",
            "Val Loss: 0.6205\n",
            "Val Accuracy: 0.7786\n",
            "\n",
            "Epoch 10/10\n",
            "----------\n",
            "Train Loss: 0.5345\n",
            "Val Loss: 0.6120\n",
            "Val Accuracy: 0.7850\n",
            "\n"
          ]
        }
      ]
    },
    {
      "cell_type": "code",
      "source": [
        "# testing phase\n",
        "model.eval()\n",
        "with torch.no_grad():\n",
        "    running_loss = 0.\n",
        "    running_corrects = 0\n",
        "    for inputs, labels in test_loader:\n",
        "        inputs = inputs.to(device)\n",
        "        labels = labels.to(device)\n",
        "        outputs = model(inputs)\n",
        "        _, preds = torch.max(outputs, 1)\n",
        "        loss = criterion(outputs, labels)\n",
        "        running_loss += loss.item() * inputs.size(0)\n",
        "        running_corrects += torch.sum(preds == labels.data)\n",
        "    epoch_loss = running_loss / len(test_data)\n",
        "    epoch_acc = running_corrects / len(test_data) * 100.\n",
        "    print('[Test #{}] Loss: {:.4f} Acc: {:.4f}% '.format(epoch, epoch_loss, epoch_acc))"
      ],
      "metadata": {
        "colab": {
          "base_uri": "https://localhost:8080/"
        },
        "id": "XSpnkCyV1hdU",
        "outputId": "11d81605-cd0c-4bde-ea79-6fa94b360e59"
      },
      "execution_count": null,
      "outputs": [
        {
          "output_type": "stream",
          "name": "stdout",
          "text": [
            "[Test #5] Loss: 0.6563 Acc: 75.9600% \n"
          ]
        }
      ]
    },
    {
      "cell_type": "markdown",
      "source": [
        "**now we want to measure the model accuracy in `feature extraction` phase.to do this, we first Keep the model parameters frozen for `feature extraction`,then,Adjust the optimizer to only include the parameters of the classifier and finally Run the training and evaluation loop as before.**"
      ],
      "metadata": {
        "id": "iqZIlL7NRLtC"
      }
    },
    {
      "cell_type": "code",
      "source": [
        "# Set requires_grad=False for all parameters except the classifier\n",
        "for name, param in model.named_parameters():\n",
        "    if \"fc\" not in name:\n",
        "        param.requires_grad = False\n",
        "\n",
        "# Adjust the optimizer to only include the parameters of the classifier\n",
        "optimizer = optim.SGD(model.fc.parameters(), lr=Learning_rate[0], momentum=0.9)\n",
        "\n",
        "num_epochs = 10\n",
        "\n",
        "for epoch in range(num_epochs):\n",
        "    print(f\"Epoch {epoch+1}/{num_epochs}\")\n",
        "    print('-' * 10)\n",
        "\n",
        "    # Training phase\n",
        "    model.train()\n",
        "    running_loss = 0.0\n",
        "\n",
        "    for inputs, labels in train_loader:\n",
        "        inputs = inputs.to(device)\n",
        "        labels = labels.to(device)\n",
        "\n",
        "        optimizer.zero_grad()\n",
        "\n",
        "        outputs = model(inputs)\n",
        "        loss = criterion(outputs, labels)\n",
        "        loss.backward()\n",
        "        optimizer.step()\n",
        "\n",
        "        running_loss += loss.item()\n",
        "\n",
        "    # Validation phase\n",
        "    model.eval()\n",
        "    val_loss = 0.0\n",
        "    correct_preds = 0\n",
        "\n",
        "    with torch.no_grad():\n",
        "        for inputs, labels in val_loader:\n",
        "            inputs = inputs.to(device)\n",
        "            labels = labels.to(device)\n",
        "\n",
        "            outputs = model(inputs)\n",
        "            loss = criterion(outputs, labels)\n",
        "            val_loss += loss.item()\n",
        "\n",
        "            _, preds = torch.max(outputs, 1)\n",
        "            correct_preds += torch.sum(preds == labels.data)\n",
        "\n",
        "    epoch_loss = running_loss / len(train_loader)\n",
        "    epoch_val_loss = val_loss / len(val_loader)\n",
        "    epoch_acc = correct_preds / len(val_loader.dataset)\n",
        "\n",
        "    # Log the learning rate, accuracy, and loss to wandb\n",
        "    # wandb.log({'learning_rate': learning_rate, 'accuracy': epoch_acc, 'loss': epoch_val_loss})\n",
        "\n",
        "    print(f\"Train Loss: {epoch_loss:.4f}\")\n",
        "    print(f\"Val Loss: {epoch_val_loss:.4f}\")\n",
        "    print(f\"Val Accuracy: {epoch_acc:.4f}\")\n",
        "    print()"
      ],
      "metadata": {
        "id": "P5pFYXYoRL_k",
        "colab": {
          "base_uri": "https://localhost:8080/"
        },
        "outputId": "f258f779-2db8-4115-cd9a-40f80c1abe7f"
      },
      "execution_count": null,
      "outputs": [
        {
          "output_type": "stream",
          "name": "stdout",
          "text": [
            "Epoch 1/10\n",
            "----------\n",
            "Train Loss: 0.5240\n",
            "Val Loss: 0.6257\n",
            "Val Accuracy: 0.7806\n",
            "\n",
            "Epoch 2/10\n",
            "----------\n",
            "Train Loss: 0.5258\n",
            "Val Loss: 0.6198\n",
            "Val Accuracy: 0.7816\n",
            "\n",
            "Epoch 3/10\n",
            "----------\n",
            "Train Loss: 0.5292\n",
            "Val Loss: 0.6294\n",
            "Val Accuracy: 0.7798\n",
            "\n",
            "Epoch 4/10\n",
            "----------\n",
            "Train Loss: 0.5247\n",
            "Val Loss: 0.6210\n",
            "Val Accuracy: 0.7790\n",
            "\n",
            "Epoch 5/10\n",
            "----------\n",
            "Train Loss: 0.5302\n",
            "Val Loss: 0.6118\n",
            "Val Accuracy: 0.7860\n",
            "\n",
            "Epoch 6/10\n",
            "----------\n",
            "Train Loss: 0.5315\n",
            "Val Loss: 0.6236\n",
            "Val Accuracy: 0.7826\n",
            "\n",
            "Epoch 7/10\n",
            "----------\n",
            "Train Loss: 0.5284\n",
            "Val Loss: 0.6207\n",
            "Val Accuracy: 0.7824\n",
            "\n",
            "Epoch 8/10\n",
            "----------\n",
            "Train Loss: 0.5380\n",
            "Val Loss: 0.6253\n",
            "Val Accuracy: 0.7804\n",
            "\n",
            "Epoch 9/10\n",
            "----------\n",
            "Train Loss: 0.5356\n",
            "Val Loss: 0.6208\n",
            "Val Accuracy: 0.7794\n",
            "\n",
            "Epoch 10/10\n",
            "----------\n",
            "Train Loss: 0.5331\n",
            "Val Loss: 0.6150\n",
            "Val Accuracy: 0.7820\n",
            "\n"
          ]
        }
      ]
    },
    {
      "cell_type": "code",
      "source": [
        "# testing phase\n",
        "model.eval()\n",
        "with torch.no_grad():\n",
        "    running_loss = 0.\n",
        "    running_corrects = 0\n",
        "    for inputs, labels in test_loader:\n",
        "        inputs = inputs.to(device)\n",
        "        labels = labels.to(device)\n",
        "        outputs = model(inputs)\n",
        "        _, preds = torch.max(outputs, 1)\n",
        "        loss = criterion(outputs, labels)\n",
        "        running_loss += loss.item() * inputs.size(0)\n",
        "        running_corrects += torch.sum(preds == labels.data)\n",
        "    epoch_loss = running_loss / len(test_data)\n",
        "    epoch_acc = running_corrects / len(test_data) * 100.\n",
        "    print('[Test #{}] Loss: {:.4f} Acc: {:.4f}% '.format(epoch, epoch_loss, epoch_acc))"
      ],
      "metadata": {
        "colab": {
          "base_uri": "https://localhost:8080/"
        },
        "id": "Jdtrf2Xh2hsz",
        "outputId": "23c30eb4-14c5-4415-e9b0-a2d2063dfdbc"
      },
      "execution_count": null,
      "outputs": [
        {
          "output_type": "stream",
          "name": "stdout",
          "text": [
            "[Test #9] Loss: 0.6583 Acc: 75.7200% \n"
          ]
        }
      ]
    },
    {
      "cell_type": "markdown",
      "source": [
        "# Evaluating Files\n",
        "in the code snippets below we save our evaluating scores into csv file"
      ],
      "metadata": {
        "id": "ChYPm8qx75Dh"
      }
    },
    {
      "cell_type": "code",
      "source": [
        "!pip install wandb"
      ],
      "metadata": {
        "id": "exg4OufQ75Dq"
      },
      "execution_count": null,
      "outputs": []
    },
    {
      "cell_type": "code",
      "source": [
        "import wandb\n",
        "import tensorflow as tf\n",
        "wandb.login()\n",
        "\n",
        "run = wandb.init()\n",
        "artifact = run.use_artifact('mr-srezaei/transfer/run-wm9b88cp-history:v0', type='wandb-history')\n",
        "artifact_dir = artifact.download()\n",
        "\n",
        "best_model = tf.keras.models.load_model(artifact_dir)"
      ],
      "metadata": {
        "id": "4OknJiC_75Dr"
      },
      "execution_count": null,
      "outputs": []
    },
    {
      "cell_type": "code",
      "source": [
        "from os import listdir\n",
        "from os.path import isfile, join, splitext\n",
        "from tqdm import tqdm\n",
        "import numpy as np\n",
        "import csv\n",
        "import pandas as pd\n",
        "\n",
        "# Define your classes\n",
        "classes = ['articulated_truck', 'bus', 'car', 'work_van', 'background']\n",
        "\n",
        "def load_and_preprocess_image(image_path):\n",
        "    # Read image from file\n",
        "    image = tf.io.read_file(image_path)\n",
        "    \n",
        "    # Decode image and convert to desired format\n",
        "    image = tf.image.decode_image(image, channels=3)\n",
        "    \n",
        "    # Resize the image to (128, 128)\n",
        "    image = tf.image.resize(image, [128, 128])\n",
        "    \n",
        "    # Rescale the pixel values to the range [0, 1]\n",
        "    image = image / 255.0\n",
        "    \n",
        "    return image\n",
        "\n",
        "def classify_image(path_to_image):\n",
        "\n",
        "    # Load the image and preprocess it if needed\n",
        "    image = load_and_preprocess_image(path_to_image)\n",
        "\n",
        "    # Make predictions using your trained model\n",
        "    predictions = best_model.predict(np.array([image]))  # Assuming 'model' is your trained model\n",
        "\n",
        "    # Get the predicted label\n",
        "    label_index = np.argmax(predictions[0])\n",
        "    label = classes[label_index]\n",
        "\n",
        "    return label\n",
        "\n",
        "def parse_dataset(path_to_dataset):\n",
        "    '''\n",
        "    Parse every image contained in 'path_to_dataset' (a path to the training\n",
        "    or testing set), classify each image and save in a csv file the resulting\n",
        "    assignment\n",
        "\n",
        "    dataset_result: dict structure returned by the function.  It contains the\n",
        "            label of each image\n",
        "    '''\n",
        "    llist = listdir(path_to_dataset)\n",
        "    dataset_result = {}\n",
        "\n",
        "    for name in tqdm(llist):\n",
        "        dn = join(path_to_dataset, name)\n",
        "        if isfile(dn):\n",
        "            label = classify_image(dn)\n",
        "            file_nb, file_ext = splitext(name)\n",
        "            dataset_result[file_nb] = label\n",
        "\n",
        "        else:\n",
        "            file_list = listdir(dn)\n",
        "            for file_name in file_list:\n",
        "                file_name_with_path = join(dn, file_name)\n",
        "                label = classify_image(file_name_with_path)\n",
        "                file_nb, file_ext = splitext(file_name)\n",
        "                if file_nb in dataset_result.keys():\n",
        "                    print('error! ', file_nb, dataset_result[file_nb], ' vs ', file_name_with_path)\n",
        "                dataset_result[file_nb] = label\n",
        "\n",
        "    return dataset_result\n",
        "\n",
        "def save_classification_result(dataset_result, output_csv_file_name):\n",
        "    '''\n",
        "    save the dataset_result (a dict structure containing the class of every image)\n",
        "    into a valid csv file.\n",
        "    '''\n",
        "\n",
        "    with open(output_csv_file_name, 'w', newline='') as csvfile:\n",
        "        fieldnames = ['file_name', 'class_label']\n",
        "        writer = csv.DictWriter(csvfile, fieldnames=fieldnames)\n",
        "        writer.writeheader()\n",
        "\n",
        "        for file_name, class_label in dataset_result.items():\n",
        "            file_name_without_zeros = file_name.lstrip('0')\n",
        "            writer.writerow({'file_name': file_name_without_zeros, 'class_label': class_label})\n",
        "\n",
        "    csvfile.close()\n",
        "\n",
        "if __name__ == '__main__':\n",
        "    # Specify the path to the test dataset and the output CSV file name\n",
        "    path_to_test_dataset = '/content/sample_data/miotcd/HW02-Practical/Dataset/test'  # Replace with your actual path\n",
        "    output_csv_file_name = 'your_results_transfer_test.csv'  # Replace with your desired output file name\n",
        "\n",
        "    dataset_result = parse_dataset(path_to_test_dataset)\n",
        "    save_classification_result(dataset_result, output_csv_file_name)"
      ],
      "metadata": {
        "id": "AI6-A3_-75Dr"
      },
      "execution_count": null,
      "outputs": []
    },
    {
      "cell_type": "code",
      "source": [
        "import csv\n",
        "from sklearn.metrics import confusion_matrix, cohen_kappa_score, precision_score, recall_score, f1_score\n",
        "import numpy as np\n",
        "\n",
        "def compute_metric(result, gt, classes):\n",
        "    y_true = []\n",
        "    y_pred = []\n",
        "\n",
        "\n",
        "    for img in gt.keys():\n",
        "        if img not in result:\n",
        "            raise ValueError(f\"Image '{img}' missing in the result data.\")\n",
        "        \n",
        "        y_true.append(gt[img])\n",
        "        y_pred.append(result[img])\n",
        "\n",
        "    cm = confusion_matrix(y_true, y_pred, labels=classes)\n",
        "    cks = cohen_kappa_score(y_true, y_pred, labels=classes)\n",
        "    ps = precision_score(y_true, y_pred, average=None)\n",
        "    rs = recall_score(y_true, y_pred, average=None)\n",
        "    fs = f1_score(y_true, y_pred, average=None)\n",
        "\n",
        "    metrics = {}\n",
        "    metrics['confusion matrix'] = cm\n",
        "    metrics['cohen kappa score'] = cks\n",
        "    metrics['precision score'] = ps\n",
        "    metrics['recall score'] = rs\n",
        "    metrics['f1 score'] = fs\n",
        "    metrics['mean recall'] = np.mean(rs)\n",
        "    metrics['mean precision'] = np.mean(ps)\n",
        "    metrics['accuracy'] = np.diagonal(cm).sum() / float(len(y_true))\n",
        "    return metrics\n",
        "\n",
        "def csv_evaluation(gt_file, res_file, classes):\n",
        "    gt = {}\n",
        "    with open(gt_file, 'r') as csv_file:\n",
        "        reader = csv.reader(csv_file, delimiter=',')\n",
        "        for row in reader:\n",
        "            gt[row[0]] = row[1]\n",
        "\n",
        "\n",
        "    results = {}\n",
        "    with open(res_file, 'r') as csv_file:\n",
        "        reader = csv.reader(csv_file, delimiter=',')\n",
        "        for row in reader:\n",
        "            results[row[0]] = row[1]\n",
        "\n",
        "\n",
        "    metrics = compute_metric(results, gt, classes)\n",
        "    return metrics\n",
        "\n",
        "if __name__ == '__main__':\n",
        "    gt_file = '/content/drive/MyDrive/Colab Notebooks/HW-2/gt_test.csv'\n",
        "    res_file = '/content/drive/MyDrive/Colab Notebooks/HW-2/your_results_test.csv'\n",
        "    classes = ['articulated_truck', 'bus', 'car', 'work_van', 'background']  # Provide the list of classes\n",
        "\n",
        "    print('Computing score between', gt_file, 'and', res_file, '\\n')\n",
        "    metrics = csv_evaluation(gt_file, res_file, classes)\n",
        "\n",
        "    for key in metrics.keys():\n",
        "        print(key + ':')\n",
        "        print(metrics[key])\n",
        "        print('\\n')\n"
      ],
      "metadata": {
        "colab": {
          "base_uri": "https://localhost:8080/"
        },
        "outputId": "bb2ca09f-3a97-428e-a2a6-56eb92666663",
        "id": "H0mQOAjo75Ds"
      },
      "execution_count": null,
      "outputs": [
        {
          "output_type": "stream",
          "name": "stdout",
          "text": [
            "Computing score between /content/drive/MyDrive/Colab Notebooks/HW-2/gt_test.csv and /content/drive/MyDrive/Colab Notebooks/HW-2/your_results_test.csv \n",
            "\n",
            "confusion matrix:\n",
            "[[875  46  28  18  33]\n",
            " [ 40   9 913   9  29]\n",
            " [ 53  20  33 738 156]\n",
            " [ 51  61  36  63 789]\n",
            " [ 10 977   2   7   4]]\n",
            "\n",
            "\n",
            "cohen kappa score:\n",
            "-0.0040000000000000036\n",
            "\n",
            "\n",
            "precision score:\n",
            "[0.85034014 0.00395648 0.00808625 0.0326087  0.0754491 ]\n",
            "\n",
            "\n",
            "recall score:\n",
            "[0.875 0.004 0.009 0.033 0.063]\n",
            "\n",
            "\n",
            "f1 score:\n",
            "[0.86249384 0.00397812 0.00851869 0.03280318 0.06866485]\n",
            "\n",
            "\n",
            "mean recall:\n",
            "0.1968\n",
            "\n",
            "\n",
            "mean precision:\n",
            "0.19408813312124037\n",
            "\n",
            "\n",
            "accuracy:\n",
            "0.1968\n",
            "\n",
            "\n"
          ]
        }
      ]
    }
  ],
  "metadata": {
    "accelerator": "GPU",
    "colab": {
      "provenance": [],
      "gpuType": "T4",
      "collapsed_sections": [
        "tE7CuOwvpSlr",
        "bei6FmA1-80Q",
        "vZB64EuwEeaH",
        "iL-Gp126K7_6",
        "A2TkENIEpvmF",
        "A4WLFMQb-nO1",
        "QpKdws56-xSz",
        "ChYPm8qx75Dh"
      ],
      "include_colab_link": true
    },
    "gpuClass": "standard",
    "kernelspec": {
      "display_name": "Python 3",
      "name": "python3"
    },
    "language_info": {
      "name": "python"
    },
    "widgets": {
      "application/vnd.jupyter.widget-state+json": {
        "16e7eaf142c24de298ef72bb74da9521": {
          "model_module": "@jupyter-widgets/controls",
          "model_name": "VBoxModel",
          "model_module_version": "1.5.0",
          "state": {
            "_dom_classes": [],
            "_model_module": "@jupyter-widgets/controls",
            "_model_module_version": "1.5.0",
            "_model_name": "VBoxModel",
            "_view_count": null,
            "_view_module": "@jupyter-widgets/controls",
            "_view_module_version": "1.5.0",
            "_view_name": "VBoxView",
            "box_style": "",
            "children": [
              "IPY_MODEL_ca6439a995574a83bd4131583127f6e8",
              "IPY_MODEL_d8a64efba9694880b23931ea7ac3dd7b"
            ],
            "layout": "IPY_MODEL_3af53fc5aa4a470abe230aef46cdf584"
          }
        },
        "ca6439a995574a83bd4131583127f6e8": {
          "model_module": "@jupyter-widgets/controls",
          "model_name": "LabelModel",
          "model_module_version": "1.5.0",
          "state": {
            "_dom_classes": [],
            "_model_module": "@jupyter-widgets/controls",
            "_model_module_version": "1.5.0",
            "_model_name": "LabelModel",
            "_view_count": null,
            "_view_module": "@jupyter-widgets/controls",
            "_view_module_version": "1.5.0",
            "_view_name": "LabelView",
            "description": "",
            "description_tooltip": null,
            "layout": "IPY_MODEL_1adcce1812a84dffa6e510f1d556644d",
            "placeholder": "​",
            "style": "IPY_MODEL_ce71f5b3dd164f6683cc62cc6931688b",
            "value": "3300.167 MB of 3300.167 MB uploaded (0.205 MB deduped)\r"
          }
        },
        "d8a64efba9694880b23931ea7ac3dd7b": {
          "model_module": "@jupyter-widgets/controls",
          "model_name": "FloatProgressModel",
          "model_module_version": "1.5.0",
          "state": {
            "_dom_classes": [],
            "_model_module": "@jupyter-widgets/controls",
            "_model_module_version": "1.5.0",
            "_model_name": "FloatProgressModel",
            "_view_count": null,
            "_view_module": "@jupyter-widgets/controls",
            "_view_module_version": "1.5.0",
            "_view_name": "ProgressView",
            "bar_style": "",
            "description": "",
            "description_tooltip": null,
            "layout": "IPY_MODEL_69604f7275b34bdca459ccf439217697",
            "max": 1,
            "min": 0,
            "orientation": "horizontal",
            "style": "IPY_MODEL_ff576fc9199443f491b3b9f3e20ec943",
            "value": 1
          }
        },
        "3af53fc5aa4a470abe230aef46cdf584": {
          "model_module": "@jupyter-widgets/base",
          "model_name": "LayoutModel",
          "model_module_version": "1.2.0",
          "state": {
            "_model_module": "@jupyter-widgets/base",
            "_model_module_version": "1.2.0",
            "_model_name": "LayoutModel",
            "_view_count": null,
            "_view_module": "@jupyter-widgets/base",
            "_view_module_version": "1.2.0",
            "_view_name": "LayoutView",
            "align_content": null,
            "align_items": null,
            "align_self": null,
            "border": null,
            "bottom": null,
            "display": null,
            "flex": null,
            "flex_flow": null,
            "grid_area": null,
            "grid_auto_columns": null,
            "grid_auto_flow": null,
            "grid_auto_rows": null,
            "grid_column": null,
            "grid_gap": null,
            "grid_row": null,
            "grid_template_areas": null,
            "grid_template_columns": null,
            "grid_template_rows": null,
            "height": null,
            "justify_content": null,
            "justify_items": null,
            "left": null,
            "margin": null,
            "max_height": null,
            "max_width": null,
            "min_height": null,
            "min_width": null,
            "object_fit": null,
            "object_position": null,
            "order": null,
            "overflow": null,
            "overflow_x": null,
            "overflow_y": null,
            "padding": null,
            "right": null,
            "top": null,
            "visibility": null,
            "width": null
          }
        },
        "1adcce1812a84dffa6e510f1d556644d": {
          "model_module": "@jupyter-widgets/base",
          "model_name": "LayoutModel",
          "model_module_version": "1.2.0",
          "state": {
            "_model_module": "@jupyter-widgets/base",
            "_model_module_version": "1.2.0",
            "_model_name": "LayoutModel",
            "_view_count": null,
            "_view_module": "@jupyter-widgets/base",
            "_view_module_version": "1.2.0",
            "_view_name": "LayoutView",
            "align_content": null,
            "align_items": null,
            "align_self": null,
            "border": null,
            "bottom": null,
            "display": null,
            "flex": null,
            "flex_flow": null,
            "grid_area": null,
            "grid_auto_columns": null,
            "grid_auto_flow": null,
            "grid_auto_rows": null,
            "grid_column": null,
            "grid_gap": null,
            "grid_row": null,
            "grid_template_areas": null,
            "grid_template_columns": null,
            "grid_template_rows": null,
            "height": null,
            "justify_content": null,
            "justify_items": null,
            "left": null,
            "margin": null,
            "max_height": null,
            "max_width": null,
            "min_height": null,
            "min_width": null,
            "object_fit": null,
            "object_position": null,
            "order": null,
            "overflow": null,
            "overflow_x": null,
            "overflow_y": null,
            "padding": null,
            "right": null,
            "top": null,
            "visibility": null,
            "width": null
          }
        },
        "ce71f5b3dd164f6683cc62cc6931688b": {
          "model_module": "@jupyter-widgets/controls",
          "model_name": "DescriptionStyleModel",
          "model_module_version": "1.5.0",
          "state": {
            "_model_module": "@jupyter-widgets/controls",
            "_model_module_version": "1.5.0",
            "_model_name": "DescriptionStyleModel",
            "_view_count": null,
            "_view_module": "@jupyter-widgets/base",
            "_view_module_version": "1.2.0",
            "_view_name": "StyleView",
            "description_width": ""
          }
        },
        "69604f7275b34bdca459ccf439217697": {
          "model_module": "@jupyter-widgets/base",
          "model_name": "LayoutModel",
          "model_module_version": "1.2.0",
          "state": {
            "_model_module": "@jupyter-widgets/base",
            "_model_module_version": "1.2.0",
            "_model_name": "LayoutModel",
            "_view_count": null,
            "_view_module": "@jupyter-widgets/base",
            "_view_module_version": "1.2.0",
            "_view_name": "LayoutView",
            "align_content": null,
            "align_items": null,
            "align_self": null,
            "border": null,
            "bottom": null,
            "display": null,
            "flex": null,
            "flex_flow": null,
            "grid_area": null,
            "grid_auto_columns": null,
            "grid_auto_flow": null,
            "grid_auto_rows": null,
            "grid_column": null,
            "grid_gap": null,
            "grid_row": null,
            "grid_template_areas": null,
            "grid_template_columns": null,
            "grid_template_rows": null,
            "height": null,
            "justify_content": null,
            "justify_items": null,
            "left": null,
            "margin": null,
            "max_height": null,
            "max_width": null,
            "min_height": null,
            "min_width": null,
            "object_fit": null,
            "object_position": null,
            "order": null,
            "overflow": null,
            "overflow_x": null,
            "overflow_y": null,
            "padding": null,
            "right": null,
            "top": null,
            "visibility": null,
            "width": null
          }
        },
        "ff576fc9199443f491b3b9f3e20ec943": {
          "model_module": "@jupyter-widgets/controls",
          "model_name": "ProgressStyleModel",
          "model_module_version": "1.5.0",
          "state": {
            "_model_module": "@jupyter-widgets/controls",
            "_model_module_version": "1.5.0",
            "_model_name": "ProgressStyleModel",
            "_view_count": null,
            "_view_module": "@jupyter-widgets/base",
            "_view_module_version": "1.2.0",
            "_view_name": "StyleView",
            "bar_color": null,
            "description_width": ""
          }
        },
        "f6d8c04db4804fb3a9c8cfe0c7a42fb5": {
          "model_module": "@jupyter-widgets/controls",
          "model_name": "VBoxModel",
          "model_module_version": "1.5.0",
          "state": {
            "_dom_classes": [],
            "_model_module": "@jupyter-widgets/controls",
            "_model_module_version": "1.5.0",
            "_model_name": "VBoxModel",
            "_view_count": null,
            "_view_module": "@jupyter-widgets/controls",
            "_view_module_version": "1.5.0",
            "_view_name": "VBoxView",
            "box_style": "",
            "children": [
              "IPY_MODEL_06637f43f8d644a59357c3003893ccca",
              "IPY_MODEL_17c9816ee1c0484a8370cbb12e341479"
            ],
            "layout": "IPY_MODEL_b3dadb2d66b649dcb087dabaa5852b1a"
          }
        },
        "06637f43f8d644a59357c3003893ccca": {
          "model_module": "@jupyter-widgets/controls",
          "model_name": "LabelModel",
          "model_module_version": "1.5.0",
          "state": {
            "_dom_classes": [],
            "_model_module": "@jupyter-widgets/controls",
            "_model_module_version": "1.5.0",
            "_model_name": "LabelModel",
            "_view_count": null,
            "_view_module": "@jupyter-widgets/controls",
            "_view_module_version": "1.5.0",
            "_view_name": "LabelView",
            "description": "",
            "description_tooltip": null,
            "layout": "IPY_MODEL_87f45cb23d5a4108944731a102b06c5e",
            "placeholder": "​",
            "style": "IPY_MODEL_355b80d8e783431fa641c91538825646",
            "value": "Waiting for wandb.init()...\r"
          }
        },
        "17c9816ee1c0484a8370cbb12e341479": {
          "model_module": "@jupyter-widgets/controls",
          "model_name": "FloatProgressModel",
          "model_module_version": "1.5.0",
          "state": {
            "_dom_classes": [],
            "_model_module": "@jupyter-widgets/controls",
            "_model_module_version": "1.5.0",
            "_model_name": "FloatProgressModel",
            "_view_count": null,
            "_view_module": "@jupyter-widgets/controls",
            "_view_module_version": "1.5.0",
            "_view_name": "ProgressView",
            "bar_style": "",
            "description": "",
            "description_tooltip": null,
            "layout": "IPY_MODEL_c660a6f72b0b4b15aa65a2a13da078a1",
            "max": 1,
            "min": 0,
            "orientation": "horizontal",
            "style": "IPY_MODEL_6faed737e52d49f7b86c99d4a769d32d",
            "value": 1
          }
        },
        "b3dadb2d66b649dcb087dabaa5852b1a": {
          "model_module": "@jupyter-widgets/base",
          "model_name": "LayoutModel",
          "model_module_version": "1.2.0",
          "state": {
            "_model_module": "@jupyter-widgets/base",
            "_model_module_version": "1.2.0",
            "_model_name": "LayoutModel",
            "_view_count": null,
            "_view_module": "@jupyter-widgets/base",
            "_view_module_version": "1.2.0",
            "_view_name": "LayoutView",
            "align_content": null,
            "align_items": null,
            "align_self": null,
            "border": null,
            "bottom": null,
            "display": null,
            "flex": null,
            "flex_flow": null,
            "grid_area": null,
            "grid_auto_columns": null,
            "grid_auto_flow": null,
            "grid_auto_rows": null,
            "grid_column": null,
            "grid_gap": null,
            "grid_row": null,
            "grid_template_areas": null,
            "grid_template_columns": null,
            "grid_template_rows": null,
            "height": null,
            "justify_content": null,
            "justify_items": null,
            "left": null,
            "margin": null,
            "max_height": null,
            "max_width": null,
            "min_height": null,
            "min_width": null,
            "object_fit": null,
            "object_position": null,
            "order": null,
            "overflow": null,
            "overflow_x": null,
            "overflow_y": null,
            "padding": null,
            "right": null,
            "top": null,
            "visibility": null,
            "width": null
          }
        },
        "87f45cb23d5a4108944731a102b06c5e": {
          "model_module": "@jupyter-widgets/base",
          "model_name": "LayoutModel",
          "model_module_version": "1.2.0",
          "state": {
            "_model_module": "@jupyter-widgets/base",
            "_model_module_version": "1.2.0",
            "_model_name": "LayoutModel",
            "_view_count": null,
            "_view_module": "@jupyter-widgets/base",
            "_view_module_version": "1.2.0",
            "_view_name": "LayoutView",
            "align_content": null,
            "align_items": null,
            "align_self": null,
            "border": null,
            "bottom": null,
            "display": null,
            "flex": null,
            "flex_flow": null,
            "grid_area": null,
            "grid_auto_columns": null,
            "grid_auto_flow": null,
            "grid_auto_rows": null,
            "grid_column": null,
            "grid_gap": null,
            "grid_row": null,
            "grid_template_areas": null,
            "grid_template_columns": null,
            "grid_template_rows": null,
            "height": null,
            "justify_content": null,
            "justify_items": null,
            "left": null,
            "margin": null,
            "max_height": null,
            "max_width": null,
            "min_height": null,
            "min_width": null,
            "object_fit": null,
            "object_position": null,
            "order": null,
            "overflow": null,
            "overflow_x": null,
            "overflow_y": null,
            "padding": null,
            "right": null,
            "top": null,
            "visibility": null,
            "width": null
          }
        },
        "355b80d8e783431fa641c91538825646": {
          "model_module": "@jupyter-widgets/controls",
          "model_name": "DescriptionStyleModel",
          "model_module_version": "1.5.0",
          "state": {
            "_model_module": "@jupyter-widgets/controls",
            "_model_module_version": "1.5.0",
            "_model_name": "DescriptionStyleModel",
            "_view_count": null,
            "_view_module": "@jupyter-widgets/base",
            "_view_module_version": "1.2.0",
            "_view_name": "StyleView",
            "description_width": ""
          }
        },
        "c660a6f72b0b4b15aa65a2a13da078a1": {
          "model_module": "@jupyter-widgets/base",
          "model_name": "LayoutModel",
          "model_module_version": "1.2.0",
          "state": {
            "_model_module": "@jupyter-widgets/base",
            "_model_module_version": "1.2.0",
            "_model_name": "LayoutModel",
            "_view_count": null,
            "_view_module": "@jupyter-widgets/base",
            "_view_module_version": "1.2.0",
            "_view_name": "LayoutView",
            "align_content": null,
            "align_items": null,
            "align_self": null,
            "border": null,
            "bottom": null,
            "display": null,
            "flex": null,
            "flex_flow": null,
            "grid_area": null,
            "grid_auto_columns": null,
            "grid_auto_flow": null,
            "grid_auto_rows": null,
            "grid_column": null,
            "grid_gap": null,
            "grid_row": null,
            "grid_template_areas": null,
            "grid_template_columns": null,
            "grid_template_rows": null,
            "height": null,
            "justify_content": null,
            "justify_items": null,
            "left": null,
            "margin": null,
            "max_height": null,
            "max_width": null,
            "min_height": null,
            "min_width": null,
            "object_fit": null,
            "object_position": null,
            "order": null,
            "overflow": null,
            "overflow_x": null,
            "overflow_y": null,
            "padding": null,
            "right": null,
            "top": null,
            "visibility": null,
            "width": null
          }
        },
        "6faed737e52d49f7b86c99d4a769d32d": {
          "model_module": "@jupyter-widgets/controls",
          "model_name": "ProgressStyleModel",
          "model_module_version": "1.5.0",
          "state": {
            "_model_module": "@jupyter-widgets/controls",
            "_model_module_version": "1.5.0",
            "_model_name": "ProgressStyleModel",
            "_view_count": null,
            "_view_module": "@jupyter-widgets/base",
            "_view_module_version": "1.2.0",
            "_view_name": "StyleView",
            "bar_color": null,
            "description_width": ""
          }
        },
        "302e935261f5437fbc40b5ce8c78087c": {
          "model_module": "@jupyter-widgets/controls",
          "model_name": "VBoxModel",
          "model_module_version": "1.5.0",
          "state": {
            "_dom_classes": [],
            "_model_module": "@jupyter-widgets/controls",
            "_model_module_version": "1.5.0",
            "_model_name": "VBoxModel",
            "_view_count": null,
            "_view_module": "@jupyter-widgets/controls",
            "_view_module_version": "1.5.0",
            "_view_name": "VBoxView",
            "box_style": "",
            "children": [
              "IPY_MODEL_fe3da5e5149c462a99fc531f1640288c",
              "IPY_MODEL_86faad36536743028244debad6438975"
            ],
            "layout": "IPY_MODEL_6303f379d9f943218da97417430ad13e"
          }
        },
        "fe3da5e5149c462a99fc531f1640288c": {
          "model_module": "@jupyter-widgets/controls",
          "model_name": "LabelModel",
          "model_module_version": "1.5.0",
          "state": {
            "_dom_classes": [],
            "_model_module": "@jupyter-widgets/controls",
            "_model_module_version": "1.5.0",
            "_model_name": "LabelModel",
            "_view_count": null,
            "_view_module": "@jupyter-widgets/controls",
            "_view_module_version": "1.5.0",
            "_view_name": "LabelView",
            "description": "",
            "description_tooltip": null,
            "layout": "IPY_MODEL_b83860649e354f7eac782ee94f23ae88",
            "placeholder": "​",
            "style": "IPY_MODEL_9872f69a144c481c8e2ed659b1691b58",
            "value": "0.010 MB of 0.010 MB uploaded (0.000 MB deduped)\r"
          }
        },
        "86faad36536743028244debad6438975": {
          "model_module": "@jupyter-widgets/controls",
          "model_name": "FloatProgressModel",
          "model_module_version": "1.5.0",
          "state": {
            "_dom_classes": [],
            "_model_module": "@jupyter-widgets/controls",
            "_model_module_version": "1.5.0",
            "_model_name": "FloatProgressModel",
            "_view_count": null,
            "_view_module": "@jupyter-widgets/controls",
            "_view_module_version": "1.5.0",
            "_view_name": "ProgressView",
            "bar_style": "",
            "description": "",
            "description_tooltip": null,
            "layout": "IPY_MODEL_f6588ccdc1bf46359e16a9b2bbe302ac",
            "max": 1,
            "min": 0,
            "orientation": "horizontal",
            "style": "IPY_MODEL_a9d7bc2cf3a44e93a328899988cc7281",
            "value": 1
          }
        },
        "6303f379d9f943218da97417430ad13e": {
          "model_module": "@jupyter-widgets/base",
          "model_name": "LayoutModel",
          "model_module_version": "1.2.0",
          "state": {
            "_model_module": "@jupyter-widgets/base",
            "_model_module_version": "1.2.0",
            "_model_name": "LayoutModel",
            "_view_count": null,
            "_view_module": "@jupyter-widgets/base",
            "_view_module_version": "1.2.0",
            "_view_name": "LayoutView",
            "align_content": null,
            "align_items": null,
            "align_self": null,
            "border": null,
            "bottom": null,
            "display": null,
            "flex": null,
            "flex_flow": null,
            "grid_area": null,
            "grid_auto_columns": null,
            "grid_auto_flow": null,
            "grid_auto_rows": null,
            "grid_column": null,
            "grid_gap": null,
            "grid_row": null,
            "grid_template_areas": null,
            "grid_template_columns": null,
            "grid_template_rows": null,
            "height": null,
            "justify_content": null,
            "justify_items": null,
            "left": null,
            "margin": null,
            "max_height": null,
            "max_width": null,
            "min_height": null,
            "min_width": null,
            "object_fit": null,
            "object_position": null,
            "order": null,
            "overflow": null,
            "overflow_x": null,
            "overflow_y": null,
            "padding": null,
            "right": null,
            "top": null,
            "visibility": null,
            "width": null
          }
        },
        "b83860649e354f7eac782ee94f23ae88": {
          "model_module": "@jupyter-widgets/base",
          "model_name": "LayoutModel",
          "model_module_version": "1.2.0",
          "state": {
            "_model_module": "@jupyter-widgets/base",
            "_model_module_version": "1.2.0",
            "_model_name": "LayoutModel",
            "_view_count": null,
            "_view_module": "@jupyter-widgets/base",
            "_view_module_version": "1.2.0",
            "_view_name": "LayoutView",
            "align_content": null,
            "align_items": null,
            "align_self": null,
            "border": null,
            "bottom": null,
            "display": null,
            "flex": null,
            "flex_flow": null,
            "grid_area": null,
            "grid_auto_columns": null,
            "grid_auto_flow": null,
            "grid_auto_rows": null,
            "grid_column": null,
            "grid_gap": null,
            "grid_row": null,
            "grid_template_areas": null,
            "grid_template_columns": null,
            "grid_template_rows": null,
            "height": null,
            "justify_content": null,
            "justify_items": null,
            "left": null,
            "margin": null,
            "max_height": null,
            "max_width": null,
            "min_height": null,
            "min_width": null,
            "object_fit": null,
            "object_position": null,
            "order": null,
            "overflow": null,
            "overflow_x": null,
            "overflow_y": null,
            "padding": null,
            "right": null,
            "top": null,
            "visibility": null,
            "width": null
          }
        },
        "9872f69a144c481c8e2ed659b1691b58": {
          "model_module": "@jupyter-widgets/controls",
          "model_name": "DescriptionStyleModel",
          "model_module_version": "1.5.0",
          "state": {
            "_model_module": "@jupyter-widgets/controls",
            "_model_module_version": "1.5.0",
            "_model_name": "DescriptionStyleModel",
            "_view_count": null,
            "_view_module": "@jupyter-widgets/base",
            "_view_module_version": "1.2.0",
            "_view_name": "StyleView",
            "description_width": ""
          }
        },
        "f6588ccdc1bf46359e16a9b2bbe302ac": {
          "model_module": "@jupyter-widgets/base",
          "model_name": "LayoutModel",
          "model_module_version": "1.2.0",
          "state": {
            "_model_module": "@jupyter-widgets/base",
            "_model_module_version": "1.2.0",
            "_model_name": "LayoutModel",
            "_view_count": null,
            "_view_module": "@jupyter-widgets/base",
            "_view_module_version": "1.2.0",
            "_view_name": "LayoutView",
            "align_content": null,
            "align_items": null,
            "align_self": null,
            "border": null,
            "bottom": null,
            "display": null,
            "flex": null,
            "flex_flow": null,
            "grid_area": null,
            "grid_auto_columns": null,
            "grid_auto_flow": null,
            "grid_auto_rows": null,
            "grid_column": null,
            "grid_gap": null,
            "grid_row": null,
            "grid_template_areas": null,
            "grid_template_columns": null,
            "grid_template_rows": null,
            "height": null,
            "justify_content": null,
            "justify_items": null,
            "left": null,
            "margin": null,
            "max_height": null,
            "max_width": null,
            "min_height": null,
            "min_width": null,
            "object_fit": null,
            "object_position": null,
            "order": null,
            "overflow": null,
            "overflow_x": null,
            "overflow_y": null,
            "padding": null,
            "right": null,
            "top": null,
            "visibility": null,
            "width": null
          }
        },
        "a9d7bc2cf3a44e93a328899988cc7281": {
          "model_module": "@jupyter-widgets/controls",
          "model_name": "ProgressStyleModel",
          "model_module_version": "1.5.0",
          "state": {
            "_model_module": "@jupyter-widgets/controls",
            "_model_module_version": "1.5.0",
            "_model_name": "ProgressStyleModel",
            "_view_count": null,
            "_view_module": "@jupyter-widgets/base",
            "_view_module_version": "1.2.0",
            "_view_name": "StyleView",
            "bar_color": null,
            "description_width": ""
          }
        },
        "94b737a9ced84a2581e0ef718175ec35": {
          "model_module": "@jupyter-widgets/controls",
          "model_name": "VBoxModel",
          "model_module_version": "1.5.0",
          "state": {
            "_dom_classes": [],
            "_model_module": "@jupyter-widgets/controls",
            "_model_module_version": "1.5.0",
            "_model_name": "VBoxModel",
            "_view_count": null,
            "_view_module": "@jupyter-widgets/controls",
            "_view_module_version": "1.5.0",
            "_view_name": "VBoxView",
            "box_style": "",
            "children": [
              "IPY_MODEL_859ef28efe9f4c8b80c595d2cef02aab",
              "IPY_MODEL_4865f61492c9441696b2ee89d44731e6"
            ],
            "layout": "IPY_MODEL_6d8f95fcb3904dcdad6944fc10f3781e"
          }
        },
        "859ef28efe9f4c8b80c595d2cef02aab": {
          "model_module": "@jupyter-widgets/controls",
          "model_name": "LabelModel",
          "model_module_version": "1.5.0",
          "state": {
            "_dom_classes": [],
            "_model_module": "@jupyter-widgets/controls",
            "_model_module_version": "1.5.0",
            "_model_name": "LabelModel",
            "_view_count": null,
            "_view_module": "@jupyter-widgets/controls",
            "_view_module_version": "1.5.0",
            "_view_name": "LabelView",
            "description": "",
            "description_tooltip": null,
            "layout": "IPY_MODEL_36a052297ca44de68977b3ce98e28f24",
            "placeholder": "​",
            "style": "IPY_MODEL_f4a6630e6a7d47ea91365f76a24ae5b6",
            "value": "0.010 MB of 0.010 MB uploaded (0.000 MB deduped)\r"
          }
        },
        "4865f61492c9441696b2ee89d44731e6": {
          "model_module": "@jupyter-widgets/controls",
          "model_name": "FloatProgressModel",
          "model_module_version": "1.5.0",
          "state": {
            "_dom_classes": [],
            "_model_module": "@jupyter-widgets/controls",
            "_model_module_version": "1.5.0",
            "_model_name": "FloatProgressModel",
            "_view_count": null,
            "_view_module": "@jupyter-widgets/controls",
            "_view_module_version": "1.5.0",
            "_view_name": "ProgressView",
            "bar_style": "",
            "description": "",
            "description_tooltip": null,
            "layout": "IPY_MODEL_02df1027693d49d0b2e07ca236331ff6",
            "max": 1,
            "min": 0,
            "orientation": "horizontal",
            "style": "IPY_MODEL_b88d9060967a4ffd97a137067398c690",
            "value": 1
          }
        },
        "6d8f95fcb3904dcdad6944fc10f3781e": {
          "model_module": "@jupyter-widgets/base",
          "model_name": "LayoutModel",
          "model_module_version": "1.2.0",
          "state": {
            "_model_module": "@jupyter-widgets/base",
            "_model_module_version": "1.2.0",
            "_model_name": "LayoutModel",
            "_view_count": null,
            "_view_module": "@jupyter-widgets/base",
            "_view_module_version": "1.2.0",
            "_view_name": "LayoutView",
            "align_content": null,
            "align_items": null,
            "align_self": null,
            "border": null,
            "bottom": null,
            "display": null,
            "flex": null,
            "flex_flow": null,
            "grid_area": null,
            "grid_auto_columns": null,
            "grid_auto_flow": null,
            "grid_auto_rows": null,
            "grid_column": null,
            "grid_gap": null,
            "grid_row": null,
            "grid_template_areas": null,
            "grid_template_columns": null,
            "grid_template_rows": null,
            "height": null,
            "justify_content": null,
            "justify_items": null,
            "left": null,
            "margin": null,
            "max_height": null,
            "max_width": null,
            "min_height": null,
            "min_width": null,
            "object_fit": null,
            "object_position": null,
            "order": null,
            "overflow": null,
            "overflow_x": null,
            "overflow_y": null,
            "padding": null,
            "right": null,
            "top": null,
            "visibility": null,
            "width": null
          }
        },
        "36a052297ca44de68977b3ce98e28f24": {
          "model_module": "@jupyter-widgets/base",
          "model_name": "LayoutModel",
          "model_module_version": "1.2.0",
          "state": {
            "_model_module": "@jupyter-widgets/base",
            "_model_module_version": "1.2.0",
            "_model_name": "LayoutModel",
            "_view_count": null,
            "_view_module": "@jupyter-widgets/base",
            "_view_module_version": "1.2.0",
            "_view_name": "LayoutView",
            "align_content": null,
            "align_items": null,
            "align_self": null,
            "border": null,
            "bottom": null,
            "display": null,
            "flex": null,
            "flex_flow": null,
            "grid_area": null,
            "grid_auto_columns": null,
            "grid_auto_flow": null,
            "grid_auto_rows": null,
            "grid_column": null,
            "grid_gap": null,
            "grid_row": null,
            "grid_template_areas": null,
            "grid_template_columns": null,
            "grid_template_rows": null,
            "height": null,
            "justify_content": null,
            "justify_items": null,
            "left": null,
            "margin": null,
            "max_height": null,
            "max_width": null,
            "min_height": null,
            "min_width": null,
            "object_fit": null,
            "object_position": null,
            "order": null,
            "overflow": null,
            "overflow_x": null,
            "overflow_y": null,
            "padding": null,
            "right": null,
            "top": null,
            "visibility": null,
            "width": null
          }
        },
        "f4a6630e6a7d47ea91365f76a24ae5b6": {
          "model_module": "@jupyter-widgets/controls",
          "model_name": "DescriptionStyleModel",
          "model_module_version": "1.5.0",
          "state": {
            "_model_module": "@jupyter-widgets/controls",
            "_model_module_version": "1.5.0",
            "_model_name": "DescriptionStyleModel",
            "_view_count": null,
            "_view_module": "@jupyter-widgets/base",
            "_view_module_version": "1.2.0",
            "_view_name": "StyleView",
            "description_width": ""
          }
        },
        "02df1027693d49d0b2e07ca236331ff6": {
          "model_module": "@jupyter-widgets/base",
          "model_name": "LayoutModel",
          "model_module_version": "1.2.0",
          "state": {
            "_model_module": "@jupyter-widgets/base",
            "_model_module_version": "1.2.0",
            "_model_name": "LayoutModel",
            "_view_count": null,
            "_view_module": "@jupyter-widgets/base",
            "_view_module_version": "1.2.0",
            "_view_name": "LayoutView",
            "align_content": null,
            "align_items": null,
            "align_self": null,
            "border": null,
            "bottom": null,
            "display": null,
            "flex": null,
            "flex_flow": null,
            "grid_area": null,
            "grid_auto_columns": null,
            "grid_auto_flow": null,
            "grid_auto_rows": null,
            "grid_column": null,
            "grid_gap": null,
            "grid_row": null,
            "grid_template_areas": null,
            "grid_template_columns": null,
            "grid_template_rows": null,
            "height": null,
            "justify_content": null,
            "justify_items": null,
            "left": null,
            "margin": null,
            "max_height": null,
            "max_width": null,
            "min_height": null,
            "min_width": null,
            "object_fit": null,
            "object_position": null,
            "order": null,
            "overflow": null,
            "overflow_x": null,
            "overflow_y": null,
            "padding": null,
            "right": null,
            "top": null,
            "visibility": null,
            "width": null
          }
        },
        "b88d9060967a4ffd97a137067398c690": {
          "model_module": "@jupyter-widgets/controls",
          "model_name": "ProgressStyleModel",
          "model_module_version": "1.5.0",
          "state": {
            "_model_module": "@jupyter-widgets/controls",
            "_model_module_version": "1.5.0",
            "_model_name": "ProgressStyleModel",
            "_view_count": null,
            "_view_module": "@jupyter-widgets/base",
            "_view_module_version": "1.2.0",
            "_view_name": "StyleView",
            "bar_color": null,
            "description_width": ""
          }
        }
      }
    }
  },
  "nbformat": 4,
  "nbformat_minor": 0
}